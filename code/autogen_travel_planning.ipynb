{
 "cells": [
  {
   "cell_type": "markdown",
   "id": "1eec36e0-4a8e-45c6-acc7-c20d4b722472",
   "metadata": {},
   "source": [
    "# Travel Planning"
   ]
  },
  {
   "cell_type": "markdown",
   "id": "14d252bd-7bfe-4b35-ab55-c205cefc3fdf",
   "metadata": {},
   "source": [
    "## 패키지 설치"
   ]
  },
  {
   "cell_type": "code",
   "execution_count": 4,
   "id": "3d318bc9-e80a-44a3-b14a-5c8a7d4d0309",
   "metadata": {},
   "outputs": [
    {
     "name": "stdout",
     "output_type": "stream",
     "text": [
      "Note: you may need to restart the kernel to use updated packages.\n"
     ]
    },
    {
     "name": "stderr",
     "output_type": "stream",
     "text": [
      "ERROR: pip's dependency resolver does not currently take into account all the packages that are installed. This behaviour is the source of the following dependency conflicts.\n",
      "autogenstudio 0.4.2 requires autogen-agentchat<0.5,>=0.4.9.2, but you have autogen-agentchat 0.5.1 which is incompatible.\n",
      "autogenstudio 0.4.2 requires autogen-core<0.5,>=0.4.9.2, but you have autogen-core 0.5.1 which is incompatible.\n",
      "autogenstudio 0.4.2 requires autogen-ext[azure,magentic-one,openai]<0.5,>=0.4.2, but you have autogen-ext 0.5.1 which is incompatible.\n",
      "\n",
      "[notice] A new release of pip is available: 24.2 -> 25.0.1\n",
      "[notice] To update, run: python.exe -m pip install --upgrade pip\n"
     ]
    },
    {
     "name": "stdout",
     "output_type": "stream",
     "text": [
      "Note: you may need to restart the kernel to use updated packages.\n"
     ]
    },
    {
     "name": "stderr",
     "output_type": "stream",
     "text": [
      "\n",
      "[notice] A new release of pip is available: 24.2 -> 25.0.1\n",
      "[notice] To update, run: python.exe -m pip install --upgrade pip\n"
     ]
    }
   ],
   "source": [
    "# Install AgentChat and OpenAI client from Extensions\n",
    "%pip install -qU \"autogen-agentchat\" \"autogen-ext[openai]\"\n",
    "# Install AutoGen Studio for no-code GUI\n",
    "%pip install -qU \"autogenstudio\""
   ]
  },
  {
   "cell_type": "code",
   "execution_count": 13,
   "id": "e4a57126-5eae-4c17-9f3a-4aac31cdf87a",
   "metadata": {},
   "outputs": [],
   "source": [
    "from autogen_agentchat.agents import AssistantAgent\n",
    "from autogen_agentchat.conditions import TextMentionTermination\n",
    "from autogen_agentchat.teams import RoundRobinGroupChat\n",
    "from autogen_agentchat.ui import Console\n",
    "from autogen_ext.models.openai import OpenAIChatCompletionClient\n",
    "\n",
    "model_client = OpenAIChatCompletionClient(model=\"gpt-4o\")"
   ]
  },
  {
   "cell_type": "markdown",
   "id": "4e0cf9c6-2559-4c38-99d5-e4b372af9848",
   "metadata": {},
   "source": [
    "## Agent 정의"
   ]
  },
  {
   "cell_type": "code",
   "execution_count": 14,
   "id": "bb0636b9-81c6-4984-9593-d5871a683515",
   "metadata": {},
   "outputs": [],
   "source": [
    "planner_agent = AssistantAgent(\n",
    "    \"planner_agent\",\n",
    "    model_client=model_client,\n",
    "    description=\"여행을 계획할 수 있는 유용한 도우미입니다.\",\n",
    "    system_message=\"당신은 사용자의 요청에 따라 여행 계획을 제안할 수 있는 유용한 도우미입니다.\",\n",
    ")\n",
    "\n",
    "local_agent = AssistantAgent(\n",
    "    \"local_agent\",\n",
    "    model_client=model_client,\n",
    "    description=\"지역 활동이나 방문할 장소를 제안할 수 있는 지역 도우미입니다.\",\n",
    "    system_message=\"당신은 사용자에게 정통하고 흥미로운 지역 활동이나 방문할 장소를 제안하고 제공된 모든 맥락 정보를 활용할 수 있는 유용한 도우미입니다.\",\n",
    ")\n",
    "\n",
    "language_agent = AssistantAgent(\n",
    "    \"language_agent\",\n",
    "    model_client=model_client,\n",
    "    description=\"지정된 목적지에 대한 언어 팁을 제공할 수 있는 유용한 도우미입니다.\",\n",
    "    system_message=\"당신은 여행 계획을 검토하고 지정된 목적지의 언어 또는 커뮤니케이션 문제를 가장 잘 해결하는 방법에 대한 중요/중요한 팁에 대한 피드백을 제공할 수 있는 유용한 도우미입니다. 계획에 이미 언어 팁이 포함되어 있는 경우, 그 계획이 만족스럽고 그 이유를 설명할 수 있습니다.\",\n",
    ")\n",
    "\n",
    "travel_summary_agent = AssistantAgent(\n",
    "    \"travel_summary_agent\",\n",
    "    model_client=model_client,\n",
    "    description=\"여행 계획을 요약할 수 있는 유용한 도우미입니다.\",\n",
    "    system_message=\"당신은 다른 에이전트의 모든 제안과 조언을 수용하고 자세한 최종 여행 계획을 제공할 수 있는 유용한 도우미입니다. 최종 계획이 통합되고 완전한지 확인해야 합니다. 최종 응답은 완전한 계획이어야 합니다. 계획이 완료되고 모든 관점이 통합되면 TERMINATE로 응답할 수 있습니다.\",\n",
    ")"
   ]
  },
  {
   "cell_type": "markdown",
   "id": "a5c8df51-d32c-44cb-b27a-39681411a0e8",
   "metadata": {},
   "source": [
    "## Agent 실행"
   ]
  },
  {
   "cell_type": "code",
   "execution_count": 15,
   "id": "5b141a82-8391-4b61-ba09-190096f9cc5a",
   "metadata": {},
   "outputs": [
    {
     "name": "stdout",
     "output_type": "stream",
     "text": [
      "---------- user ----------\n",
      "이탈리아 7일간 여행 계획\n",
      "---------- planner_agent ----------\n",
      "이탈리아는 아름다운 풍경, 역사적인 명소, 맛있는 음식이 가득한 멋진 여행지입니다. 7일 동안의 여행 일정은 각 도시의 하이라이트를 경험하고 다양한 문화와 지역 음식을 즐길 수 있도록 짜여져야 합니다. 이 일정은 로마, 피렌체, 베네치아를 포함한 주요 도시들을 방문하는 것으로 구성되어 있습니다. \n",
      "\n",
      "### 1일차: 로마 (Rome)\n",
      "- **도착**: 로마에 도착합니다. 호텔에 체크인하고 짐을 풀어요.\n",
      "- **콜로세움 (Colosseum)**: 고대 로마의 원형극장을 탐방합니다.\n",
      "- **포로 로마노 (Roman Forum)**: 가까운 곳에 위치한 고대 로마의 정치, 사회 중심지를 둘러봅니다.\n",
      "- **트레비 분수 (Trevi Fountain)**: 저녁 산책하며 분수에 동전을 던져 소원을 빌어보세요.\n",
      "- **저녁 식사**: 전통 이탈리안 레스토랑에서 피자나 파스타를 맛보세요.\n",
      "\n",
      "### 2일차: 로마\n",
      "- **바티칸 시국 (Vatican City)**: 성 베드로 대성당과 시스티나 성당을 관람합니다.\n",
      "- **바티칸 박물관**: 라파엘로의 방과 다양한 예술 작품들을 감상합니다.\n",
      "- **스페인 계단 (Spanish Steps)**: 인근에 있는 쇼핑 지역과 함께 둘러보세요.\n",
      "- **저녁 식사**: 트라스테베레(Trastevere) 지역에서 여유롭게 식사를 즐깁니다.\n",
      "\n",
      "### 3일차: 피렌체 (Florence)\n",
      "- **이동**: 기차로 피렌체로 이동합니다. (약 1.5시간 소요)\n",
      "- **두오모 (Duomo)**: 산타 마리아 델 피오레 성당의 돔을 관람하고 전망을 감상합니다.\n",
      "- **우피치 미술관 (Uffizi Gallery)**: 세계적인 명화들을 감상합니다.\n",
      "- **베키오 다리 (Ponte Vecchio)**: 금세공 상점들이 있는 아름다운 다리를 산책합니다.\n",
      "- **저녁 식사**: 피렌체의 스테이크, 비스테카 알라 피오렌티나(Bistecca alla Fiorentina)를 맛보세요.\n",
      "\n",
      "### 4일차: 피렌체\n",
      "- **아카데미아 미술관 (Accademia Gallery)**: 미켈란젤로의 다비드 상을 관람합니다.\n",
      "- **산타 크로체 성당 (Santa Croce Basilica)**: 유명 인물들의 묘비를 볼 수 있는 곳입니다.\n",
      "- **피티 궁전과 보볼리 정원 (Pitti Palace and Boboli Gardens)**: 웅장한 궁전과 아름다운 정원을 탐방합니다.\n",
      "- **저녁 자유 시간**: 도심의 카페에서 와인과 간단한 다과를 즐깁니다.\n",
      "\n",
      "### 5일차: 베네치아 (Venice)\n",
      "- **이동**: 기차로 베네치아로 이동합니다. (약 2시간 소요)\n",
      "- **산 마르코 광장 (St. Mark's Square)**: 성 마르코 성당과 종탑을 방문합니다.\n",
      "- **도제 궁전 (Doge's Palace)**: 베네치아 공화국의 역사적인 궁전을 탐방합니다.\n",
      "- **곤돌라 투어**: 운하에서 곤돌라를 타고 베네치아의 경치를 즐깁니다.\n",
      "- **저녁 식사**: 해산물 요리를 맛보며 베네치아의 밤을 만끽하세요.\n",
      "\n",
      "### 6일차: 베네치아\n",
      "- **리알토 다리 (Rialto Bridge)**: 사진을 찍고 주변 상점을 둘러봅니다.\n",
      "- **아카데미아 미술관 (Gallerie dell'Accademia)**: 베네치아 회화의 걸작들을 감상합니다.\n",
      "- **무라노 섬 (Murano Island)**: 유리 공예 마을을 방문하고 전시를 관람합니다.\n",
      "- **저녁 자유 시간**: 운하를 따라 산책하며 일몰을 감상합니다.\n",
      "\n",
      "### 7일차: 출국 준비\n",
      "- 베네치아에서 마지막 산책과 자유 시간을 보내고, 기념품을 구매합니다.\n",
      "- 공항으로 이동하여 출국을 준비합니다.\n",
      "\n",
      "이 일정은 주요 관광지들을 다양한 속도로 경험할 수 있도록 구성되었습니다. 개인의 관심사에 따라 일정에 변화를 줄 수 있습니다. 여행을 즐기세요!\n",
      "---------- local_agent ----------\n",
      "이탈리아에서의 7일간의 여행이 기대됩니다! 여러분의 여행에 조금 더 생생함을 더해줄 몇 가지 팁을 제공하겠습니다:\n",
      "\n",
      "- **현지 투어 예약**: 주요 명소의 경우, 미리 투어를 예약하면 긴 줄을 피하고 역사적인 배경에 대한 깊이 있는 설명을 들을 수 있습니다. 특별히 바티칸 투어나 콜로세움 내부 투어는 인기 있는 선택입니다.\n",
      "\n",
      "- **지역 음식 탐방**: 각 도시마다 지역 특색이 있는 음식이 있습니다. 로마에서는 '카르보나라', 피렌체에서는 '리볼리타'와 '트리파 알라 피오렌티나', 베네치아에서는 '세피아 잉크 리소토' 등을 꼭 드셔보세요.\n",
      "\n",
      "- **언어**: 이탈리아어를 약간 배워가면 현지인들과 더 친밀하게 소통할 수 있습니다. 인사말이나 기본적인 표현들을 익혀보세요.\n",
      "\n",
      "- **대중교통**: 기차로 도시 간 이동할 때는 유레일 패스(Eurail Pass)를 고려해보세요. 주요 도시 간 연결이 잘 되어 있어 편리합니다.\n",
      "\n",
      "- **문화 및 시간 관리**: 이탈리아 사람들은 식사를 여유롭게 즐기는 경향이 있으므로 점심과 저녁 시간이 길어질 수 있습니다. 식사 시간을 여유롭게 잡고 현지 문화를 경험하세요.\n",
      "\n",
      "- **현지 축제나 이벤트**: 여행 시기 동안 열리는 특별한 이벤트나 당일 참가할 수 있는 워크숍이 있는지 확인해보세요. 이는 여행을 더욱 특별하게 만들어 줄 것입니다.\n",
      "\n",
      "계획한 일정이 완벽하게 진행되지 않더라도 여유롭게 즐기세요. 이탈리아는 즉흥적인 시간조차도 매력적으로 느껴진답니다. 좋은 여행 되세요!\n",
      "---------- language_agent ----------\n",
      "이탈리아에서의 7일간의 여행이 기대됩니다! 여러분의 여행에 조금 더 생생함을 더해줄 몇 가지 팁을 제공하겠습니다:\n",
      "\n",
      "- **현지 투어 예약**: 주요 명소의 경우, 미리 투어를 예약하면 긴 줄을 피하고 역사적인 배경에 대한 깊이 있는 설명을 들을 수 있습니다. 특별히 바티칸 투어나 콜로세움 내부 투어는 인기 있는 선택입니다.\n",
      "\n",
      "- **지역 음식 탐방**: 각 도시마다 지역 특색이 있는 음식이 있습니다. 로마에서는 '카르보나라', 피렌체에서는 '리볼리타'와 '트리파 알라 피오렌티나', 베네치아에서는 '세피아 잉크 리소토' 등을 꼭 드셔보세요.\n",
      "\n",
      "- **언어**: 이탈리아어를 약간 배워가면 현지인들과 더 친밀하게 소통할 수 있습니다. 인사말이나 기본적인 표현들을 익혀보세요. 예를 들어, \"Buongiorno\" (안녕하세요), \"Grazie\" (감사합니다), \"Quanto costa?\" (얼마인가요?) 같은 표현은 유용할 것입니다.\n",
      "\n",
      "- **대중교통**: 기차로 도시 간 이동할 때는 유레일 패스(Eurail Pass)를 고려해보세요. 주요 도시 간 연결이 잘 되어 있어 편리합니다.\n",
      "\n",
      "- **문화 및 시간 관리**: 이탈리아 사람들은 식사를 여유롭게 즐기는 경향이 있으므로 점심과 저녁 시간이 길어질 수 있습니다. 식사 시간을 여유롭게 잡고 현지 문화를 경험하세요.\n",
      "\n",
      "- **현지 축제나 이벤트**: 여행 시기 동안 열리는 특별한 이벤트나 당일 참가할 수 있는 워크숍이 있는지 확인해보세요. 이는 여행을 더욱 특별하게 만들어 줄 것입니다.\n",
      "\n",
      "계획한 일정이 완벽하게 진행되지 않더라도 여유롭게 즐기세요. 이탈리아는 즉흥적인 시간조차도 매력적으로 느껴진답니다. 좋은 여행 되세요!\n",
      "---------- travel_summary_agent ----------\n",
      "이탈리아에서의 7일간의 여행이 기대됩니다! 제공된 모든 정보를 통합하여 최종 여행 계획을 제안합니다. \n",
      "\n",
      "### 7일간의 이탈리아 여행 일정:\n",
      "\n",
      "### 1일차: 로마 (Rome)\n",
      "- **도착 후**: 로마에 도착하여 호텔에 체크인.\n",
      "- **콜로세움 (Colosseum)**: 고대 로마의 상징 콜로세움을 탐방.\n",
      "- **포로 로마노 (Roman Forum)**: 고대 로마의 정치 중심지를 둘러보고 역사적인 설명을 듣습니다.\n",
      "- **트레비 분수 (Trevi Fountain)**: 산책과 함께 동전을 던져 소원을 빕니다. \n",
      "- **저녁 식사**: 전통 이탈리안 레스토랑에서 피자나 파스타 시식.\n",
      "\n",
      "### 2일차: 로마\n",
      "- **바티칸 시국 (Vatican City)**: 성 베드로 대성당과 시스티나 성당 관람. 투어 예약 추천.\n",
      "- **바티칸 박물관**: 라파엘로의 작품을 포함한 주요 작품 감상.\n",
      "- **스페인 계단 (Spanish Steps)**: 쇼핑 지역 탐방.\n",
      "- **저녁 식사**: 트라스테베레의 현지 레스토랑에서 여유 식사.\n",
      "\n",
      "### 3일차: 피렌체 (Florence)\n",
      "- **이동**: 기차로 피렌체 이동.\n",
      "- **두오모 (Duomo)**: 산타 마리아 델 피오레 성당의 돔 전망 감상.\n",
      "- **우피치 미술관 (Uffizi Gallery)**: 세계적인 명화 감상.\n",
      "- **베키오 다리 (Ponte Vecchio)**: 금세공 상점과 함께 다리를 산책.\n",
      "- **저녁 식사**: 유명한 피렌체 스테이크 저녁 식사.\n",
      "\n",
      "### 4일차: 피렌체\n",
      "- **아카데미아 미술관 (Accademia Gallery)**: 미켈란젤로의 다비드 상 관람.\n",
      "- **산타 크로체 성당 (Santa Croce Basilica)**: 유명 인물 묘비 탐방.\n",
      "- **피티 궁전과 보볼리 정원 (Pitti Palace and Boboli Gardens)**: 궁전과 정원 탐방.\n",
      "- **저녁 자유 시간**: 피렌체에서 여유롭게 시간을 보냅니다.\n",
      "\n",
      "### 5일차: 베네치아 (Venice)\n",
      "- **이동**: 기차로 베네치아 이동.\n",
      "- **산 마르코 광장 (St. Mark's Square)**: 성 마르코 성당과 성 마르코 종탑 방문.\n",
      "- **도제 궁전 (Doge's Palace)**: 역사적인 궁전 탐방.\n",
      "- **곤돌라 투어**: 베네치아 운하에서 로맨틱한 곤돌라 체험.\n",
      "- **저녁 식사**: 해산물 요리와 함께 저녁.\n",
      "\n",
      "### 6일차: 베네치아\n",
      "- **리알토 다리 (Rialto Bridge)**: 전망 좋은 다리에서 사진 촬영.\n",
      "- **아카데미아 미술관 (Gallerie dell'Accademia)**: 회화 걸작 감상.\n",
      "- **무라노 섬 (Murano Island)**: 유리 공예 마을 방문.\n",
      "- **저녁 자유 시간**: 운하를 따라 산책하며 일몰 감상.\n",
      "\n",
      "### 7일차: 출국 준비\n",
      "- **마무리**: 기념품 쇼핑과 마지막 산책.\n",
      "- **출국**: 공항으로 이동하여 출국 준비.\n",
      "\n",
      "### 추가 팁:\n",
      "- **언어**: 기본적인 이탈리아어 인사말 학습 (예: \"Buongiorno\", \"Grazie\").\n",
      "- **교통**: 대중교통 패스 고려.\n",
      "- **현지 행사**: 현지 축제나 워크숍 참석 확인.\n",
      "\n",
      "모든 여행자들이 최고의 시간을 보낼 수 있을 것입니다. 여행을 즐기세요! TERMINATE\n"
     ]
    }
   ],
   "source": [
    "termination = TextMentionTermination(\"TERMINATE\")\n",
    "group_chat = RoundRobinGroupChat(\n",
    "    [planner_agent, local_agent, language_agent, travel_summary_agent], termination_condition=termination\n",
    ")\n",
    "await Console(group_chat.run_stream(task=\"이탈리아 7일간 여행 계획\"))\n",
    "\n",
    "await model_client.close()"
   ]
  },
  {
   "cell_type": "code",
   "execution_count": null,
   "id": "bd1fddef-82bf-4e2e-b645-c113d04930d0",
   "metadata": {},
   "outputs": [],
   "source": []
  }
 ],
 "metadata": {
  "kernelspec": {
   "display_name": "Python 3 (ipykernel)",
   "language": "python",
   "name": "python3"
  },
  "language_info": {
   "codemirror_mode": {
    "name": "ipython",
    "version": 3
   },
   "file_extension": ".py",
   "mimetype": "text/x-python",
   "name": "python",
   "nbconvert_exporter": "python",
   "pygments_lexer": "ipython3",
   "version": "3.12.9"
  }
 },
 "nbformat": 4,
 "nbformat_minor": 5
}
