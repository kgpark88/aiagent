{
 "cells": [
  {
   "cell_type": "markdown",
   "id": "465c003a-29cf-4cfe-a0c6-d36c04ae2b37",
   "metadata": {},
   "source": [
    "# LangChain 시작하기"
   ]
  },
  {
   "cell_type": "markdown",
   "id": "5a2f9501-fa9e-4830-95e2-537dff951cf1",
   "metadata": {},
   "source": [
    "## LangChain Provider \n",
    "* https://python.langchain.com/docs/integrations/providers/"
   ]
  },
  {
   "cell_type": "markdown",
   "id": "af743328-1bc8-4b01-85fb-fcb21c6499c2",
   "metadata": {},
   "source": [
    "## .env 파일 생성\n",
    "* OPENAI_API_KEY=your_openai_api_key\n",
    "* LANGSMITH_TRACING=true\n",
    "* LANGSMITH_API_KEY=your_langchain_api_key\n",
    "* LANGCHAIN_PROJECT=your_project_name"
   ]
  },
  {
   "cell_type": "markdown",
   "id": "a2746c97-9fa5-481c-8333-21de1504a087",
   "metadata": {},
   "source": [
    "## 작업 추적\n",
    "LangSmith에서 이 프로젝트의 작업과 **비용**을 추적할 수 있습니다.\n",
    "* [smith.langchain.com](https://smith.langchain.com)"
   ]
  },
  {
   "cell_type": "markdown",
   "id": "36eaf7e9-acf2-4729-b54c-a8fb6ad2ae1a",
   "metadata": {},
   "source": [
    "### 패키지 설치"
   ]
  },
  {
   "cell_type": "code",
   "execution_count": 1,
   "id": "e9a10870-432e-4818-aa5e-6be24c579d39",
   "metadata": {},
   "outputs": [
    {
     "name": "stdout",
     "output_type": "stream",
     "text": [
      "\n",
      "\u001b[1m[\u001b[0m\u001b[34;49mnotice\u001b[0m\u001b[1;39;49m]\u001b[0m\u001b[39;49m A new release of pip is available: \u001b[0m\u001b[31;49m24.3.1\u001b[0m\u001b[39;49m -> \u001b[0m\u001b[32;49m25.0.1\u001b[0m\n",
      "\u001b[1m[\u001b[0m\u001b[34;49mnotice\u001b[0m\u001b[1;39;49m]\u001b[0m\u001b[39;49m To update, run: \u001b[0m\u001b[32;49mpip install --upgrade pip\u001b[0m\n",
      "Note: you may need to restart the kernel to use updated packages.\n"
     ]
    }
   ],
   "source": [
    "%pip install -qU langchain langchain-groq python-dotenv langchain-openai"
   ]
  },
  {
   "cell_type": "code",
   "execution_count": 4,
   "id": "1a530c23",
   "metadata": {},
   "outputs": [
    {
     "data": {
      "text/plain": [
       "True"
      ]
     },
     "execution_count": 4,
     "metadata": {},
     "output_type": "execute_result"
    }
   ],
   "source": [
    "import os\n",
    "from dotenv import load_dotenv, find_dotenv\n",
    "\n",
    "load_dotenv(find_dotenv())"
   ]
  },
  {
   "cell_type": "markdown",
   "id": "189e9e17-dfb0-4fd3-85b9-1fba83771941",
   "metadata": {},
   "source": [
    "## OpenAI 객체 생성"
   ]
  },
  {
   "cell_type": "code",
   "execution_count": 8,
   "id": "e92628f2-62e8-436c-92d4-e849de7744ad",
   "metadata": {},
   "outputs": [],
   "source": [
    "from langchain_openai import OpenAI\n",
    "\n",
    "llmModel = OpenAI()"
   ]
  },
  {
   "cell_type": "code",
   "execution_count": 10,
   "id": "819136a0",
   "metadata": {},
   "outputs": [
    {
     "name": "stdout",
     "output_type": "stream",
     "text": [
      "gpt-3.5-turbo-instruct\n"
     ]
    }
   ],
   "source": [
    "print(llmModel.model_name)"
   ]
  },
  {
   "cell_type": "markdown",
   "id": "c67e5a70",
   "metadata": {},
   "source": [
    "###  LLM 모델 호출 "
   ]
  },
  {
   "cell_type": "code",
   "execution_count": 11,
   "id": "93ade5fa-b487-4f32-bda7-0f9c41b096b5",
   "metadata": {},
   "outputs": [],
   "source": [
    "response = llmModel.invoke(\n",
    "    \"케네디 가족에 대한 재밌는 사실 하나를 말해 보세요.\"\n",
    ")"
   ]
  },
  {
   "cell_type": "code",
   "execution_count": 12,
   "id": "a33285ef-4bb5-4fd6-9894-790c07a5468c",
   "metadata": {},
   "outputs": [
    {
     "data": {
      "text/plain": [
       "'\\n\\n존 F. 케네디는 존 F. 케네디와 미국 대통령 존 F. 케네디의 아버지로, 미국 대통령 존 F. 케네디의 아버지이기도합니다.'"
      ]
     },
     "execution_count": 12,
     "metadata": {},
     "output_type": "execute_result"
    }
   ],
   "source": [
    "response"
   ]
  },
  {
   "cell_type": "code",
   "execution_count": 13,
   "id": "3aa71043-4707-44b4-8d1f-8540d5d139b2",
   "metadata": {},
   "outputs": [
    {
     "name": "stdout",
     "output_type": "stream",
     "text": [
      "\n",
      "\n",
      "존 F. 케네디는 존 F. 케네디와 미국 대통령 존 F. 케네디의 아버지로, 미국 대통령 존 F. 케네디의 아버지이기도합니다.\n"
     ]
    }
   ],
   "source": [
    "print(response)"
   ]
  },
  {
   "cell_type": "markdown",
   "id": "9b4c29ae-d60a-44c7-925c-20084c0b941e",
   "metadata": {},
   "source": [
    "#### Streaming"
   ]
  },
  {
   "cell_type": "code",
   "execution_count": 14,
   "id": "158aa111-9167-444c-9b10-90b095eac390",
   "metadata": {},
   "outputs": [
    {
     "name": "stdout",
     "output_type": "stream",
     "text": [
      "\n",
      "\n",
      "케네디 가족의 존재는 미국에서 가장 유명한 정치적 가문 중 하나입니다. 그들은 미국의 역사적인 사건들과 밀접한 관련이 있었는데요, 그 중 하나가 존 F. 케네디가 미국의 최초의 우주 비행사인 앨런 셰퍼드와 우연한 만남을 한 것입니다. 존 F. 케네디는 앨런 셰퍼드의 이웃이었고, 셰퍼드는 케네디의 아들들을 자주 우주 비행에 초대했으며, 그들과 함께 우주 비행 장난감을 만들기도 했다고 합니다. 이는 미국 우주 비행사들의 역사에서 가장 재"
     ]
    }
   ],
   "source": [
    "for chunk in llmModel.stream(\"케네디 가족에 대한 재밌는 사실 하나를 말해 보세요.\"):\n",
    "    print(chunk, end=\"\", flush=True)"
   ]
  },
  {
   "cell_type": "markdown",
   "id": "98101f10-6349-4f98-9fb7-a1400166cedc",
   "metadata": {},
   "source": [
    "#### Temperature"
   ]
  },
  {
   "cell_type": "code",
   "execution_count": 74,
   "id": "ac12473a-1ffd-4a22-852a-92e1e6374914",
   "metadata": {},
   "outputs": [],
   "source": [
    "creativeLlmModel = OpenAI(\n",
    "    temperature=0.9\n",
    ")"
   ]
  },
  {
   "cell_type": "code",
   "execution_count": 75,
   "id": "325b9b2a-c61d-4264-81bf-71090f9b0151",
   "metadata": {},
   "outputs": [],
   "source": [
    "response = llmModel.invoke(\n",
    "    \"JFK에 대한 5줄짜리 짧은 시를 쓰세요\"\n",
    ")"
   ]
  },
  {
   "cell_type": "code",
   "execution_count": 77,
   "id": "679c1220-13ed-4251-ba4b-f8f1ba350f2d",
   "metadata": {},
   "outputs": [
    {
     "name": "stdout",
     "output_type": "stream",
     "text": [
      "\n",
      "\n",
      "\n",
      "젊음과 열정의 상징\n",
      "무대 위에서 꿈을 이루다\n",
      "강렬한 미소와 우아한 모습\n",
      "세상을 놀라게 한 그녀의 매력\n",
      "영원히 기억될 나의 JFK\n"
     ]
    }
   ],
   "source": [
    "print(response)"
   ]
  },
  {
   "cell_type": "markdown",
   "id": "31346a0c-ee9c-4a80-8e8a-85ef682df7c3",
   "metadata": {},
   "source": [
    "## ChatOpenAI 객체 생성"
   ]
  },
  {
   "cell_type": "code",
   "execution_count": 82,
   "id": "b14d27c3-0b1b-4b11-a883-8da2734f21a7",
   "metadata": {},
   "outputs": [],
   "source": [
    "from langchain_openai import ChatOpenAI\n",
    "\n",
    "chatModel = ChatOpenAI(model=\"gpt-4o-mini\")"
   ]
  },
  {
   "cell_type": "code",
   "execution_count": 83,
   "id": "0eaa967e-067f-4574-8cbc-b1e5b7956fa2",
   "metadata": {},
   "outputs": [],
   "source": [
    "messages = [\n",
    "    (\"system\", \"당신은 케네디 가문의 역사 전문가입니다.\"),\n",
    "    (\"human\", \"JFK에 대한 흥미로운 사실 하나 말해보세요.\"),\n",
    "]\n",
    "response = chatModel.invoke(messages)"
   ]
  },
  {
   "cell_type": "code",
   "execution_count": 84,
   "id": "2f567f5a-c4ea-4234-84e6-422bf6104589",
   "metadata": {},
   "outputs": [
    {
     "data": {
      "text/plain": [
       "AIMessage(content='존 F. 케네디(JFK)는 미국 역사에서 두 번째로 젊은 대통령으로, 1960년 11월에 43세의 나이로 대통령에 취임했습니다. 또한, 그는 미국의 첫 번째 카톨릭 대통령이기도 합니다. JFK는 취임 이후 \"우리가 할 수 있는 일\"이 아닌 \"우리가 할 수 있는 일에 대해서 묻지 말고, 당신이 할 수 있는 일에 대해 묻고, 그것을 하라\"는 유명한 연설로 많은 이들에게 영감을 주었습니다. 이 연설은 개인의 책임과 시민의 참여를 강조하며, 그의 임기 동안의 많은 정책과 프로그램의 기초가 되었습니다.', additional_kwargs={'refusal': None}, response_metadata={'token_usage': {'completion_tokens': 152, 'prompt_tokens': 39, 'total_tokens': 191, 'completion_tokens_details': {'accepted_prediction_tokens': 0, 'audio_tokens': 0, 'reasoning_tokens': 0, 'rejected_prediction_tokens': 0}, 'prompt_tokens_details': {'audio_tokens': 0, 'cached_tokens': 0}}, 'model_name': 'gpt-4o-mini-2024-07-18', 'system_fingerprint': 'fp_b376dfbbd5', 'id': 'chatcmpl-BFVZuMvw0QaizbfAXN2NkMGlRZD7D', 'finish_reason': 'stop', 'logprobs': None}, id='run-539bf0f8-8b87-47c9-b52a-47e1d8bf5385-0', usage_metadata={'input_tokens': 39, 'output_tokens': 152, 'total_tokens': 191, 'input_token_details': {'audio': 0, 'cache_read': 0}, 'output_token_details': {'audio': 0, 'reasoning': 0}})"
      ]
     },
     "execution_count": 84,
     "metadata": {},
     "output_type": "execute_result"
    }
   ],
   "source": [
    "response"
   ]
  },
  {
   "cell_type": "code",
   "execution_count": 85,
   "id": "19a6abd4-a072-47ea-ae60-7959def9b602",
   "metadata": {},
   "outputs": [
    {
     "data": {
      "text/plain": [
       "'존 F. 케네디(JFK)는 미국 역사에서 두 번째로 젊은 대통령으로, 1960년 11월에 43세의 나이로 대통령에 취임했습니다. 또한, 그는 미국의 첫 번째 카톨릭 대통령이기도 합니다. JFK는 취임 이후 \"우리가 할 수 있는 일\"이 아닌 \"우리가 할 수 있는 일에 대해서 묻지 말고, 당신이 할 수 있는 일에 대해 묻고, 그것을 하라\"는 유명한 연설로 많은 이들에게 영감을 주었습니다. 이 연설은 개인의 책임과 시민의 참여를 강조하며, 그의 임기 동안의 많은 정책과 프로그램의 기초가 되었습니다.'"
      ]
     },
     "execution_count": 85,
     "metadata": {},
     "output_type": "execute_result"
    }
   ],
   "source": [
    "response.content"
   ]
  },
  {
   "cell_type": "code",
   "execution_count": 87,
   "id": "47927ac1-13bc-40eb-9917-9d39418f0f7d",
   "metadata": {},
   "outputs": [
    {
     "data": {
      "text/plain": [
       "{'token_usage': {'completion_tokens': 152,\n",
       "  'prompt_tokens': 39,\n",
       "  'total_tokens': 191,\n",
       "  'completion_tokens_details': {'accepted_prediction_tokens': 0,\n",
       "   'audio_tokens': 0,\n",
       "   'reasoning_tokens': 0,\n",
       "   'rejected_prediction_tokens': 0},\n",
       "  'prompt_tokens_details': {'audio_tokens': 0, 'cached_tokens': 0}},\n",
       " 'model_name': 'gpt-4o-mini-2024-07-18',\n",
       " 'system_fingerprint': 'fp_b376dfbbd5',\n",
       " 'id': 'chatcmpl-BFVZuMvw0QaizbfAXN2NkMGlRZD7D',\n",
       " 'finish_reason': 'stop',\n",
       " 'logprobs': None}"
      ]
     },
     "execution_count": 87,
     "metadata": {},
     "output_type": "execute_result"
    }
   ],
   "source": [
    "response.response_metadata"
   ]
  },
  {
   "cell_type": "markdown",
   "id": "54631efb-dbe2-4bd7-b588-324f19a28b2c",
   "metadata": {},
   "source": [
    "#### 이전에는 아래와 같은 방법을 사용했고, 아직 많이 사용하고 있습니다."
   ]
  },
  {
   "cell_type": "code",
   "execution_count": 93,
   "id": "a20ba943-ce6b-45e2-9dbb-351c48421069",
   "metadata": {},
   "outputs": [],
   "source": [
    "from langchain_core.messages import HumanMessage, SystemMessage\n",
    "from langchain_core.prompts import ChatPromptTemplate"
   ]
  },
  {
   "cell_type": "code",
   "execution_count": 94,
   "id": "b879a5f4-2250-4a70-b065-7796c4fe9f06",
   "metadata": {},
   "outputs": [],
   "source": [
    "messages = [\n",
    "    SystemMessage(content=\"당신은 케네디 가문에 대한 역사 전문가입니다.\"),\n",
    "    HumanMessage(content=\"조셉 P. 케네디는 몇 명의 자녀를 낳았습니까?\"),\n",
    "]\n",
    "\n",
    "response = chatModel.invoke(messages)"
   ]
  },
  {
   "cell_type": "code",
   "execution_count": 95,
   "id": "78f9b26b-e7e1-4613-8e3e-0c81f8b54da6",
   "metadata": {},
   "outputs": [
    {
     "data": {
      "text/plain": [
       "AIMessage(content='조셉 P. 케네디는 총 9명의 자녀를 두었습니다. 그 중에서 가장 유명한 자녀는 존 F. 케네디(35대 미국 대통령), 로버트 F. 케네디(상원의원 및 대통령 후보), 에드워드 M. 케네디(상원의원) 등이 있습니다. 다른 자녀로는 유진 케네디, 존 케네디 주니어, 제이파리, 패트리샤 케네디, 킴벌리 케네디, 그리고 두 개의 자녀는 유아 사망으로 세상을 떠났습니다. 조셉 P. 케네디는 제2차 세계대전과 미국 정치에서 큰 영향을 미친 가족을 형성했습니다.', additional_kwargs={'refusal': None}, response_metadata={'token_usage': {'completion_tokens': 171, 'prompt_tokens': 47, 'total_tokens': 218, 'completion_tokens_details': {'accepted_prediction_tokens': 0, 'audio_tokens': 0, 'reasoning_tokens': 0, 'rejected_prediction_tokens': 0}, 'prompt_tokens_details': {'audio_tokens': 0, 'cached_tokens': 0}}, 'model_name': 'gpt-4o-mini-2024-07-18', 'system_fingerprint': 'fp_b376dfbbd5', 'id': 'chatcmpl-BFVfpvyqrrfuCQDy12VboHtfMZ8rJ', 'finish_reason': 'stop', 'logprobs': None}, id='run-66d547ec-923e-4cd8-982f-b8abf24b039b-0', usage_metadata={'input_tokens': 47, 'output_tokens': 171, 'total_tokens': 218, 'input_token_details': {'audio': 0, 'cache_read': 0}, 'output_token_details': {'audio': 0, 'reasoning': 0}})"
      ]
     },
     "execution_count": 95,
     "metadata": {},
     "output_type": "execute_result"
    }
   ],
   "source": [
    "response"
   ]
  },
  {
   "cell_type": "markdown",
   "id": "e41204f4-0cec-4039-a18d-2a25b9dd5efd",
   "metadata": {},
   "source": [
    "#### 스트리밍"
   ]
  },
  {
   "cell_type": "code",
   "execution_count": 96,
   "id": "83d9f1d0-bba8-4885-9ac1-01fc273732b1",
   "metadata": {},
   "outputs": [
    {
     "name": "stdout",
     "output_type": "stream",
     "text": [
      "조셉 P. 케네디는 총 9명의 자녀를 낳았습니다. 그의 자녀들은 다음과 같습니다:\n",
      "\n",
      "1. 조지프 P. 케네디 주니어 (Joseph P. Kennedy Jr.)\n",
      "2. 존 F. 케네디 (John F. Kennedy)\n",
      "3. 로버트 F. 케네디 (Robert F. Kennedy)\n",
      "4. 에드워드 M. \"테드\" 케네디 (Edward M. \"Ted\" Kennedy)\n",
      "5. 패트리시아 케네디 (Patricia Kennedy)\n",
      "6. 유니스 케네디 (Eunice Kennedy)\n",
      "7. 제인 케네디 (Jean Kennedy)\n",
      "8. 케리 케네디 (Kerry Kennedy)\n",
      "9. 자넷 케네디 (Rosemary Kennedy)\n",
      "\n",
      "이 중 조지프 P. 케네디 주니어는 제2차 세계 대전 중 전사하였고, 로즈메리 케네디는 정신적 장애를 가지고 태어났습니다."
     ]
    }
   ],
   "source": [
    "for chunk in chatModel.stream(messages):\n",
    "    print(chunk.content, end=\"\", flush=True)"
   ]
  },
  {
   "cell_type": "markdown",
   "id": "acd276b9-494a-47c2-8455-2ff33fc4f221",
   "metadata": {},
   "source": [
    "#### 또 다른 예전 방법"
   ]
  },
  {
   "cell_type": "code",
   "execution_count": 98,
   "id": "4bc0210b-27e0-41ed-8ad8-ff1c75c9bef4",
   "metadata": {},
   "outputs": [],
   "source": [
    "prompt = ChatPromptTemplate.from_messages(\n",
    "    [\n",
    "        (\n",
    "            \"system\",\n",
    "            \"당신은 이 {topic} 에 대한 전문적인  {profession} 입니다.\",\n",
    "        ),\n",
    "        (\"human\", \"{input}\"),\n",
    "    ]\n",
    ")\n",
    "\n",
    "chain = prompt | chatModel\n",
    "\n",
    "response = chain.invoke(\n",
    "    {\n",
    "        \"topic\": \"케네디 가족\",\n",
    "        \"profession\": \"역사가\",\n",
    "        \"input\": \"JFK에 대한 재밌는 사실 하나 말해주세요.\",\n",
    "    }\n",
    ")"
   ]
  },
  {
   "cell_type": "code",
   "execution_count": 99,
   "id": "cc436d53-b372-43eb-ac00-ee39c9fa491a",
   "metadata": {},
   "outputs": [
    {
     "data": {
      "text/plain": [
       "AIMessage(content='존 F. 케네디(JFK)는 대통령 재직 중, 바다에서의 해양 탐사와 보호에 큰 관심을 가지고 있었습니다. 1961년, 그는 \"감독관 관광\"을 제안하여 미국의 해양 자원을 보호하고 발전시키기 위한 노력의 일환으로 미국 해양 탐사 및 연구를 지원했습니다. JFK는 또한 마르틴 루터 킹을 만나도록 마음을 열고, 인권 문제를 해결하기 위한 여러 가지 조치를 취했습니다. 그러나 그의 해양 탐사에 대한 열정 중 하나는 그가 바다에서 개인 요트인 \"마르타\"를 소유하고 있다는 점입니다. 이 요트는 가족과 함께 즐거운 시간을 보내는 장소로 사용되었고, JFK는 해양 스포츠와 낚시를 매우 좋아했습니다. यह खाली बैनर का विधेयक नहीं था, बल्कि यह व्यक्तिगत प्रेम और पारिवारिक गतिविधियों का प्रतीक था.', additional_kwargs={'refusal': None}, response_metadata={'token_usage': {'completion_tokens': 206, 'prompt_tokens': 42, 'total_tokens': 248, 'completion_tokens_details': {'accepted_prediction_tokens': 0, 'audio_tokens': 0, 'reasoning_tokens': 0, 'rejected_prediction_tokens': 0}, 'prompt_tokens_details': {'audio_tokens': 0, 'cached_tokens': 0}}, 'model_name': 'gpt-4o-mini-2024-07-18', 'system_fingerprint': 'fp_b376dfbbd5', 'id': 'chatcmpl-BFViCoBuMIhLcVvdATse6CmJ6zRM4', 'finish_reason': 'stop', 'logprobs': None}, id='run-057e5560-49c5-40b4-a001-617f592a5392-0', usage_metadata={'input_tokens': 42, 'output_tokens': 206, 'total_tokens': 248, 'input_token_details': {'audio': 0, 'cache_read': 0}, 'output_token_details': {'audio': 0, 'reasoning': 0}})"
      ]
     },
     "execution_count": 99,
     "metadata": {},
     "output_type": "execute_result"
    }
   ],
   "source": [
    "response"
   ]
  },
  {
   "cell_type": "markdown",
   "id": "e9dc5d06-9d3e-46ed-867d-c8e9efa52372",
   "metadata": {},
   "source": [
    "# 다른 LLM 사용\n",
    "* Llama3 및 Mixtral과 같은 오픈 소스 LLM 사용\n"
   ]
  },
  {
   "cell_type": "markdown",
   "id": "959898ff-1734-49e4-b3ae-717d880ce7de",
   "metadata": {},
   "source": [
    "## Groq 소개\n",
    "* Groq는 AI 스타트업 기업입니다. **일론 머스크의 LLM인 Grok과는 다릅니다.**\n",
    "* LLM을 더 빠르고 저렴하게 실행하도록 특별히 설계된 새로운 칩인 LPU(언어 처리 장치)를 개발했습니다.\n",
    "* Llama3 와 같은 오픈 소스 LLM을 시도할 수 있는 Groq 클라우드를 제공합니다.\n",
    "* **Rate Limit이 있는 Groq API 키를 사용하여 앱에서 Llama3 또는 Mixtral을 무료로 사용할 수 있습니다.**\n",
    "* Groq Rate limits : https://console.groq.com/dashboard/limits"
   ]
  },
  {
   "cell_type": "markdown",
   "id": "f2840b03-e578-4833-8c78-e6b21f93f9c5",
   "metadata": {},
   "source": [
    "## 무료 Groq API 키를 얻는 방법\n",
    "* Groq Cloud에 로그인: [https://console.groq.com/login](https://console.groq.com/login)\n",
    "* 로그인 후 API Keys를 클릭합니다.\n",
    "* 새 API 키를 만듭니다.\n",
    "* API 키를 복사하여 .env 파일에 붙여넣습니다."
   ]
  },
  {
   "cell_type": "code",
   "execution_count": 100,
   "id": "968755e5-3da2-4c34-8a12-3a3bd09be8fb",
   "metadata": {},
   "outputs": [
    {
     "data": {
      "text/plain": [
       "True"
      ]
     },
     "execution_count": 100,
     "metadata": {},
     "output_type": "execute_result"
    }
   ],
   "source": [
    "import os\n",
    "from dotenv import load_dotenv, find_dotenv\n",
    "\n",
    "load_dotenv(find_dotenv())"
   ]
  },
  {
   "cell_type": "code",
   "execution_count": 101,
   "id": "736105b0-8548-4a85-94a0-a907faeea019",
   "metadata": {},
   "outputs": [],
   "source": [
    "from langchain_groq import ChatGroq\n",
    "\n",
    "llamaChatModel = ChatGroq(\n",
    "    model=\"llama3-70b-8192\"\n",
    ")"
   ]
  },
  {
   "cell_type": "code",
   "execution_count": 102,
   "id": "90ffd628-02d6-445b-915a-7e7f27aa6aaa",
   "metadata": {},
   "outputs": [],
   "source": [
    "messages = [\n",
    "    (\"system\", \"당신은 케네디 가문의 역사 전문가입니다.\"),\n",
    "    (\"human\", \"가족 중 몇 명이 비극적으로 죽었습니까? 한글로 답변해주세요.\"),\n",
    "]"
   ]
  },
  {
   "cell_type": "code",
   "execution_count": 103,
   "id": "39231a98-1dce-4989-8e4d-ccc11d281ab5",
   "metadata": {},
   "outputs": [],
   "source": [
    "llamaResponse = llamaChatModel.invoke(messages)"
   ]
  },
  {
   "cell_type": "code",
   "execution_count": 104,
   "id": "8d163afe-0945-4d6e-830c-bd2b85236cc4",
   "metadata": {},
   "outputs": [
    {
     "name": "stdout",
     "output_type": "stream",
     "text": [
      "케네디 가문은 미국의 정치 왕조로 알려져 있으며, 그들의 역사에는 비극적인 죽음이 여러 번 일어났습니다.\n",
      "\n",
      "1. 조지프 P. 케네디 주니어 (Joseph P. Kennedy Jr.) - 제2차 세계대전 중에 항공기 사고로 사망 (1944년)\n",
      "2. 캐서린 케네디 (Kathleen Kennedy) - 제2차 세계대전 중에 항공기 사고로 사망 (1948년)\n",
      "3. 존 F. 케네디 (John F. Kennedy) - 대통령 재임 중에 암살 (1963년)\n",
      "4. 로버트 F. 케네디 (Robert F. Kennedy) - 대통령 선거 캠페인 중에 암살 (1968년)\n",
      "5. 데이비드 케네디 (David Kennedy) - 약물 과다 복용으로 사망 (1984년)\n",
      "6. 마이클 케네디 (Michael Kennedy) - 스키 사고로 사망 (1997년)\n",
      "7. 존 F. 케네디 주니어 (John F. Kennedy Jr.) - 비행기 사고로 사망 (1999년)\n",
      "8. 마라 케네디 (Mara Kennedy) - 약물 과다 복용으로 사망 (2014년)\n",
      "\n",
      "케네디 가문은 이러한 비극적인 죽음으로 인해 \"케네디의 저주\" (Kennedy Curse)라는 표현이 생겨났습니다.\n"
     ]
    }
   ],
   "source": [
    "print(llamaResponse.content)"
   ]
  },
  {
   "cell_type": "markdown",
   "id": "502aac04-b1d3-4b16-b531-240d8f5672ca",
   "metadata": {},
   "source": [
    "## 프롬프트와 프롬프트 템플릿\n",
    "**프롬프트**는 언어 모델에 제공하는 입력입니다. 이 입력은 언어 모델이 응답하는 방식을 안내합니다.\n",
    "프롬프트에는 여러 유형이 있습니다.\n",
    "* Instruction : 일반 지침\n",
    "* Few-shot examples : 몇 가지 예가 있는 지침\n",
    "* 주어진 작업에 적합한 특정 컨텍스트와 질문\n",
    "* 기타\n",
    "\n",
    "**프롬프트 템플릿**은 완성하기 위해 몇 가지 추가 부분이 필요한 미리 정의된 프롬프트 레시피입니다. 추가 부분은 사용자가 제공하는 변수입니다.\n",
    "* 프롬프트 템플릿: 변수 및 기타 요소가 있는 정교한 프롬프트를 사용하려는 경우. 프롬프트 템플릿에는 다음이 포함될 수 있습니다.\n",
    "    * Instruction\n",
    "    * Few-shot example\n",
    "    * 주어진 작업에 적합한 특정 컨텍스트와 질문"
   ]
  },
  {
   "cell_type": "code",
   "execution_count": 105,
   "id": "ae52ad10-f11e-4908-a72b-f059f339aabb",
   "metadata": {},
   "outputs": [
    {
     "data": {
      "text/plain": [
       "'\\n\\n케네디 가족은 미국의 정치적인 가문으로 알려져 있습니다. 그들의 가계는 조지타운 대학을 졸업한 조셉 P. 케네디와 그의 아내 로즈 케네디의 결혼으로 시작되었습니다. 이들의 아들들이 미국의 정치계에서 큰 영향력을 행사하면서 케네디 가족의 이름은 더욱 유명해졌습니다.\\n\\n케네디 가족의 첫 번째 아들인 존 F. 케네디는 미국 대통령으로 당선된 최초의 로마 가톨릭 신자였습니다. 그는 1960년 대통령 선거에서 당선되었지만 1963년 암살당해 생을 마감'"
      ]
     },
     "execution_count": 105,
     "metadata": {},
     "output_type": "execute_result"
    }
   ],
   "source": [
    "from langchain_core.prompts import PromptTemplate\n",
    "\n",
    "prompt_template = PromptTemplate.from_template(\n",
    "    \"{topic}에 대한 {adjective} 이야기를 들려주세요.\"\n",
    ")\n",
    "\n",
    "llmModelPrompt = prompt_template.format(\n",
    "    topic=\"케네디 가족\",\n",
    "    adjective=\"호기심 나는\" \n",
    "\n",
    ")\n",
    "\n",
    "llmModel.invoke(llmModelPrompt)"
   ]
  },
  {
   "cell_type": "code",
   "execution_count": 106,
   "id": "ddc20827-bee1-49b7-a2d0-d0af83674862",
   "metadata": {},
   "outputs": [],
   "source": [
    "from langchain_core.prompts import ChatPromptTemplate\n",
    "\n",
    "chat_template = ChatPromptTemplate.from_messages(\n",
    "    [\n",
    "        (\"system\", \"당신은 {topic}의 {profession} 전문가입니다.\"),\n",
    "        (\"human\", \"안녕하세요, {profession} 님, 이 질문에 답해 주시겠습니까?\"),\n",
    "        (\"ai\", \"물론입니다!\"),\n",
    "        (\"human\", \"{user_input}\"),\n",
    "    ]\n",
    ")\n",
    "\n",
    "messages = chat_template.format_messages(\n",
    "    profession=\"역사가\",\n",
    "    topic=\"케네디 가족\",\n",
    "    user_input=\"조셉 P. 케네디의 손자는 몇 명이었습니까?\"\n",
    ")\n",
    "\n",
    "response = chatModel.invoke(messages)"
   ]
  },
  {
   "cell_type": "code",
   "execution_count": 107,
   "id": "515c5f1e-32e5-4ce9-9ac2-60048a0c311a",
   "metadata": {},
   "outputs": [
    {
     "name": "stdout",
     "output_type": "stream",
     "text": [
      "조셉 P. 케네디의 손자는 네 명입니다. 그의 아들인 로버트 F. 케네디와 에드워드 M. 케네디의 자녀들 중에서 손자들이 태어났습니다. 로버트 F. 케네디는 세 명의 아들을 두었고, 에드워드 M. 케네디는 두 명의 아들을 두었습니다. 이 외에도 조셉 P. 케네디의 다른 자녀들에서도 손주가 태어났으며, 이 전체를 아우르면 손자의 수는 더 늘어납니다.\n"
     ]
    }
   ],
   "source": [
    "print(response.content)"
   ]
  },
  {
   "cell_type": "markdown",
   "id": "cf3b30fd-7ef4-417b-b680-3a99238fad7e",
   "metadata": {},
   "source": [
    "## 프롬프팅 기본 전략"
   ]
  },
  {
   "cell_type": "markdown",
   "id": "20cb4213-cb76-4854-a9cf-86f3dbdb09e7",
   "metadata": {},
   "source": [
    "* Zero Shot Prompt: \"이 리뷰의 감정을 분류하세요.\"\n",
    "* Few Shot Prompt: \"이러한 예시를 바탕으로 이 리뷰의 감정을 분류하세요.\"\n",
    "* Chain Of Thought Prompt: \"이러한 예시와 추론에 대한 설명을 기반으로 이 리뷰의 감정을 분류하십시오.\""
   ]
  },
  {
   "cell_type": "markdown",
   "id": "e4222a73-92c3-4ed5-90c7-e83b38b7092e",
   "metadata": {},
   "source": [
    "## Few Shot Prompting"
   ]
  },
  {
   "cell_type": "code",
   "execution_count": 130,
   "id": "cb467861-bef9-4326-9bb1-ffff0ba6813f",
   "metadata": {},
   "outputs": [],
   "source": [
    "from langchain_core.prompts import FewShotChatMessagePromptTemplate"
   ]
  },
  {
   "cell_type": "code",
   "execution_count": 131,
   "id": "daf860ef-d319-4cc4-a3f7-eabddd41297c",
   "metadata": {},
   "outputs": [],
   "source": [
    "examples = [\n",
    "    {\"input\": \"hi!\", \"output\": \"¡hola!\"},\n",
    "    {\"input\": \"bye!\", \"output\": \"¡adiós!\"},\n",
    "]\n",
    "\n",
    "example_prompt = ChatPromptTemplate.from_messages(\n",
    "    [\n",
    "        (\"human\", \"{input}\"),\n",
    "        (\"ai\", \"{output}\"),\n",
    "    ]\n",
    ")\n",
    "\n",
    "few_shot_prompt = FewShotChatMessagePromptTemplate(\n",
    "    example_prompt=example_prompt,\n",
    "    examples=examples,\n",
    ")\n",
    "\n",
    "final_prompt = ChatPromptTemplate.from_messages(\n",
    "    [\n",
    "        (\"system\", \"You are an English-Spanish translator.\"),\n",
    "        few_shot_prompt,\n",
    "        (\"human\", \"{input}\"),\n",
    "    ]\n",
    ")"
   ]
  },
  {
   "cell_type": "code",
   "execution_count": 132,
   "id": "6acc6383-7f00-48ae-a721-830666c0e9ec",
   "metadata": {},
   "outputs": [],
   "source": [
    "messages = final_prompt.format_messages(\n",
    "    input=\"historian\"\n",
    ")\n",
    "\n",
    "response = chatModel.invoke(messages)"
   ]
  },
  {
   "cell_type": "code",
   "execution_count": 133,
   "id": "a351e7f2",
   "metadata": {},
   "outputs": [
    {
     "data": {
      "text/plain": [
       "'historiador'"
      ]
     },
     "execution_count": 133,
     "metadata": {},
     "output_type": "execute_result"
    }
   ],
   "source": [
    "response.content"
   ]
  },
  {
   "cell_type": "markdown",
   "id": "ddccb597-49f8-42d2-8cb0-42e607eb0d9a",
   "metadata": {},
   "source": [
    "# Chains\n",
    "* 여러 작업을 특정 순서로 수행합니다."
   ]
  },
  {
   "cell_type": "code",
   "execution_count": null,
   "id": "52dabf75",
   "metadata": {},
   "outputs": [
    {
     "data": {
      "text/plain": [
       "AIMessage(content='JFK fue el presidente de los Estados Unidos, John F. Kennedy.', additional_kwargs={'refusal': None}, response_metadata={'token_usage': {'completion_tokens': 16, 'prompt_tokens': 52, 'total_tokens': 68, 'completion_tokens_details': {'accepted_prediction_tokens': 0, 'audio_tokens': 0, 'reasoning_tokens': 0, 'rejected_prediction_tokens': 0}, 'prompt_tokens_details': {'audio_tokens': 0, 'cached_tokens': 0}}, 'model_name': 'gpt-3.5-turbo-0125', 'system_fingerprint': None, 'id': 'chatcmpl-BFVzQBZx4tDt3qoU9SQLtsjKrPkVi', 'finish_reason': 'stop', 'logprobs': None}, id='run-24fde4f8-07a3-44e5-ad9a-7e6a96783df9-0', usage_metadata={'input_tokens': 52, 'output_tokens': 16, 'total_tokens': 68, 'input_token_details': {'audio': 0, 'cache_read': 0}, 'output_token_details': {'audio': 0, 'reasoning': 0}})"
      ]
     },
     "execution_count": 137,
     "metadata": {},
     "output_type": "execute_result"
    }
   ],
   "source": [
    "chain = final_prompt | chatModel\n",
    "\n",
    "chain.invoke({\"input\": \"Who was JFK?\"})"
   ]
  },
  {
   "cell_type": "markdown",
   "id": "2bbaffd2-07f7-493a-818a-ad22ba02f158",
   "metadata": {},
   "source": [
    "# Ouput Parser\n",
    "* LLM의 응답 형식 지정"
   ]
  },
  {
   "cell_type": "markdown",
   "id": "3aee206a",
   "metadata": {},
   "source": [
    "## 출력 파싱\n",
    "* 언어 모델은 텍스트를 출력합니다. 때로는 JSON 사전이나 XML 문서와 같이 다른 형식으로 답변을 원할 수 있습니다. 이를 위해 Output Parsers를 사용합니다."
   ]
  },
  {
   "cell_type": "code",
   "execution_count": 139,
   "id": "aac5045a-9f0a-4277-ad12-9b09bbf2a7da",
   "metadata": {},
   "outputs": [],
   "source": [
    "from langchain_core.prompts import PromptTemplate\n",
    "from langchain.output_parsers.json import SimpleJsonOutputParser\n",
    "\n",
    "json_prompt = PromptTemplate.from_template(\n",
    "    \"다음 질문 : {question} 에 답하는 `answer` 키가 포함된 JSON 객체를 반환합니다.\"\n",
    ")\n",
    "\n",
    "json_parser = SimpleJsonOutputParser()\n",
    "\n",
    "json_chain = json_prompt | llmModel | json_parser"
   ]
  },
  {
   "cell_type": "markdown",
   "id": "0c1a475e",
   "metadata": {},
   "source": [
    "#### 이전 프롬프트 템플릿에는 parser 지침이 포함되어 있습니다."
   ]
  },
  {
   "cell_type": "code",
   "execution_count": 140,
   "id": "3321bd89",
   "metadata": {},
   "outputs": [
    {
     "data": {
      "text/plain": [
       "'Return a JSON object.'"
      ]
     },
     "execution_count": 140,
     "metadata": {},
     "output_type": "execute_result"
    }
   ],
   "source": [
    "json_parser.get_format_instructions()"
   ]
  },
  {
   "cell_type": "code",
   "execution_count": 141,
   "id": "a2ac8675",
   "metadata": {},
   "outputs": [
    {
     "data": {
      "text/plain": [
       "{'answer': '러시아'}"
      ]
     },
     "execution_count": 141,
     "metadata": {},
     "output_type": "execute_result"
    }
   ],
   "source": [
    "json_chain.invoke({\"question\": \"가장 큰 나라는 어디인가요?\"})"
   ]
  },
  {
   "cell_type": "markdown",
   "id": "c9e6c6d1",
   "metadata": {},
   "source": [
    "#### Pydantic을 사용하여 사용자 정의 출력 형식을 정의할 수 있습니다.\n",
    "* Pydantic은 데이터 검증과 설정 관리를 위한 Python 라이브러리입니다.\n",
    "* 데이터 모델을 정의할 때 Python 타입 힌트를 활용하여 유효성 검사(Validation)와 Parsing을 자동으로 수행해 줍니다."
   ]
  },
  {
   "cell_type": "code",
   "execution_count": 143,
   "id": "13afada1",
   "metadata": {},
   "outputs": [],
   "source": [
    "from langchain_core.output_parsers import JsonOutputParser\n",
    "from langchain_core.prompts import PromptTemplate\n",
    "from pydantic import BaseModel, Field\n",
    "from langchain_openai import ChatOpenAI"
   ]
  },
  {
   "cell_type": "code",
   "execution_count": 145,
   "id": "e70445f5",
   "metadata": {},
   "outputs": [],
   "source": [
    "# 원하는 출력 형식으로 Pydantic 객체를 정의\n",
    "class Joke(BaseModel):\n",
    "    setup: str = Field(description=\"농담을 설정하는 질문\")\n",
    "    punchline: str = Field(description=\"농담을 해결하는 답변\")"
   ]
  },
  {
   "cell_type": "code",
   "execution_count": 148,
   "id": "60f1966e",
   "metadata": {},
   "outputs": [
    {
     "data": {
      "text/plain": [
       "{'setup': \"Why couldn't the bicycle stand up by itself?\",\n",
       " 'punchline': 'Because it was two tired!'}"
      ]
     },
     "execution_count": 148,
     "metadata": {},
     "output_type": "execute_result"
    }
   ],
   "source": [
    "# Pydantic 객체를 참조하는 parser 정의\n",
    "parser = JsonOutputParser(pydantic_object=Joke)\n",
    "\n",
    "# 프롬프트 정의에 parser format instruction을 추가\n",
    "prompt = PromptTemplate(\n",
    "    template=\"사용자 query에 답변합니다.\\n{format_instructions}\\n{query}\\n\",\n",
    "    input_variables=[\"query\"],\n",
    "    partial_variables={\"format_instructions\": parser.get_format_instructions()},\n",
    ")\n",
    "\n",
    "# 프롬프트와 파서로 체인 구성\n",
    "chain = prompt | chatModel | parser\n",
    "\n",
    "chain.invoke({\"query\": \"재미있는 농담을 들려주세요.\"})"
   ]
  },
  {
   "cell_type": "code",
   "execution_count": null,
   "id": "ae588104",
   "metadata": {},
   "outputs": [],
   "source": []
  }
 ],
 "metadata": {
  "kernelspec": {
   "display_name": "Python 3 (ipykernel)",
   "language": "python",
   "name": "python3"
  },
  "language_info": {
   "codemirror_mode": {
    "name": "ipython",
    "version": 3
   },
   "file_extension": ".py",
   "mimetype": "text/x-python",
   "name": "python",
   "nbconvert_exporter": "python",
   "pygments_lexer": "ipython3",
   "version": "3.12.5"
  }
 },
 "nbformat": 4,
 "nbformat_minor": 5
}
