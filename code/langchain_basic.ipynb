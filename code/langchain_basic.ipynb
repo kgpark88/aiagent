{
 "cells": [
  {
   "cell_type": "markdown",
   "id": "465c003a-29cf-4cfe-a0c6-d36c04ae2b37",
   "metadata": {},
   "source": [
    "# LangChain 시작하기"
   ]
  },
  {
   "cell_type": "markdown",
   "id": "5a2f9501-fa9e-4830-95e2-537dff951cf1",
   "metadata": {},
   "source": [
    "## LangChain Provider \n",
    "* https://python.langchain.com/docs/integrations/providers/"
   ]
  },
  {
   "cell_type": "markdown",
   "id": "af743328-1bc8-4b01-85fb-fcb21c6499c2",
   "metadata": {},
   "source": [
    "## .env 파일 생성\n",
    "* OPENAI_API_KEY=\"your-openai-api-key\"  \n",
    "* LANGSMITH_TRACING=true  \n",
    "* LANGSMITH_ENDPOINT=\"https://api.smith.langchain.com\"\n",
    "* LANGSMITH_API_KEY=\"your-langsmith-api-key\"  \n",
    "* LANGSMITH_PROJECT=\"your-project-name\"  "
   ]
  },
  {
   "cell_type": "markdown",
   "id": "a2746c97-9fa5-481c-8333-21de1504a087",
   "metadata": {},
   "source": [
    "## 작업 추적\n",
    "LangSmith에서 이 프로젝트의 작업과 **비용**을 추적할 수 있습니다.\n",
    "* [smith.langchain.com](https://smith.langchain.com)"
   ]
  },
  {
   "cell_type": "markdown",
   "id": "36eaf7e9-acf2-4729-b54c-a8fb6ad2ae1a",
   "metadata": {},
   "source": [
    "### 패키지 설치"
   ]
  },
  {
   "cell_type": "code",
   "execution_count": 1,
   "id": "e9a10870-432e-4818-aa5e-6be24c579d39",
   "metadata": {},
   "outputs": [
    {
     "name": "stdout",
     "output_type": "stream",
     "text": [
      "\n",
      "\u001b[1m[\u001b[0m\u001b[34;49mnotice\u001b[0m\u001b[1;39;49m]\u001b[0m\u001b[39;49m A new release of pip is available: \u001b[0m\u001b[31;49m24.3.1\u001b[0m\u001b[39;49m -> \u001b[0m\u001b[32;49m25.0.1\u001b[0m\n",
      "\u001b[1m[\u001b[0m\u001b[34;49mnotice\u001b[0m\u001b[1;39;49m]\u001b[0m\u001b[39;49m To update, run: \u001b[0m\u001b[32;49mpip install --upgrade pip\u001b[0m\n",
      "Note: you may need to restart the kernel to use updated packages.\n"
     ]
    }
   ],
   "source": [
    "%pip install -qU langchain langchain-groq python-dotenv langchain-openai"
   ]
  },
  {
   "cell_type": "code",
   "execution_count": 2,
   "id": "1a530c23",
   "metadata": {},
   "outputs": [
    {
     "data": {
      "text/plain": [
       "True"
      ]
     },
     "execution_count": 2,
     "metadata": {},
     "output_type": "execute_result"
    }
   ],
   "source": [
    "import os\n",
    "from dotenv import load_dotenv, find_dotenv\n",
    "\n",
    "load_dotenv(find_dotenv())"
   ]
  },
  {
   "cell_type": "markdown",
   "id": "189e9e17-dfb0-4fd3-85b9-1fba83771941",
   "metadata": {},
   "source": [
    "## OpenAI 객체 생성"
   ]
  },
  {
   "cell_type": "code",
   "execution_count": 3,
   "id": "e92628f2-62e8-436c-92d4-e849de7744ad",
   "metadata": {},
   "outputs": [],
   "source": [
    "from langchain_openai import OpenAI\n",
    "\n",
    "llmModel = OpenAI()"
   ]
  },
  {
   "cell_type": "code",
   "execution_count": 4,
   "id": "819136a0",
   "metadata": {},
   "outputs": [
    {
     "name": "stdout",
     "output_type": "stream",
     "text": [
      "gpt-3.5-turbo-instruct\n"
     ]
    }
   ],
   "source": [
    "print(llmModel.model_name)"
   ]
  },
  {
   "cell_type": "markdown",
   "id": "c67e5a70",
   "metadata": {},
   "source": [
    "###  LLM 모델 호출 "
   ]
  },
  {
   "cell_type": "code",
   "execution_count": 5,
   "id": "93ade5fa-b487-4f32-bda7-0f9c41b096b5",
   "metadata": {},
   "outputs": [],
   "source": [
    "response = llmModel.invoke(\n",
    "    \"케네디 가족에 대한 재밌는 사실 하나를 말해 보세요.\"\n",
    ")"
   ]
  },
  {
   "cell_type": "code",
   "execution_count": 6,
   "id": "a33285ef-4bb5-4fd6-9894-790c07a5468c",
   "metadata": {},
   "outputs": [
    {
     "data": {
      "text/plain": [
       "'\\n\\n존 F. 케네디 대통령의 딸 캐롤라인 케네디는 고등학교 시절 여자 교사로부터 학교에서 가장 불량한 학생으로 선정된 바 있습니다.'"
      ]
     },
     "execution_count": 6,
     "metadata": {},
     "output_type": "execute_result"
    }
   ],
   "source": [
    "response"
   ]
  },
  {
   "cell_type": "code",
   "execution_count": 7,
   "id": "3aa71043-4707-44b4-8d1f-8540d5d139b2",
   "metadata": {},
   "outputs": [
    {
     "name": "stdout",
     "output_type": "stream",
     "text": [
      "\n",
      "\n",
      "존 F. 케네디 대통령의 딸 캐롤라인 케네디는 고등학교 시절 여자 교사로부터 학교에서 가장 불량한 학생으로 선정된 바 있습니다.\n"
     ]
    }
   ],
   "source": [
    "print(response)"
   ]
  },
  {
   "cell_type": "markdown",
   "id": "9b4c29ae-d60a-44c7-925c-20084c0b941e",
   "metadata": {},
   "source": [
    "#### Streaming"
   ]
  },
  {
   "cell_type": "code",
   "execution_count": 8,
   "id": "158aa111-9167-444c-9b10-90b095eac390",
   "metadata": {},
   "outputs": [
    {
     "name": "stdout",
     "output_type": "stream",
     "text": [
      "\n",
      "\n",
      "존 F. 케네디 대통령은 전설적인 피트니스 열정을 가졌으며, 매일 아침 30분에서 1시간 정도 자전거를 타고 몸을 운동했다고 합니다. 그리고 그가 자전거를 타는 것을 좋아하는 이유 중 하나는 자연을 즐기는 것이었습니다. 그는 매일 아침 이전에 자전거를 타고 자연을 즐기며 휴식을 취했습니다."
     ]
    }
   ],
   "source": [
    "for chunk in llmModel.stream(\"케네디 가족에 대한 재밌는 사실 하나를 말해 보세요.\"):\n",
    "    print(chunk, end=\"\", flush=True)"
   ]
  },
  {
   "cell_type": "markdown",
   "id": "98101f10-6349-4f98-9fb7-a1400166cedc",
   "metadata": {},
   "source": [
    "#### Temperature"
   ]
  },
  {
   "cell_type": "code",
   "execution_count": 9,
   "id": "ac12473a-1ffd-4a22-852a-92e1e6374914",
   "metadata": {},
   "outputs": [],
   "source": [
    "creativeLlmModel = OpenAI(\n",
    "    temperature=0.9\n",
    ")"
   ]
  },
  {
   "cell_type": "code",
   "execution_count": 10,
   "id": "325b9b2a-c61d-4264-81bf-71090f9b0151",
   "metadata": {},
   "outputs": [],
   "source": [
    "response = llmModel.invoke(\n",
    "    \"JFK에 대한 5줄짜리 짧은 시를 쓰세요\"\n",
    ")"
   ]
  },
  {
   "cell_type": "code",
   "execution_count": 11,
   "id": "679c1220-13ed-4251-ba4b-f8f1ba350f2d",
   "metadata": {},
   "outputs": [
    {
     "name": "stdout",
     "output_type": "stream",
     "text": [
      "\n",
      "\n",
      "In the land of the free,\n",
      "A leader rose with grace and glee.\n",
      "With words that inspired and moved,\n",
      "He captured hearts and minds, it's proved.\n",
      "JFK, forever remembered, his legacy lives on, unmoved.\n"
     ]
    }
   ],
   "source": [
    "print(response)"
   ]
  },
  {
   "cell_type": "markdown",
   "id": "31346a0c-ee9c-4a80-8e8a-85ef682df7c3",
   "metadata": {},
   "source": [
    "## ChatOpenAI 객체 생성"
   ]
  },
  {
   "cell_type": "code",
   "execution_count": 12,
   "id": "b14d27c3-0b1b-4b11-a883-8da2734f21a7",
   "metadata": {},
   "outputs": [],
   "source": [
    "from langchain_openai import ChatOpenAI\n",
    "\n",
    "chatModel = ChatOpenAI(model=\"gpt-4o-mini\")"
   ]
  },
  {
   "cell_type": "code",
   "execution_count": 13,
   "id": "0eaa967e-067f-4574-8cbc-b1e5b7956fa2",
   "metadata": {},
   "outputs": [],
   "source": [
    "messages = [\n",
    "    (\"system\", \"당신은 케네디 가문의 역사 전문가입니다.\"),\n",
    "    (\"human\", \"JFK에 대한 흥미로운 사실 하나 말해보세요.\"),\n",
    "]\n",
    "response = chatModel.invoke(messages)"
   ]
  },
  {
   "cell_type": "code",
   "execution_count": 14,
   "id": "2f567f5a-c4ea-4234-84e6-422bf6104589",
   "metadata": {},
   "outputs": [
    {
     "data": {
      "text/plain": [
       "AIMessage(content='존 F. 케네디(JFK)는 미국 역사상 최연소 대통령으로 알려져 있지만, 그는 또한 20세기 초 이전의 미국 대통령 중 가장 오랫동안 선장 경험이 있는 인물입니다. 제2차 세계대전 동안 그는 미국 해군에서 PT 보트를 지휘하며 전투 임무를 수행하였습니다. 그의 배는 일본 해군에 의해 공격받았고, 그는 승무원들을 구하기 위해 위험을 무릅쓰고 그들을 안전한 곳으로 인도했습니다. 이 경험은 그의 리더십과 결정적인 행동에 큰 영향을 미쳤습니다.', additional_kwargs={'refusal': None}, response_metadata={'token_usage': {'completion_tokens': 131, 'prompt_tokens': 39, 'total_tokens': 170, 'completion_tokens_details': {'accepted_prediction_tokens': 0, 'audio_tokens': 0, 'reasoning_tokens': 0, 'rejected_prediction_tokens': 0}, 'prompt_tokens_details': {'audio_tokens': 0, 'cached_tokens': 0}}, 'model_name': 'gpt-4o-mini-2024-07-18', 'system_fingerprint': 'fp_44added55e', 'id': 'chatcmpl-BKhaEhPnxnXUUFGDynP30cdnQ54Bm', 'finish_reason': 'stop', 'logprobs': None}, id='run-0415c80c-bbdd-43f3-a677-01c03100fd37-0', usage_metadata={'input_tokens': 39, 'output_tokens': 131, 'total_tokens': 170, 'input_token_details': {'audio': 0, 'cache_read': 0}, 'output_token_details': {'audio': 0, 'reasoning': 0}})"
      ]
     },
     "execution_count": 14,
     "metadata": {},
     "output_type": "execute_result"
    }
   ],
   "source": [
    "response"
   ]
  },
  {
   "cell_type": "code",
   "execution_count": 15,
   "id": "19a6abd4-a072-47ea-ae60-7959def9b602",
   "metadata": {},
   "outputs": [
    {
     "data": {
      "text/plain": [
       "'존 F. 케네디(JFK)는 미국 역사상 최연소 대통령으로 알려져 있지만, 그는 또한 20세기 초 이전의 미국 대통령 중 가장 오랫동안 선장 경험이 있는 인물입니다. 제2차 세계대전 동안 그는 미국 해군에서 PT 보트를 지휘하며 전투 임무를 수행하였습니다. 그의 배는 일본 해군에 의해 공격받았고, 그는 승무원들을 구하기 위해 위험을 무릅쓰고 그들을 안전한 곳으로 인도했습니다. 이 경험은 그의 리더십과 결정적인 행동에 큰 영향을 미쳤습니다.'"
      ]
     },
     "execution_count": 15,
     "metadata": {},
     "output_type": "execute_result"
    }
   ],
   "source": [
    "response.content"
   ]
  },
  {
   "cell_type": "code",
   "execution_count": 16,
   "id": "47927ac1-13bc-40eb-9917-9d39418f0f7d",
   "metadata": {},
   "outputs": [
    {
     "data": {
      "text/plain": [
       "{'token_usage': {'completion_tokens': 131,\n",
       "  'prompt_tokens': 39,\n",
       "  'total_tokens': 170,\n",
       "  'completion_tokens_details': {'accepted_prediction_tokens': 0,\n",
       "   'audio_tokens': 0,\n",
       "   'reasoning_tokens': 0,\n",
       "   'rejected_prediction_tokens': 0},\n",
       "  'prompt_tokens_details': {'audio_tokens': 0, 'cached_tokens': 0}},\n",
       " 'model_name': 'gpt-4o-mini-2024-07-18',\n",
       " 'system_fingerprint': 'fp_44added55e',\n",
       " 'id': 'chatcmpl-BKhaEhPnxnXUUFGDynP30cdnQ54Bm',\n",
       " 'finish_reason': 'stop',\n",
       " 'logprobs': None}"
      ]
     },
     "execution_count": 16,
     "metadata": {},
     "output_type": "execute_result"
    }
   ],
   "source": [
    "response.response_metadata"
   ]
  },
  {
   "cell_type": "markdown",
   "id": "54631efb-dbe2-4bd7-b588-324f19a28b2c",
   "metadata": {},
   "source": [
    "#### 이전에는 아래와 같은 방법을 사용했고, 아직 많이 사용하고 있습니다."
   ]
  },
  {
   "cell_type": "code",
   "execution_count": 17,
   "id": "a20ba943-ce6b-45e2-9dbb-351c48421069",
   "metadata": {},
   "outputs": [],
   "source": [
    "from langchain_core.messages import HumanMessage, SystemMessage\n",
    "from langchain_core.prompts import ChatPromptTemplate"
   ]
  },
  {
   "cell_type": "code",
   "execution_count": 18,
   "id": "b879a5f4-2250-4a70-b065-7796c4fe9f06",
   "metadata": {},
   "outputs": [],
   "source": [
    "messages = [\n",
    "    SystemMessage(content=\"당신은 케네디 가문에 대한 역사 전문가입니다.\"),\n",
    "    HumanMessage(content=\"조셉 P. 케네디는 몇 명의 자녀를 낳았습니까?\"),\n",
    "]\n",
    "\n",
    "response = chatModel.invoke(messages)"
   ]
  },
  {
   "cell_type": "code",
   "execution_count": 19,
   "id": "78f9b26b-e7e1-4613-8e3e-0c81f8b54da6",
   "metadata": {},
   "outputs": [
    {
     "data": {
      "text/plain": [
       "AIMessage(content='조셉 P. 케네디는 총 9명의 자녀를 두었습니다. 그의 자녀들은 다음과 같습니다:\\n\\n1. 조지프 P. 케네디 2세 (Joseph P. Kennedy II)\\n2. 존 F. 케네디 (John F. Kennedy)\\n3. 로버트 F. 케네디 (Robert F. Kennedy)\\n4. 에드워드 M. 케네디 (Edward M. \"Ted\" Kennedy)\\n5. 킴벌리 케네디 (Kathleen \"Kick\" Kennedy)\\n6. 이브 케네디 (Eunice Kennedy)\\n7. 패트리샤 케네디 (Patricia Kennedy)\\n8. 제인 케네디 (Jean Kennedy)\\n9. 마리안 케네디 (Mary \"Rosemary\" Kennedy)\\n\\n이들 중 존 F. 케네디, 로버트 F. 케네디, 에드워드 M. 케네디는 미국 정치에서 중요한 역할을 한 인물들입니다.', additional_kwargs={'refusal': None}, response_metadata={'token_usage': {'completion_tokens': 224, 'prompt_tokens': 47, 'total_tokens': 271, 'completion_tokens_details': {'accepted_prediction_tokens': 0, 'audio_tokens': 0, 'reasoning_tokens': 0, 'rejected_prediction_tokens': 0}, 'prompt_tokens_details': {'audio_tokens': 0, 'cached_tokens': 0}}, 'model_name': 'gpt-4o-mini-2024-07-18', 'system_fingerprint': 'fp_64e0ac9789', 'id': 'chatcmpl-BKhaHYK0tIqJrE2idbyNGNYEWRFdE', 'finish_reason': 'stop', 'logprobs': None}, id='run-a5ec894e-6c69-4a30-b81d-dd5880db5355-0', usage_metadata={'input_tokens': 47, 'output_tokens': 224, 'total_tokens': 271, 'input_token_details': {'audio': 0, 'cache_read': 0}, 'output_token_details': {'audio': 0, 'reasoning': 0}})"
      ]
     },
     "execution_count": 19,
     "metadata": {},
     "output_type": "execute_result"
    }
   ],
   "source": [
    "response"
   ]
  },
  {
   "cell_type": "markdown",
   "id": "e41204f4-0cec-4039-a18d-2a25b9dd5efd",
   "metadata": {},
   "source": [
    "#### 스트리밍"
   ]
  },
  {
   "cell_type": "code",
   "execution_count": 20,
   "id": "83d9f1d0-bba8-4885-9ac1-01fc273732b1",
   "metadata": {},
   "outputs": [
    {
     "name": "stdout",
     "output_type": "stream",
     "text": [
      "조셉 P. 케네디는 총 9명의 자녀를 두었습니다. 그의 자녀들은 존 F. 케네디, 로버트 F. 케네디, 에드워드 M. 케네디, 재키 케네디(Onassis), 패트리샤 케네디, 유제니 케네디, 도로시 케네디, 조셉 P. 케네디 주니어, 그리고 킴벌리 케네디입니다. 이들 중 일부는 미국 정치와 사회에 중요한 영향을 미친 인물들입니다."
     ]
    }
   ],
   "source": [
    "for chunk in chatModel.stream(messages):\n",
    "    print(chunk.content, end=\"\", flush=True)"
   ]
  },
  {
   "cell_type": "markdown",
   "id": "acd276b9-494a-47c2-8455-2ff33fc4f221",
   "metadata": {},
   "source": [
    "#### 또 다른 예전 방법"
   ]
  },
  {
   "cell_type": "code",
   "execution_count": 21,
   "id": "4bc0210b-27e0-41ed-8ad8-ff1c75c9bef4",
   "metadata": {},
   "outputs": [],
   "source": [
    "prompt = ChatPromptTemplate.from_messages(\n",
    "    [\n",
    "        (\n",
    "            \"system\",\n",
    "            \"당신은 이 {topic} 에 대한 전문적인  {profession} 입니다.\",\n",
    "        ),\n",
    "        (\"human\", \"{input}\"),\n",
    "    ]\n",
    ")\n",
    "\n",
    "chain = prompt | chatModel\n",
    "\n",
    "response = chain.invoke(\n",
    "    {\n",
    "        \"topic\": \"케네디 가족\",\n",
    "        \"profession\": \"역사가\",\n",
    "        \"input\": \"JFK에 대한 재밌는 사실 하나 말해주세요.\",\n",
    "    }\n",
    ")"
   ]
  },
  {
   "cell_type": "code",
   "execution_count": 22,
   "id": "cc436d53-b372-43eb-ac00-ee39c9fa491a",
   "metadata": {},
   "outputs": [
    {
     "data": {
      "text/plain": [
       "AIMessage(content='존 F. 케네디(JFK)에 대한 흥미로운 사실 중 하나는 그가 대통령직에 있을 때 \"뉴프론티어(New Frontier)\"라는 용어를 제시하여 미국의 미래에 대한 비전을 제시했다는 것입니다. 이는 우주 개발, 인권, 빈곤 퇴치 등 다양한 분야에서 새로운 도전과 기회를 강조하는 개념으로, 당시의 사회적, 경제적 문제에 대한 해결책을 모색하기 위한 비전이었습니다. JFK는 특히 우주 경쟁에서 미국이 소련에 뒤지지 않도록 하기 위해 아폴로 프로그램을 추진하였고, 이는 1969년 인간이 달에 착륙하는 성과로 이어졌습니다. 그의 뉴프론티어는 오늘날에도 여전히 많은 사람들에게 영감을 주고 있습니다.', additional_kwargs={'refusal': None}, response_metadata={'token_usage': {'completion_tokens': 177, 'prompt_tokens': 42, 'total_tokens': 219, 'completion_tokens_details': {'accepted_prediction_tokens': 0, 'audio_tokens': 0, 'reasoning_tokens': 0, 'rejected_prediction_tokens': 0}, 'prompt_tokens_details': {'audio_tokens': 0, 'cached_tokens': 0}}, 'model_name': 'gpt-4o-mini-2024-07-18', 'system_fingerprint': 'fp_b376dfbbd5', 'id': 'chatcmpl-BKhaObW7Gd3bAK9Yp4H1486RIFig0', 'finish_reason': 'stop', 'logprobs': None}, id='run-1b73f38a-2fa0-4667-9664-ea658f450cc9-0', usage_metadata={'input_tokens': 42, 'output_tokens': 177, 'total_tokens': 219, 'input_token_details': {'audio': 0, 'cache_read': 0}, 'output_token_details': {'audio': 0, 'reasoning': 0}})"
      ]
     },
     "execution_count": 22,
     "metadata": {},
     "output_type": "execute_result"
    }
   ],
   "source": [
    "response"
   ]
  },
  {
   "cell_type": "markdown",
   "id": "e9dc5d06-9d3e-46ed-867d-c8e9efa52372",
   "metadata": {},
   "source": [
    "# 다른 LLM 사용\n",
    "* Llama3 및 Mixtral과 같은 오픈 소스 LLM 사용\n"
   ]
  },
  {
   "cell_type": "markdown",
   "id": "959898ff-1734-49e4-b3ae-717d880ce7de",
   "metadata": {},
   "source": [
    "## Groq 소개\n",
    "* Groq는 AI 스타트업 기업입니다. **일론 머스크의 LLM인 Grok과는 다릅니다.**\n",
    "* LLM을 더 빠르고 저렴하게 실행하도록 특별히 설계된 새로운 칩인 LPU(언어 처리 장치)를 개발했습니다.\n",
    "* Llama3 와 같은 오픈 소스 LLM을 시도할 수 있는 Groq 클라우드를 제공합니다.\n",
    "* **Rate Limit이 있는 Groq API 키를 사용하여 앱에서 Llama3 또는 Mixtral을 무료로 사용할 수 있습니다.**\n",
    "* Groq Rate limits : https://console.groq.com/dashboard/limits"
   ]
  },
  {
   "cell_type": "markdown",
   "id": "f2840b03-e578-4833-8c78-e6b21f93f9c5",
   "metadata": {},
   "source": [
    "## 무료 Groq API 키를 얻는 방법\n",
    "* Groq Cloud에 로그인: [https://console.groq.com/login](https://console.groq.com/login)\n",
    "* 로그인 후 API Keys를 클릭합니다.\n",
    "* 새 API 키를 만듭니다.\n",
    "* API 키를 복사하여 .env 파일에 붙여넣습니다. : GROQ_API_KEY=\"your-groq-api-key\""
   ]
  },
  {
   "cell_type": "code",
   "execution_count": 23,
   "id": "968755e5-3da2-4c34-8a12-3a3bd09be8fb",
   "metadata": {},
   "outputs": [
    {
     "data": {
      "text/plain": [
       "True"
      ]
     },
     "execution_count": 23,
     "metadata": {},
     "output_type": "execute_result"
    }
   ],
   "source": [
    "import os\n",
    "from dotenv import load_dotenv, find_dotenv\n",
    "\n",
    "load_dotenv(find_dotenv())"
   ]
  },
  {
   "cell_type": "code",
   "execution_count": 24,
   "id": "736105b0-8548-4a85-94a0-a907faeea019",
   "metadata": {},
   "outputs": [],
   "source": [
    "from langchain_groq import ChatGroq\n",
    "\n",
    "llamaChatModel = ChatGroq(\n",
    "    model=\"llama3-70b-8192\"\n",
    ")"
   ]
  },
  {
   "cell_type": "code",
   "execution_count": 25,
   "id": "90ffd628-02d6-445b-915a-7e7f27aa6aaa",
   "metadata": {},
   "outputs": [],
   "source": [
    "messages = [\n",
    "    (\"system\", \"당신은 케네디 가문의 역사 전문가입니다.\"),\n",
    "    (\"human\", \"가족 중 몇 명이 비극적으로 죽었습니까? 한글로 답변해주세요.\"),\n",
    "]"
   ]
  },
  {
   "cell_type": "code",
   "execution_count": 26,
   "id": "39231a98-1dce-4989-8e4d-ccc11d281ab5",
   "metadata": {},
   "outputs": [],
   "source": [
    "llamaResponse = llamaChatModel.invoke(messages)"
   ]
  },
  {
   "cell_type": "code",
   "execution_count": 27,
   "id": "8d163afe-0945-4d6e-830c-bd2b85236cc4",
   "metadata": {},
   "outputs": [
    {
     "name": "stdout",
     "output_type": "stream",
     "text": [
      "케네디 가문은 미국 역사상 가장 유명한 정치가문 중 하나이지만, 그들의 삶은 비극적인 죽음으로 얼룩져 있습니다. 다음과 같은 ケ네디 family 구성원이 비극적으로 죽었습니다.\n",
      "\n",
      "1. 조셉 P. 케네디 주니어 (Joseph P. Kennedy Jr., 1915-1944) - 제2차 세계대전 중에 폭탄을 搬送하는 임무 중 추락하여 사망했습니다.\n",
      "2. 캐서린 케네디 (Kathleen Kennedy, 1920-1948) - 비행기 추락사고로 사망했습니다.\n",
      "3. 존 F. 케네디 (John F. Kennedy, 1917-1963) - 미국 35대 대통령으로 재임 중 달라스에서 암살당했습니다.\n",
      "4. 로버트 F. 케네디 (Robert F. Kennedy, 1925-1968) - 미국 상원의원으로 재임 중 캘리포니아 주에서 암살당했습니다.\n",
      "5. 데이비드 케네디 (David Kennedy, 1955-1984) - 약물 과다 복용으로 사망했습니다.\n",
      "6. 마이클 케네디 (Michael Kennedy, 1958-1997) - 스키링 사고로 사망했습니다.\n",
      "7. 존 F. 케네디 주니어 (John F. Kennedy Jr., 1960-1999) - 비행기 추락사고로 사망했습니다.\n",
      "8. 매리 케네디 (Mary Kennedy, 1960-2012) - 자살로 사망했습니다.\n",
      "\n",
      "케네디 가문은 이러한 비극적인 죽음으로 인해 '케네디의 저주'라 불리는 운명을 타고 있다고 합니다.\n"
     ]
    }
   ],
   "source": [
    "print(llamaResponse.content)"
   ]
  },
  {
   "cell_type": "markdown",
   "id": "502aac04-b1d3-4b16-b531-240d8f5672ca",
   "metadata": {},
   "source": [
    "## 프롬프트와 프롬프트 템플릿\n",
    "**프롬프트**는 언어 모델에 제공하는 입력입니다. 이 입력은 언어 모델이 응답하는 방식을 안내합니다.\n",
    "프롬프트에는 여러 유형이 있습니다.\n",
    "* Instruction : 일반 지침\n",
    "* Few-shot examples : 몇 가지 예가 있는 지침\n",
    "* 주어진 작업에 적합한 특정 컨텍스트와 질문\n",
    "* 기타\n",
    "\n",
    "**프롬프트 템플릿**은 완성하기 위해 몇 가지 추가 부분이 필요한 미리 정의된 프롬프트 레시피입니다. 추가 부분은 사용자가 제공하는 변수입니다.\n",
    "* 프롬프트 템플릿: 변수 및 기타 요소가 있는 정교한 프롬프트를 사용하려는 경우. 프롬프트 템플릿에는 다음이 포함될 수 있습니다.\n",
    "    * Instruction\n",
    "    * Few-shot example\n",
    "    * 주어진 작업에 적합한 특정 컨텍스트와 질문"
   ]
  },
  {
   "cell_type": "code",
   "execution_count": 28,
   "id": "ae52ad10-f11e-4908-a72b-f059f339aabb",
   "metadata": {},
   "outputs": [
    {
     "data": {
      "text/plain": [
       "'\\n\\n존 F. 케네디는 미국의 경제학자이며, 케네디 가족의 조상인 존 F. 케네디와 그의 아내 로즈 엘리자베스 피츠제럴드의 아들로 태어났습니다. 그는 하버드 대학교와 런던스쿨 오브 에코노믹스에서 경제학을 공부하고, 미국의 최초의 민간 경제 연구 기관인 미국 경제 연구소를 설립했습니다.\\n\\n존 F. 케네디는 1934년에 로스앤젤레스에서 결혼한 아내 로즈와 함께 9명의 자녀를 두었습니다. 그 중 가장 유명한 것은 미국의 35번째 대통령 존 F. 케'"
      ]
     },
     "execution_count": 28,
     "metadata": {},
     "output_type": "execute_result"
    }
   ],
   "source": [
    "from langchain_core.prompts import PromptTemplate\n",
    "\n",
    "prompt_template = PromptTemplate.from_template(\n",
    "    \"{topic}에 대한 {adjective} 이야기를 들려주세요.\"\n",
    ")\n",
    "\n",
    "llmModelPrompt = prompt_template.format(\n",
    "    topic=\"케네디 가족\",\n",
    "    adjective=\"호기심 나는\" \n",
    "\n",
    ")\n",
    "\n",
    "llmModel.invoke(llmModelPrompt)"
   ]
  },
  {
   "cell_type": "code",
   "execution_count": 29,
   "id": "ddc20827-bee1-49b7-a2d0-d0af83674862",
   "metadata": {},
   "outputs": [],
   "source": [
    "from langchain_core.prompts import ChatPromptTemplate\n",
    "\n",
    "chat_template = ChatPromptTemplate.from_messages(\n",
    "    [\n",
    "        (\"system\", \"당신은 {topic}의 {profession} 전문가입니다.\"),\n",
    "        (\"human\", \"안녕하세요, {profession} 님, 이 질문에 답해 주시겠습니까?\"),\n",
    "        (\"ai\", \"물론입니다!\"),\n",
    "        (\"human\", \"{user_input}\"),\n",
    "    ]\n",
    ")\n",
    "\n",
    "messages = chat_template.format_messages(\n",
    "    profession=\"역사가\",\n",
    "    topic=\"케네디 가족\",\n",
    "    user_input=\"조셉 P. 케네디의 손자는 몇 명이었습니까?\"\n",
    ")\n",
    "\n",
    "response = chatModel.invoke(messages)"
   ]
  },
  {
   "cell_type": "code",
   "execution_count": 30,
   "id": "515c5f1e-32e5-4ce9-9ac2-60048a0c311a",
   "metadata": {},
   "outputs": [
    {
     "name": "stdout",
     "output_type": "stream",
     "text": [
      "조셉 P. 케네디는 세 아들, 즉 존 F. 케네디, 로버트 F. 케네디, 에드워드 M. 케네디를 두었고, 이들 각각은 자녀를 둡니다. 따라서 조셉 P. 케네디의 손자는 여러 명이 있습니다.\n",
      "\n",
      "소속된 가족의 세부 사항을 말씀드리면:\n",
      "\n",
      "1. **존 F. 케네디**는 세 자녀가 있습니다: 캐롤라인, 존(JFK Jr.), 패트릭.\n",
      "2. **로버트 F. 케네디**는 11명의 자녀를 두었습니다.\n",
      "3. **에드워드 M. 케네디**는 3명의 자녀가 있습니다.\n",
      "\n",
      "따라서 조셉 P. 케네디의 손자들은 총 17명 이상입니다. 정확한 수치는 가족 내 개인적인 상황에 따라 달라질 수 있습니다. 추가로 궁금한 점이 있다면 말씀해 주세요!\n"
     ]
    }
   ],
   "source": [
    "print(response.content)"
   ]
  },
  {
   "cell_type": "markdown",
   "id": "cf3b30fd-7ef4-417b-b680-3a99238fad7e",
   "metadata": {},
   "source": [
    "## 프롬프팅 기본 전략"
   ]
  },
  {
   "cell_type": "markdown",
   "id": "20cb4213-cb76-4854-a9cf-86f3dbdb09e7",
   "metadata": {},
   "source": [
    "* Zero Shot Prompt: \"이 리뷰의 감정을 분류하세요.\"\n",
    "* Few Shot Prompt: \"이러한 예시를 바탕으로 이 리뷰의 감정을 분류하세요.\"\n",
    "* Chain Of Thought Prompt: \"이러한 예시와 추론에 대한 설명을 기반으로 이 리뷰의 감정을 분류하십시오.\""
   ]
  },
  {
   "cell_type": "markdown",
   "id": "e4222a73-92c3-4ed5-90c7-e83b38b7092e",
   "metadata": {},
   "source": [
    "## Few Shot Prompting"
   ]
  },
  {
   "cell_type": "code",
   "execution_count": 31,
   "id": "cb467861-bef9-4326-9bb1-ffff0ba6813f",
   "metadata": {},
   "outputs": [],
   "source": [
    "from langchain_core.prompts import FewShotChatMessagePromptTemplate"
   ]
  },
  {
   "cell_type": "code",
   "execution_count": 32,
   "id": "daf860ef-d319-4cc4-a3f7-eabddd41297c",
   "metadata": {},
   "outputs": [],
   "source": [
    "examples = [\n",
    "    {\"input\": \"hi!\", \"output\": \"¡hola!\"},\n",
    "    {\"input\": \"bye!\", \"output\": \"¡adiós!\"},\n",
    "]\n",
    "\n",
    "example_prompt = ChatPromptTemplate.from_messages(\n",
    "    [\n",
    "        (\"human\", \"{input}\"),\n",
    "        (\"ai\", \"{output}\"),\n",
    "    ]\n",
    ")\n",
    "\n",
    "few_shot_prompt = FewShotChatMessagePromptTemplate(\n",
    "    example_prompt=example_prompt,\n",
    "    examples=examples,\n",
    ")\n",
    "\n",
    "final_prompt = ChatPromptTemplate.from_messages(\n",
    "    [\n",
    "        (\"system\", \"You are an English-Spanish translator.\"),\n",
    "        few_shot_prompt,\n",
    "        (\"human\", \"{input}\"),\n",
    "    ]\n",
    ")"
   ]
  },
  {
   "cell_type": "code",
   "execution_count": 33,
   "id": "6acc6383-7f00-48ae-a721-830666c0e9ec",
   "metadata": {},
   "outputs": [],
   "source": [
    "messages = final_prompt.format_messages(\n",
    "    input=\"historian\"\n",
    ")\n",
    "\n",
    "response = chatModel.invoke(messages)"
   ]
  },
  {
   "cell_type": "code",
   "execution_count": 34,
   "id": "a351e7f2",
   "metadata": {},
   "outputs": [
    {
     "data": {
      "text/plain": [
       "'historiador'"
      ]
     },
     "execution_count": 34,
     "metadata": {},
     "output_type": "execute_result"
    }
   ],
   "source": [
    "response.content"
   ]
  },
  {
   "cell_type": "markdown",
   "id": "ddccb597-49f8-42d2-8cb0-42e607eb0d9a",
   "metadata": {},
   "source": [
    "# Chains\n",
    "* 여러 작업을 특정 순서로 수행합니다."
   ]
  },
  {
   "cell_type": "code",
   "execution_count": 35,
   "id": "52dabf75",
   "metadata": {},
   "outputs": [
    {
     "data": {
      "text/plain": [
       "AIMessage(content=\"John F. Kennedy, commonly referred to as JFK, was the 35th President of the United States, serving from January 20, 1961, until his assassination on November 22, 1963. He was born on May 29, 1917, in Brookline, Massachusetts. Kennedy was a member of the Democratic Party and the first Catholic president in U.S. history.\\n\\nHis presidency is notable for several key events and policies, including the Cuban Missile Crisis, the establishment of the Peace Corps, and efforts towards civil rights legislation. JFK's vision for America included the goal of landing a man on the Moon, which ultimately became a reality in 1969. His assassination in Dallas, Texas, marked a tragic and pivotal moment in U.S. history and has been the subject of extensive investigation and numerous conspiracy theories.\", additional_kwargs={'refusal': None}, response_metadata={'token_usage': {'completion_tokens': 170, 'prompt_tokens': 50, 'total_tokens': 220, 'completion_tokens_details': {'accepted_prediction_tokens': 0, 'audio_tokens': 0, 'reasoning_tokens': 0, 'rejected_prediction_tokens': 0}, 'prompt_tokens_details': {'audio_tokens': 0, 'cached_tokens': 0}}, 'model_name': 'gpt-4o-mini-2024-07-18', 'system_fingerprint': 'fp_44added55e', 'id': 'chatcmpl-BKhaaPNebQ0wQWaqdOikV7RX1TjNd', 'finish_reason': 'stop', 'logprobs': None}, id='run-ef90c1a6-c3de-40a6-b7d2-f4bdcc39b827-0', usage_metadata={'input_tokens': 50, 'output_tokens': 170, 'total_tokens': 220, 'input_token_details': {'audio': 0, 'cache_read': 0}, 'output_token_details': {'audio': 0, 'reasoning': 0}})"
      ]
     },
     "execution_count": 35,
     "metadata": {},
     "output_type": "execute_result"
    }
   ],
   "source": [
    "chain = final_prompt | chatModel\n",
    "\n",
    "chain.invoke({\"input\": \"Who was JFK?\"})"
   ]
  },
  {
   "cell_type": "markdown",
   "id": "2bbaffd2-07f7-493a-818a-ad22ba02f158",
   "metadata": {},
   "source": [
    "# Ouput Parser\n",
    "* LLM의 응답 형식 지정"
   ]
  },
  {
   "cell_type": "markdown",
   "id": "3aee206a",
   "metadata": {},
   "source": [
    "## 출력 파싱\n",
    "* 언어 모델은 텍스트를 출력합니다. 때로는 JSON 사전이나 XML 문서와 같이 다른 형식으로 답변을 원할 수 있습니다. 이를 위해 Output Parsers를 사용합니다."
   ]
  },
  {
   "cell_type": "code",
   "execution_count": 36,
   "id": "aac5045a-9f0a-4277-ad12-9b09bbf2a7da",
   "metadata": {},
   "outputs": [],
   "source": [
    "from langchain_core.prompts import PromptTemplate\n",
    "from langchain.output_parsers.json import SimpleJsonOutputParser\n",
    "\n",
    "json_prompt = PromptTemplate.from_template(\n",
    "    \"다음 질문 : {question} 에 답하는 `answer` 키가 포함된 JSON 객체를 반환합니다.\"\n",
    ")\n",
    "\n",
    "json_parser = SimpleJsonOutputParser()\n",
    "\n",
    "json_chain = json_prompt | llmModel | json_parser"
   ]
  },
  {
   "cell_type": "markdown",
   "id": "0c1a475e",
   "metadata": {},
   "source": [
    "#### 이전 프롬프트 템플릿에는 parser 지침이 포함되어 있습니다."
   ]
  },
  {
   "cell_type": "code",
   "execution_count": 37,
   "id": "3321bd89",
   "metadata": {},
   "outputs": [
    {
     "data": {
      "text/plain": [
       "'Return a JSON object.'"
      ]
     },
     "execution_count": 37,
     "metadata": {},
     "output_type": "execute_result"
    }
   ],
   "source": [
    "json_parser.get_format_instructions()"
   ]
  },
  {
   "cell_type": "code",
   "execution_count": 38,
   "id": "a2ac8675",
   "metadata": {},
   "outputs": [
    {
     "data": {
      "text/plain": [
       "{'answer': '러시아'}"
      ]
     },
     "execution_count": 38,
     "metadata": {},
     "output_type": "execute_result"
    }
   ],
   "source": [
    "json_chain.invoke({\"question\": \"가장 큰 나라는 어디인가요?\"})"
   ]
  },
  {
   "cell_type": "markdown",
   "id": "c9e6c6d1",
   "metadata": {},
   "source": [
    "#### Pydantic을 사용하여 사용자 정의 출력 형식을 정의할 수 있습니다.\n",
    "* Pydantic은 데이터 검증과 설정 관리를 위한 Python 라이브러리입니다.\n",
    "* 데이터 모델을 정의할 때 Python 타입 힌트를 활용하여 유효성 검사(Validation)와 Parsing을 자동으로 수행해 줍니다."
   ]
  },
  {
   "cell_type": "code",
   "execution_count": 39,
   "id": "13afada1",
   "metadata": {},
   "outputs": [],
   "source": [
    "from langchain_core.output_parsers import JsonOutputParser\n",
    "from langchain_core.prompts import PromptTemplate\n",
    "from pydantic import BaseModel, Field\n",
    "from langchain_openai import ChatOpenAI"
   ]
  },
  {
   "cell_type": "code",
   "execution_count": 40,
   "id": "e70445f5",
   "metadata": {},
   "outputs": [],
   "source": [
    "# 원하는 출력 형식으로 Pydantic 객체를 정의\n",
    "class Joke(BaseModel):\n",
    "    setup: str = Field(description=\"농담을 설정하는 질문\")\n",
    "    punchline: str = Field(description=\"농담을 해결하는 답변\")"
   ]
  },
  {
   "cell_type": "code",
   "execution_count": 41,
   "id": "60f1966e",
   "metadata": {},
   "outputs": [
    {
     "data": {
      "text/plain": [
       "{'setup': '왜 컴퓨터는 바다에서 수영을 하지 않나요?',\n",
       " 'punchline': \"왜냐하면 그들이 만나는 모든 물고기를 '바이러스'라고 부르기 때문이죠!\"}"
      ]
     },
     "execution_count": 41,
     "metadata": {},
     "output_type": "execute_result"
    }
   ],
   "source": [
    "# Pydantic 객체를 참조하는 parser 정의\n",
    "parser = JsonOutputParser(pydantic_object=Joke)\n",
    "\n",
    "# 프롬프트 정의에 parser format instruction을 추가\n",
    "prompt = PromptTemplate(\n",
    "    template=\"사용자 query에 답변합니다.\\n{format_instructions}\\n{query}\\n\",\n",
    "    input_variables=[\"query\"],\n",
    "    partial_variables={\"format_instructions\": parser.get_format_instructions()},\n",
    ")\n",
    "\n",
    "# 프롬프트와 파서로 체인 구성\n",
    "chain = prompt | chatModel | parser\n",
    "\n",
    "chain.invoke({\"query\": \"재미있는 농담을 들려주세요.\"})"
   ]
  },
  {
   "cell_type": "code",
   "execution_count": null,
   "id": "ae588104",
   "metadata": {},
   "outputs": [],
   "source": []
  }
 ],
 "metadata": {
  "kernelspec": {
   "display_name": "venv",
   "language": "python",
   "name": "python3"
  },
  "language_info": {
   "codemirror_mode": {
    "name": "ipython",
    "version": 3
   },
   "file_extension": ".py",
   "mimetype": "text/x-python",
   "name": "python",
   "nbconvert_exporter": "python",
   "pygments_lexer": "ipython3",
   "version": "3.12.9"
  }
 },
 "nbformat": 4,
 "nbformat_minor": 5
}
