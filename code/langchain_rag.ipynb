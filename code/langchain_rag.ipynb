{
 "cells": [
  {
   "cell_type": "markdown",
   "id": "5630b0ca",
   "metadata": {
    "id": "5630b0ca"
   },
   "source": [
    "# Build a Retrieval Augmented Generation (RAG) App: Part 1\n",
    "- 출처 : https://colab.research.google.com/github/langchain-ai/langchain/blob/master/docs/docs/tutorials/rag.ipynb\n",
    "- 수정사항 : 설명 한글화 및 간소화"
   ]
  },
  {
   "cell_type": "code",
   "execution_count": 1,
   "id": "1918ba2f",
   "metadata": {
    "colab": {
     "base_uri": "https://localhost:8080/"
    },
    "id": "1918ba2f",
    "outputId": "251f2d7a-872b-47af-b1e0-3233a56b4238"
   },
   "outputs": [
    {
     "name": "stdout",
     "output_type": "stream",
     "text": [
      "Note: you may need to restart the kernel to use updated packages.\n"
     ]
    },
    {
     "name": "stderr",
     "output_type": "stream",
     "text": [
      "\n",
      "[notice] A new release of pip is available: 24.3.1 -> 25.0.1\n",
      "[notice] To update, run: python.exe -m pip install --upgrade pip\n"
     ]
    }
   ],
   "source": [
    "%pip install --quiet --upgrade langchain langchain_openai langchain-text-splitters langchain-community langgraph"
   ]
  },
  {
   "cell_type": "code",
   "execution_count": 33,
   "id": "ZNk_egt8PZK4",
   "metadata": {
    "colab": {
     "base_uri": "https://localhost:8080/"
    },
    "id": "ZNk_egt8PZK4",
    "outputId": "23e73d82-0779-4909-e17b-5c063cf1b890"
   },
   "outputs": [],
   "source": [
    "import os\n",
    "import getpass\n",
    "\n",
    "if \"OPENAI_API_KEY\" not in os.environ:\n",
    "    os.environ[\"OPENAI_API_KEY\"] = getpass.getpass(\"Enter your OpenAI API key: \")"
   ]
  },
  {
   "cell_type": "code",
   "execution_count": 34,
   "id": "26ef9d35",
   "metadata": {
    "id": "26ef9d35"
   },
   "outputs": [],
   "source": [
    "from langchain_openai import ChatOpenAI\n",
    "\n",
    "llm = ChatOpenAI(model=\"gpt-4o-mini\")"
   ]
  },
  {
   "cell_type": "code",
   "execution_count": 5,
   "id": "a199c764-5dfd-45cf-a4d4-731f2c3d474f",
   "metadata": {
    "id": "a199c764-5dfd-45cf-a4d4-731f2c3d474f"
   },
   "outputs": [],
   "source": [
    "from langchain_openai import OpenAIEmbeddings\n",
    "\n",
    "embeddings = OpenAIEmbeddings()"
   ]
  },
  {
   "cell_type": "code",
   "execution_count": 6,
   "id": "f4db6b46-ea3f-4994-9d54-d7c84beb50cc",
   "metadata": {
    "id": "f4db6b46-ea3f-4994-9d54-d7c84beb50cc"
   },
   "outputs": [],
   "source": [
    "from langchain_core.vectorstores import InMemoryVectorStore\n",
    "\n",
    "vector_store = InMemoryVectorStore(embeddings)"
   ]
  },
  {
   "cell_type": "markdown",
   "id": "93b2d316-922c-4318-b72d-486fd6813b94",
   "metadata": {
    "id": "93b2d316-922c-4318-b72d-486fd6813b94"
   },
   "source": [
    "## Preview\n",
    "\n",
    "이 가이드에서는 웹사이트 콘텐츠에 대한 질문에 답하는 앱을 빌드합니다.   \n",
    "사용할 특정 웹사이트는 Lilian Weng의  [LLM Powered Autonomous Agents](https://lilianweng.github.io/posts/2023-06-23-agent/)  블로그 게시물로,  \n",
    " 게시물 콘텐츠에 대한 질문을 할 수 있습니다.\n",
    "\n",
    "약 50줄의 코드로 이를 수행하기 위한 간단한 인덱싱 파이프라인과 RAG 체인을 만들 수 있습니다."
   ]
  },
  {
   "cell_type": "markdown",
   "id": "efa9ea6a-f914-4f50-8e35-52e6c34b8001",
   "metadata": {
    "id": "efa9ea6a-f914-4f50-8e35-52e6c34b8001"
   },
   "source": [
    "## 1. Indexing\n",
    "\n",
    "### Loading documents\n",
    "\n",
    "DocumentLoader로 블로그 게시물 콘텐츠를 로드 합니다.   \n",
    "이는 소스에서 데이터를 로드하고\n",
    "[Document](https://python.langchain.com/api_reference/core/documents/langchain_core.documents.base.Document.html)\n",
    "객체 목록을 반환하는 객체입니다.\n",
    "\n",
    "[WebBaseLoader](/docs/integrations/document_loaders/web_base)를 사용하겠습니다.   \n",
    "\n",
    "`urllib`를 사용하여 웹 URL에서 HTML을 로드하고 `BeautifulSoup`를 사용하여 텍스트로 구문 분석합니다.    \n",
    "`bs_kwargs`를 통해 `BeautifulSoup` 파서에 매개변수를 전달하여 HTML -\\> 텍스트 파싱을 사용자 정의할 수 있습니다([BeautifulSoup\n",
    "docs](https://beautiful-soup-4.readthedocs.io/en/latest/#beautifulsoup) 참조).  \n",
    "이 경우 클래스 \"post-content\", \"post-title\" 또는\n",
    "\"post-header\"가 있는 HTML 태그만 관련이 있으므로 다른 모든 태그를 제거합니다."
   ]
  },
  {
   "cell_type": "code",
   "execution_count": 7,
   "id": "7b0971b5-8579-4a89-bd2e-9029dda4c4f1",
   "metadata": {
    "colab": {
     "base_uri": "https://localhost:8080/"
    },
    "id": "7b0971b5-8579-4a89-bd2e-9029dda4c4f1",
    "outputId": "473811e2-09b5-4d82-800b-4655deecc524"
   },
   "outputs": [
    {
     "name": "stderr",
     "output_type": "stream",
     "text": [
      "USER_AGENT environment variable not set, consider setting it to identify your requests.\n"
     ]
    },
    {
     "name": "stdout",
     "output_type": "stream",
     "text": [
      "Total characters: 43130\n"
     ]
    }
   ],
   "source": [
    "import bs4\n",
    "from langchain_community.document_loaders import WebBaseLoader\n",
    "\n",
    "# Only keep post title, headers, and content from the full HTML.\n",
    "bs4_strainer = bs4.SoupStrainer(class_=(\"post-title\", \"post-header\", \"post-content\"))\n",
    "loader = WebBaseLoader(\n",
    "    web_paths=(\"https://lilianweng.github.io/posts/2023-06-23-agent/\",),\n",
    "    bs_kwargs={\"parse_only\": bs4_strainer},\n",
    ")\n",
    "docs = loader.load()\n",
    "\n",
    "assert len(docs) == 1\n",
    "print(f\"Total characters: {len(docs[0].page_content)}\")"
   ]
  },
  {
   "cell_type": "code",
   "execution_count": 8,
   "id": "1a560025-fb86-4b7e-9586-da263bbad481",
   "metadata": {
    "colab": {
     "base_uri": "https://localhost:8080/"
    },
    "id": "1a560025-fb86-4b7e-9586-da263bbad481",
    "outputId": "8c1eadd9-c7d3-4469-ec55-833ce141c97d"
   },
   "outputs": [
    {
     "name": "stdout",
     "output_type": "stream",
     "text": [
      "\n",
      "\n",
      "      LLM Powered Autonomous Agents\n",
      "    \n",
      "Date: June 23, 2023  |  Estimated Reading Time: 31 min  |  Author: Lilian Weng\n",
      "\n",
      "\n",
      "Building agents with LLM (large language model) as its core controller is a cool concept. Several proof-of-concepts demos, such as AutoGPT, GPT-Engineer and BabyAGI, serve as inspiring examples. The potentiality of LLM extends beyond generating well-written copies, stories, essays and programs; it can be framed as a powerful general problem solver.\n",
      "Agent System Overview#\n",
      "In\n"
     ]
    }
   ],
   "source": [
    "print(docs[0].page_content[:500])"
   ]
  },
  {
   "cell_type": "markdown",
   "id": "e6f11795-e19f-4697-bc6e-6d477355a1cd",
   "metadata": {
    "id": "e6f11795-e19f-4697-bc6e-6d477355a1cd"
   },
   "source": [
    "#### 더 자세히 알아보기\n",
    "\n",
    "`DocumentLoader`: 소스에서 데이터를 `Documents` list 로드하는 객체 .\n",
    "\n",
    "### Splitting documents\n",
    "로드된 문서는 42,000자를 넘으며 많은 모델의 컨텍스트 창에 맞추기에는 너무 깁니다.    \n",
    "컨텍스트 창에 전체 게시물을 맞출 수 있는 모델의 경우에도 모델은 매우 긴 입력에서 정보를 찾는 데 어려움을 겪을 수 있습니다.  \n",
    "이를 처리하기 위해 문서를 임베딩 및 벡터 저장을 위한 청크로 분할합니다.   \n",
    "이렇게 하면 런타임에 블로그 게시물에서 가장 관련성 있는 부분만 검색하는 데 도움이 됩니다.\n",
    "\n",
    "RecursiveCharacterTextSplitte는 각 청크가 적절한 크기가 될 때까지 줄바꿈과 같은 일반적인 구분 기호를 사용하여 문서를 재귀적으로 분할합니다.\n"
   ]
  },
  {
   "cell_type": "code",
   "execution_count": 9,
   "id": "753e1484-e21b-4f62-9866-b3a5971f88a7",
   "metadata": {
    "colab": {
     "base_uri": "https://localhost:8080/"
    },
    "id": "753e1484-e21b-4f62-9866-b3a5971f88a7",
    "outputId": "e6acdabd-a37b-453f-d73a-83a7b0f950d6"
   },
   "outputs": [
    {
     "name": "stdout",
     "output_type": "stream",
     "text": [
      "Split blog post into 66 sub-documents.\n"
     ]
    }
   ],
   "source": [
    "from langchain_text_splitters import RecursiveCharacterTextSplitter\n",
    "\n",
    "text_splitter = RecursiveCharacterTextSplitter(\n",
    "    chunk_size=1000,  # chunk size (characters)\n",
    "    chunk_overlap=200,  # chunk overlap (characters)\n",
    "    add_start_index=True,  # track index in original document\n",
    ")\n",
    "all_splits = text_splitter.split_documents(docs)\n",
    "\n",
    "print(f\"Split blog post into {len(all_splits)} sub-documents.\")"
   ]
  },
  {
   "cell_type": "markdown",
   "id": "f5193e01-6cf1-45b9-9ba5-38caf75162a6",
   "metadata": {
    "id": "f5193e01-6cf1-45b9-9ba5-38caf75162a6"
   },
   "source": [
    "#### 더 자세히 알아보기\n",
    "\n",
    "`TextSplitter`: `Document` list를 더 작은 청크로 분할하는 객체입니다.   `DocumentTransformer`의 하위 클래스입니다.  \n",
    "`DocumentTransformer`: Document 객체 목록에서 변환을 수행하는 객체.\n",
    "\n",
    "\n",
    "### Storing documents\n",
    "텍스트 청크를 인덱싱하여 런타임에 검색할 수 있도록 합니다.   \n",
    "각 문서 분할의 내용을 임베드하고 이러한 임베딩을 벡터 저장소에 저장합니다.  \n",
    "입력 쿼리가 주어지면 벡터 검색을 사용하여 관련 문서를 검색할 수 있습니다."
   ]
  },
  {
   "cell_type": "code",
   "execution_count": 12,
   "id": "00d455e1-c681-4665-9470-58dbeca050d4",
   "metadata": {
    "colab": {
     "base_uri": "https://localhost:8080/"
    },
    "id": "00d455e1-c681-4665-9470-58dbeca050d4",
    "outputId": "1f5eff13-b418-48ae-e118-66e126820aa7"
   },
   "outputs": [
    {
     "name": "stdout",
     "output_type": "stream",
     "text": [
      "['74f6149a-8211-4ee1-beaa-14d9eaea8f31', 'bdc520bb-c9c8-4182-b41c-98deea05e31c', 'fdcd673a-2966-4bed-80e5-06b4b20d1b10']\n"
     ]
    }
   ],
   "source": [
    "document_ids = vector_store.add_documents(documents=all_splits)\n",
    "\n",
    "print(document_ids[:3])"
   ]
  },
  {
   "cell_type": "markdown",
   "id": "57666234-a5b3-4abc-b079-755241bb2b98",
   "metadata": {
    "id": "57666234-a5b3-4abc-b079-755241bb2b98"
   },
   "source": [
    "#### 더 자세히 알아보기\n",
    "\n",
    "`Embeddings`: 텍스트 임베딩 모델을 감싸는 래퍼로, 텍스트를 임베딩으로 변환하는 데 사용됩니다.\n",
    "\n",
    "`VectorStore`: 벡터 데이터베이스를 감싸는 래퍼로, 임베딩을 저장하고\n",
    "쿼리하는 데 사용됩니다.\n",
    "\n",
    "\n",
    "파이프라인의 **인덱싱** 부분이 완료되었습니다. 이 시점에서\n",
    "블로그 게시물의 청크된 콘텐츠를 포함하는 쿼리 가능한 벡터 저장소가 있습니다.\n",
    "사용자 질문이 주어지면 이상적으로는\n",
    "질문에 답하는 블로그 게시물의 스니펫을 반환할 수 있어야 합니다.\n",
    "\n",
    "## 2. Retrieval and Generation\n",
    "\n"
   ]
  },
  {
   "cell_type": "code",
   "execution_count": 13,
   "id": "46f378c5-858c-488f-8aef-8b59a6280791",
   "metadata": {
    "colab": {
     "base_uri": "https://localhost:8080/"
    },
    "id": "46f378c5-858c-488f-8aef-8b59a6280791",
    "outputId": "9d023b76-6745-4505-fd47-c56c1eceaabb"
   },
   "outputs": [
    {
     "name": "stdout",
     "output_type": "stream",
     "text": [
      "You are an assistant for question-answering tasks. Use the following pieces of retrieved context to answer the question. If you don't know the answer, just say that you don't know. Use three sentences maximum and keep the answer concise.\n",
      "Question: (question goes here) \n",
      "Context: (context goes here) \n",
      "Answer:\n"
     ]
    }
   ],
   "source": [
    "from langchain import hub\n",
    "\n",
    "prompt = hub.pull(\"rlm/rag-prompt\")\n",
    "\n",
    "example_messages = prompt.invoke(\n",
    "    {\"context\": \"(context goes here)\", \"question\": \"(question goes here)\"}\n",
    ").to_messages()\n",
    "\n",
    "assert len(example_messages) == 1\n",
    "print(example_messages[0].content)"
   ]
  },
  {
   "cell_type": "markdown",
   "id": "77dfe84d-cc19-4227-bee4-56b69508ab11",
   "metadata": {
    "id": "77dfe84d-cc19-4227-bee4-56b69508ab11"
   },
   "source": [
    "[LangGraph](https://langchain-ai.github.io/langgraph/)를 사용하여 검색 및 생성 단계를 단일 애플리케이션으로 연결합니다. 이렇게 하면 여러 가지 이점이 있습니다.\n",
    "\n",
    "- 애플리케이션 로직을 한 번 정의하면 스트리밍, 비동기 및 일괄 호출을 포함한 여러 호출 모드를 자동으로 지원할 수 있습니다.\n",
    "- [LangGraph Platform](https://langchain-ai.github.io/langgraph/concepts/langgraph_platform/)을 통해 간소화된 배포를 얻습니다.\n",
    "- LangSmith가 애플리케이션의 단계를 자동으로 추적합니다.\n",
    "- 최소한의 코드 변경으로 [persistence](https://langchain-ai.github.io/langgraph/concepts/persistence/) 및 [human-in-the-loop approval](https://langchain-ai.github.io/langgraph/concepts/human_in_the_loop/)을 포함한 주요 기능을 애플리케이션에 쉽게 추가할 수 있습니다.\n",
    "\n",
    "LangGraph를 사용하려면 세 가지를 정의해야 합니다.\n",
    "\n",
    "1. 애플리케이션의 상태;\n",
    "2. 애플리케이션의 노드(i.e., application steps);\n",
    "3. 애플리케이션의 \"제어 흐름\"(e.g., the ordering of the steps).\n",
    "\n",
    "#### State:\n",
    "\n",
    "애플리케이션의 [state](https://langchain-ai.github.io/langgraph/concepts/low_level/#state)는 애플리케이션에 입력되는 데이터, 단계 간에 전송되는 데이터, 애플리케이션에서 출력되는 데이터를 제어합니다.   \n",
    "일반적으로 `TypedDict`이지만 [Pydantic BaseModel](https://langchain-ai.github.io/langgraph/how-tos/state-model/)일 수도 있습니다.\n",
    "\n",
    "간단한 RAG 애플리케이션의 경우 입력 질문, 검색된 컨텍스트, 생성된 답변을 추적할 수 있습니다."
   ]
  },
  {
   "cell_type": "code",
   "execution_count": 14,
   "id": "3bdc7c33-67f4-40c3-a0f5-9b846bc6e35c",
   "metadata": {
    "id": "3bdc7c33-67f4-40c3-a0f5-9b846bc6e35c"
   },
   "outputs": [],
   "source": [
    "from langchain_core.documents import Document\n",
    "from typing_extensions import List, TypedDict\n",
    "\n",
    "\n",
    "class State(TypedDict):\n",
    "    question: str\n",
    "    context: List[Document]\n",
    "    answer: str"
   ]
  },
  {
   "cell_type": "markdown",
   "id": "77868d9a-892f-4b2c-b706-850f96b4464f",
   "metadata": {
    "id": "77868d9a-892f-4b2c-b706-850f96b4464f"
   },
   "source": [
    "#### Nodes (application steps)\n",
    "\n",
    "두 단계로 이루어진 간단한 순서로 시작해 보겠습니다. : retrieval and generation."
   ]
  },
  {
   "cell_type": "code",
   "execution_count": 15,
   "id": "bdabbf44-cbee-46a4-98e4-794fdfc8bb3b",
   "metadata": {
    "id": "bdabbf44-cbee-46a4-98e4-794fdfc8bb3b"
   },
   "outputs": [],
   "source": [
    "def retrieve(state: State):\n",
    "    retrieved_docs = vector_store.similarity_search(state[\"question\"])\n",
    "    return {\"context\": retrieved_docs}\n",
    "\n",
    "\n",
    "def generate(state: State):\n",
    "    docs_content = \"\\n\\n\".join(doc.page_content for doc in state[\"context\"])\n",
    "    messages = prompt.invoke({\"question\": state[\"question\"], \"context\": docs_content})\n",
    "    response = llm.invoke(messages)\n",
    "    return {\"answer\": response.content}"
   ]
  },
  {
   "cell_type": "markdown",
   "id": "d1ac9dc3-d73d-48c3-be05-4b60e0b8bc17",
   "metadata": {
    "id": "d1ac9dc3-d73d-48c3-be05-4b60e0b8bc17"
   },
   "source": [
    "검색 단계(retrieval step)는 입력 질문을 사용하여 유사성 검색을 실행하고, 생성 단계는 검색된 컨텍스트와 원래 질문을 채팅 모델의 프롬프트로 포맷합니다.\n",
    "\n",
    "#### 제어 흐름\n",
    "\n",
    "마지막으로, 애플리케이션을 단일 그래프 객체로 컴파일합니다. 이 경우 검색 및 생성 단계를 단일 시퀀스로 연결합니다."
   ]
  },
  {
   "cell_type": "code",
   "execution_count": 16,
   "id": "418ddefb-9a1d-42bf-9d23-e525268312a4",
   "metadata": {
    "id": "418ddefb-9a1d-42bf-9d23-e525268312a4"
   },
   "outputs": [],
   "source": [
    "from langgraph.graph import START, StateGraph\n",
    "\n",
    "graph_builder = StateGraph(State).add_sequence([retrieve, generate])\n",
    "graph_builder.add_edge(START, \"retrieve\")\n",
    "graph = graph_builder.compile()"
   ]
  },
  {
   "cell_type": "markdown",
   "id": "20b127f4-8411-4214-8cdd-a281771ab708",
   "metadata": {
    "id": "20b127f4-8411-4214-8cdd-a281771ab708"
   },
   "source": [
    "LangGraph에는 애플리케이션의 제어 흐름을 시각화하기 위한 기본 제공 유틸리티도 함께 제공됩니다."
   ]
  },
  {
   "cell_type": "code",
   "execution_count": 17,
   "id": "feabc04f-b509-4452-8e2b-d7c7b7585a18",
   "metadata": {
    "colab": {
     "base_uri": "https://localhost:8080/",
     "height": 251
    },
    "id": "feabc04f-b509-4452-8e2b-d7c7b7585a18",
    "outputId": "a846632a-3767-407d-bad6-441b4099ecec"
   },
   "outputs": [
    {
     "data": {
      "image/png": "[encoded data removed]",
      "text/plain": [
       "<IPython.core.display.Image object>"
      ]
     },
     "metadata": {},
     "output_type": "display_data"
    }
   ],
   "source": [
    "from IPython.display import Image, display\n",
    "\n",
    "display(Image(graph.get_graph().draw_mermaid_png()))"
   ]
  },
  {
   "cell_type": "markdown",
   "id": "31f7dc4d-cac8-4be9-b44c-df097dc28c81",
   "metadata": {
    "id": "31f7dc4d-cac8-4be9-b44c-df097dc28c81"
   },
   "source": [
    "<details>\n",
    "<summary>LangGraph를 사용해야 합니까?</summary>\n",
    "\n",
    "LangGraph는 RAG 애플리케이션을 빌드하는 데 필요하지 않습니다. 실제로 개별 구성 요소를 호출하여 동일한 애플리케이션 로직을 구현할 수 있습니다.:\n",
    "\n",
    "```python\n",
    "question = \"...\"\n",
    "\n",
    "retrieved_docs = vector_store.similarity_search(question)\n",
    "docs_content = \"\\n\\n\".join(doc.page_content for doc in retrieved_docs)\n",
    "prompt = prompt.invoke({\"question\": question, \"context\": docs_content})\n",
    "answer = llm.invoke(prompt)\n",
    "```\n",
    "\n",
    "LangGraph의 이점은 다음과 같습니다.\n",
    "\n",
    "- 다중 호출 모드 지원: 출력 토큰을 스트리밍하거나 개별 단계의 결과를 스트리밍하려는 경우 이 논리를 다시 작성해야 합니다.\n",
    "- [LangSmith](https://docs.smith.langchain.com/)를 통한 추적 및 [LangGraph Platform](https://langchain-ai.github.io/langgraph/concepts/langgraph_platform/)을 통한 배포에 대한 자동 지원\n",
    "- 지속성, 인간 참여 및 기타 기능 지원.\n",
    "\n",
    "많은 사용 사례에서 대화형 경험에서 RAG가 필요하므로 사용자는 상태 기반 대화를 통해 상황에 맞는 답변을 받을 수 있습니다. LangGraph의 상태 관리 및 지속성은 이러한 애플리케이션을 엄청나게 단순화합니다\n",
    "\n",
    "</details>"
   ]
  },
  {
   "cell_type": "markdown",
   "id": "eee9c057-5a08-46a3-8c7d-6a314d1e777d",
   "metadata": {
    "id": "eee9c057-5a08-46a3-8c7d-6a314d1e777d"
   },
   "source": [
    "#### 사용법\n",
    "\n",
    "애플리케이션을 테스트해 봅시다! LangGraph는 동기, 비동기, 스트리밍을 포함한 여러 호출 모드를 지원합니다.\n",
    "\n",
    "Invoke:"
   ]
  },
  {
   "cell_type": "code",
   "execution_count": null,
   "id": "663b93ba-f0a7-44c4-a894-fe895bd5b009",
   "metadata": {
    "colab": {
     "base_uri": "https://localhost:8080/"
    },
    "id": "663b93ba-f0a7-44c4-a894-fe895bd5b009",
    "outputId": "da5fb1fb-d8c1-403b-a589-aefdcf4210cf"
   },
   "outputs": [
    {
     "name": "stdout",
     "output_type": "stream",
     "text": [
      "Context: [Document(id='e90bffdc-ea53-44f6-bd79-334051db16b8', metadata={'source': 'https://lilianweng.github.io/posts/2023-06-23-agent/', 'start_index': 1585}, page_content='Fig. 1. Overview of a LLM-powered autonomous agent system.\\nComponent One: Planning#\\nA complicated task usually involves many steps. An agent needs to know what they are and plan ahead.\\nTask Decomposition#\\nChain of thought (CoT; Wei et al. 2022) has become a standard prompting technique for enhancing model performance on complex tasks. The model is instructed to “think step by step” to utilize more test-time computation to decompose hard tasks into smaller and simpler steps. CoT transforms big tasks into multiple manageable tasks and shed lights into an interpretation of the model’s thinking process.'), Document(id='fdcd673a-2966-4bed-80e5-06b4b20d1b10', metadata={'source': 'https://lilianweng.github.io/posts/2023-06-23-agent/', 'start_index': 1585}, page_content='Fig. 1. Overview of a LLM-powered autonomous agent system.\\nComponent One: Planning#\\nA complicated task usually involves many steps. An agent needs to know what they are and plan ahead.\\nTask Decomposition#\\nChain of thought (CoT; Wei et al. 2022) has become a standard prompting technique for enhancing model performance on complex tasks. The model is instructed to “think step by step” to utilize more test-time computation to decompose hard tasks into smaller and simpler steps. CoT transforms big tasks into multiple manageable tasks and shed lights into an interpretation of the model’s thinking process.'), Document(id='0039befa-153c-4f31-97bd-ca31e6fd4141', metadata={'source': 'https://lilianweng.github.io/posts/2023-06-23-agent/', 'start_index': 35126}, page_content='\"content\": \"You will get instructions for code to write.\\\\nYou will write a very long answer. Make sure that every detail of the architecture is, in the end, implemented as code.\\\\nMake sure that every detail of the architecture is, in the end, implemented as code.\\\\n\\\\nThink step by step and reason yourself to the right decisions to make sure we get it right.\\\\nYou will first lay out the names of the core classes, functions, methods that will be necessary, as well as a quick comment on their purpose.\\\\n\\\\nThen you will output the content of each file including ALL code.\\\\nEach file must strictly follow a markdown code block format, where the following tokens must be replaced such that\\\\nFILENAME is the lowercase file name including the file extension,\\\\nLANG is the markup code block language for the code\\'s language, and CODE is the code:\\\\n\\\\nFILENAME\\\\n```LANG\\\\nCODE\\\\n```\\\\n\\\\nYou will start with the \\\\\"entrypoint\\\\\" file, then go to the ones that are imported by that file, and so on.\\\\nPlease'), Document(id='72c40499-1bc2-4d63-a8f2-8e854a8942ef', metadata={'source': 'https://lilianweng.github.io/posts/2023-06-23-agent/', 'start_index': 35126}, page_content='\"content\": \"You will get instructions for code to write.\\\\nYou will write a very long answer. Make sure that every detail of the architecture is, in the end, implemented as code.\\\\nMake sure that every detail of the architecture is, in the end, implemented as code.\\\\n\\\\nThink step by step and reason yourself to the right decisions to make sure we get it right.\\\\nYou will first lay out the names of the core classes, functions, methods that will be necessary, as well as a quick comment on their purpose.\\\\n\\\\nThen you will output the content of each file including ALL code.\\\\nEach file must strictly follow a markdown code block format, where the following tokens must be replaced such that\\\\nFILENAME is the lowercase file name including the file extension,\\\\nLANG is the markup code block language for the code\\'s language, and CODE is the code:\\\\n\\\\nFILENAME\\\\n```LANG\\\\nCODE\\\\n```\\\\n\\\\nYou will start with the \\\\\"entrypoint\\\\\" file, then go to the ones that are imported by that file, and so on.\\\\nPlease')]\n",
      "\n",
      "\n",
      "Answer: Task Decomposition은 복잡한 업무를 여러 개의 작은 단계로 나누는 과정을 의미합니다. 이를 통해 모델이 \"단계별로 생각하라\"는 지시를 받고, 어려운 작업을 더 간단하고 관리하기 쉬운 작업으로 쪼개어 효율적으로 수행할 수 있도록 합니다. 이 방법은 모델의 사고 과정을 해석하는 데에도 도움이 됩니다.\n"
     ]
    }
   ],
   "source": [
    "result = graph.invoke({\"question\": \"Task Decomposition 이 뭐야? 한글로 설명해줘\"})\n",
    "\n",
    "print(f'Context: {result[\"context\"]}\\n\\n')\n",
    "print(f'Answer: {result[\"answer\"]}')"
   ]
  },
  {
   "cell_type": "markdown",
   "id": "4ef88f30-40ca-476b-808d-794cb72d401f",
   "metadata": {
    "id": "4ef88f30-40ca-476b-808d-794cb72d401f"
   },
   "source": [
    "Stream 스텝:"
   ]
  },
  {
   "cell_type": "code",
   "execution_count": 22,
   "id": "e6314a96-aab8-4ecc-bbf9-094fa2aa0e50",
   "metadata": {
    "colab": {
     "base_uri": "https://localhost:8080/"
    },
    "id": "e6314a96-aab8-4ecc-bbf9-094fa2aa0e50",
    "outputId": "d189fd0c-2754-4aeb-8984-282adb1d99eb"
   },
   "outputs": [
    {
     "name": "stdout",
     "output_type": "stream",
     "text": [
      "{'retrieve': {'context': [Document(id='e90bffdc-ea53-44f6-bd79-334051db16b8', metadata={'source': 'https://lilianweng.github.io/posts/2023-06-23-agent/', 'start_index': 1585}, page_content='Fig. 1. Overview of a LLM-powered autonomous agent system.\\nComponent One: Planning#\\nA complicated task usually involves many steps. An agent needs to know what they are and plan ahead.\\nTask Decomposition#\\nChain of thought (CoT; Wei et al. 2022) has become a standard prompting technique for enhancing model performance on complex tasks. The model is instructed to “think step by step” to utilize more test-time computation to decompose hard tasks into smaller and simpler steps. CoT transforms big tasks into multiple manageable tasks and shed lights into an interpretation of the model’s thinking process.'), Document(id='fdcd673a-2966-4bed-80e5-06b4b20d1b10', metadata={'source': 'https://lilianweng.github.io/posts/2023-06-23-agent/', 'start_index': 1585}, page_content='Fig. 1. Overview of a LLM-powered autonomous agent system.\\nComponent One: Planning#\\nA complicated task usually involves many steps. An agent needs to know what they are and plan ahead.\\nTask Decomposition#\\nChain of thought (CoT; Wei et al. 2022) has become a standard prompting technique for enhancing model performance on complex tasks. The model is instructed to “think step by step” to utilize more test-time computation to decompose hard tasks into smaller and simpler steps. CoT transforms big tasks into multiple manageable tasks and shed lights into an interpretation of the model’s thinking process.'), Document(id='0bc0f695-d15a-43c6-92b5-444fbd34ac47', metadata={'source': 'https://lilianweng.github.io/posts/2023-06-23-agent/', 'start_index': 2192}, page_content='Tree of Thoughts (Yao et al. 2023) extends CoT by exploring multiple reasoning possibilities at each step. It first decomposes the problem into multiple thought steps and generates multiple thoughts per step, creating a tree structure. The search process can be BFS (breadth-first search) or DFS (depth-first search) with each state evaluated by a classifier (via a prompt) or majority vote.\\nTask decomposition can be done (1) by LLM with simple prompting like \"Steps for XYZ.\\\\n1.\", \"What are the subgoals for achieving XYZ?\", (2) by using task-specific instructions; e.g. \"Write a story outline.\" for writing a novel, or (3) with human inputs.'), Document(id='c0870088-97fc-4b2a-a687-d67a61cc148e', metadata={'source': 'https://lilianweng.github.io/posts/2023-06-23-agent/', 'start_index': 2192}, page_content='Tree of Thoughts (Yao et al. 2023) extends CoT by exploring multiple reasoning possibilities at each step. It first decomposes the problem into multiple thought steps and generates multiple thoughts per step, creating a tree structure. The search process can be BFS (breadth-first search) or DFS (depth-first search) with each state evaluated by a classifier (via a prompt) or majority vote.\\nTask decomposition can be done (1) by LLM with simple prompting like \"Steps for XYZ.\\\\n1.\", \"What are the subgoals for achieving XYZ?\", (2) by using task-specific instructions; e.g. \"Write a story outline.\" for writing a novel, or (3) with human inputs.')]}}\n",
      "\n",
      "----------------\n",
      "\n",
      "{'generate': {'answer': 'Task Decomposition은 복잡한 과제를 더 작고 간단한 단계로 나누는 과정입니다. 이를 통해 모델은 \"단계별로 생각하라\"는 방식으로 문제를 해결할 수 있도록 도와주며, 각 단계에서 다수의 사고 가능성을 탐색할 수도 있습니다. 이 과정은 복잡한 작업을 관리하기 쉽게 만들어줍니다.'}}\n",
      "\n",
      "----------------\n",
      "\n"
     ]
    }
   ],
   "source": [
    "for step in graph.stream(\n",
    "    {\"question\": \"Task Decomposition 이 뭐야? 한글로 설명해줘\"}, stream_mode=\"updates\"\n",
    "):\n",
    "    print(f\"{step}\\n\\n----------------\\n\")"
   ]
  },
  {
   "cell_type": "markdown",
   "id": "f860142d-d50b-4526-a03f-a59a763117fe",
   "metadata": {
    "id": "f860142d-d50b-4526-a03f-a59a763117fe"
   },
   "source": [
    "토큰 스트리밍:"
   ]
  },
  {
   "cell_type": "code",
   "execution_count": 23,
   "id": "28625cc3-0f77-4143-af51-ce0fd6682120",
   "metadata": {
    "colab": {
     "base_uri": "https://localhost:8080/"
    },
    "id": "28625cc3-0f77-4143-af51-ce0fd6682120",
    "outputId": "5c04696e-307b-4038-8625-c4b513783028"
   },
   "outputs": [
    {
     "name": "stdout",
     "output_type": "stream",
     "text": [
      "|Task| De|composition|은| 복|잡|한| 작업|을| 더| 작|고| 단|순|한| 단계|로| 나|누|는| 과정|입니다|.| 이를| 통해| 각| 단계|에서| \"|사|고|하며|\"| 작업|을| 수행|할| 수| 있도록| 모델|에게| 지|침|을| 주|는| 방법|입니다|.| 예|를| 들어|,| 특정| 목표|를| 달|성|하기| 위한| 하|위| 목표|를| 정의|하거나| 작업|을| 수행|하는| 단계|들을| 나|열|하는| 것이| 포함|됩니다|.||"
     ]
    }
   ],
   "source": [
    "for message, metadata in graph.stream(\n",
    "    {\"question\": \"Task Decomposition 이 뭐야? 한글로 설명해줘\"}, stream_mode=\"messages\"\n",
    "):\n",
    "    print(message.content, end=\"|\")"
   ]
  },
  {
   "cell_type": "code",
   "execution_count": 24,
   "id": "956e7e78-c26c-4d2d-bf2e-4fc41ff40d37",
   "metadata": {
    "id": "956e7e78-c26c-4d2d-bf2e-4fc41ff40d37"
   },
   "outputs": [],
   "source": [
    "from langchain_core.prompts import PromptTemplate\n",
    "\n",
    "template = \"\"\"다음 맥락을 사용하여 마지막 질문에 답하세요.\n",
    "답을 모른다면 모른다고만 말하고, 답을 만들어내려고 하지 마세요.\n",
    "최대 3문장을 사용하고 가능한 한 간결하게 답하세요.\n",
    "답변 끝에는 항상 \"질문해 주셔서 감사합니다!\"라고 말하세요.\n",
    "\n",
    "{context}\n",
    "\n",
    "질문: {question}\n",
    "\n",
    "도움이 되는 답변:\"\"\"\n",
    "custom_rag_prompt = PromptTemplate.from_template(template)"
   ]
  },
  {
   "cell_type": "code",
   "execution_count": 25,
   "id": "df00956a-6565-4c05-b201-32854dd2a889",
   "metadata": {
    "id": "df00956a-6565-4c05-b201-32854dd2a889",
    "outputId": "43523cfd-2d5b-41a9-b987-7f7efd893dbf"
   },
   "outputs": [
    {
     "data": {
      "text/plain": [
       "{'source': 'https://lilianweng.github.io/posts/2023-06-23-agent/',\n",
       " 'start_index': 8,\n",
       " 'section': 'beginning'}"
      ]
     },
     "execution_count": 25,
     "metadata": {},
     "output_type": "execute_result"
    }
   ],
   "source": [
    "total_documents = len(all_splits)\n",
    "third = total_documents // 3\n",
    "\n",
    "for i, document in enumerate(all_splits):\n",
    "    if i < third:\n",
    "        document.metadata[\"section\"] = \"beginning\"\n",
    "    elif i < 2 * third:\n",
    "        document.metadata[\"section\"] = \"middle\"\n",
    "    else:\n",
    "        document.metadata[\"section\"] = \"end\"\n",
    "\n",
    "\n",
    "all_splits[0].metadata"
   ]
  },
  {
   "cell_type": "markdown",
   "id": "114878bd-a334-41ed-8013-ec4ce0a9112b",
   "metadata": {
    "id": "114878bd-a334-41ed-8013-ec4ce0a9112b"
   },
   "source": [
    "벡터 스토어의 문서를 업데이트해야 합니다.   \n",
    "이를 위해 간단한 [InMemoryVectorStore](https://python.langchain.com/api_reference/core/vectorstores/langchain_core.vectorstores.in_memory.InMemoryVectorStore.html)를 사용합니다.   \n",
    "특정 기능 중 일부(예: 메타데이터 필터링)를 사용합니다."
   ]
  },
  {
   "cell_type": "code",
   "execution_count": 26,
   "id": "ebb3cbd7-7c75-4cc0-a198-ff7c54a0c43a",
   "metadata": {
    "id": "ebb3cbd7-7c75-4cc0-a198-ff7c54a0c43a"
   },
   "outputs": [],
   "source": [
    "from langchain_core.vectorstores import InMemoryVectorStore\n",
    "\n",
    "vector_store = InMemoryVectorStore(embeddings)\n",
    "_ = vector_store.add_documents(all_splits)"
   ]
  },
  {
   "cell_type": "markdown",
   "id": "c08aaccd-b3df-45e9-8646-d6ea20215e62",
   "metadata": {
    "id": "c08aaccd-b3df-45e9-8646-d6ea20215e62"
   },
   "source": [
    "다음으로 검색 쿼리에 대한 스키마를 정의해 보겠습니다.  \n",
    "이 목적을 위해 구조화된 출력을 사용합니다.  \n",
    "여기서는 문자열 쿼리와 문서 섹션(\"beginning\", \"middle\", \"end\")을 포함하는 쿼리를 정의하지만, 원하는 대로 정의할 수 있습니다."
   ]
  },
  {
   "cell_type": "code",
   "execution_count": 27,
   "id": "87f9c8c3-3e99-426d-aa65-fec4b9155c3f",
   "metadata": {
    "id": "87f9c8c3-3e99-426d-aa65-fec4b9155c3f"
   },
   "outputs": [],
   "source": [
    "from typing import Literal\n",
    "\n",
    "from typing_extensions import Annotated\n",
    "\n",
    "\n",
    "class Search(TypedDict):\n",
    "    \"\"\"Search query.\"\"\"\n",
    "\n",
    "    query: Annotated[str, ..., \"Search query to run.\"]\n",
    "    section: Annotated[\n",
    "        Literal[\"beginning\", \"middle\", \"end\"],\n",
    "        ...,\n",
    "        \"Section to query.\",\n",
    "    ]"
   ]
  },
  {
   "cell_type": "markdown",
   "id": "6399a870-cb06-4219-9b4f-cfa37cb8ab0f",
   "metadata": {
    "id": "6399a870-cb06-4219-9b4f-cfa37cb8ab0f"
   },
   "source": [
    "마지막으로, 사용자의 원시 입력에서 쿼리를 생성하는 단계를 LangGraph 애플리케이션에 추가합니다."
   ]
  },
  {
   "cell_type": "code",
   "execution_count": 28,
   "id": "7e8fcdcb-a4ff-41c3-97c7-92d81ab29f38",
   "metadata": {
    "id": "7e8fcdcb-a4ff-41c3-97c7-92d81ab29f38"
   },
   "outputs": [],
   "source": [
    "class State(TypedDict):\n",
    "    question: str\n",
    "    # highlight-next-line\n",
    "    query: Search\n",
    "    context: List[Document]\n",
    "    answer: str\n",
    "\n",
    "\n",
    "# highlight-next-line\n",
    "def analyze_query(state: State):\n",
    "    # highlight-next-line\n",
    "    structured_llm = llm.with_structured_output(Search)\n",
    "    # highlight-next-line\n",
    "    query = structured_llm.invoke(state[\"question\"])\n",
    "    # highlight-next-line\n",
    "    return {\"query\": query}\n",
    "\n",
    "\n",
    "def retrieve(state: State):\n",
    "    # highlight-start\n",
    "    query = state[\"query\"]\n",
    "    retrieved_docs = vector_store.similarity_search(\n",
    "        query[\"query\"],\n",
    "        filter=lambda doc: doc.metadata.get(\"section\") == query[\"section\"],\n",
    "    )\n",
    "    # highlight-end\n",
    "    return {\"context\": retrieved_docs}\n",
    "\n",
    "\n",
    "def generate(state: State):\n",
    "    docs_content = \"\\n\\n\".join(doc.page_content for doc in state[\"context\"])\n",
    "    messages = prompt.invoke({\"question\": state[\"question\"], \"context\": docs_content})\n",
    "    response = llm.invoke(messages)\n",
    "    return {\"answer\": response.content}\n",
    "\n",
    "\n",
    "# highlight-start\n",
    "graph_builder = StateGraph(State).add_sequence([analyze_query, retrieve, generate])\n",
    "graph_builder.add_edge(START, \"analyze_query\")\n",
    "# highlight-end\n",
    "graph = graph_builder.compile()"
   ]
  },
  {
   "cell_type": "markdown",
   "id": "28a62d34",
   "metadata": {
    "id": "28a62d34"
   },
   "source": [
    "<details>\n",
    "<summary>Full Code:</summary>\n",
    "\n",
    "```python\n",
    "from typing import Literal\n",
    "\n",
    "import bs4\n",
    "from langchain import hub\n",
    "from langchain_community.document_loaders import WebBaseLoader\n",
    "from langchain_core.documents import Document\n",
    "from langchain_core.vectorstores import InMemoryVectorStore\n",
    "from langchain_text_splitters import RecursiveCharacterTextSplitter\n",
    "from langgraph.graph import START, StateGraph\n",
    "from typing_extensions import Annotated, List, TypedDict\n",
    "\n",
    "# Load and chunk contents of the blog\n",
    "loader = WebBaseLoader(\n",
    "    web_paths=(\"https://lilianweng.github.io/posts/2023-06-23-agent/\",),\n",
    "    bs_kwargs=dict(\n",
    "        parse_only=bs4.SoupStrainer(\n",
    "            class_=(\"post-content\", \"post-title\", \"post-header\")\n",
    "        )\n",
    "    ),\n",
    ")\n",
    "docs = loader.load()\n",
    "\n",
    "text_splitter = RecursiveCharacterTextSplitter(chunk_size=1000, chunk_overlap=200)\n",
    "all_splits = text_splitter.split_documents(docs)\n",
    "\n",
    "\n",
    "# Update metadata (illustration purposes)\n",
    "total_documents = len(all_splits)\n",
    "third = total_documents // 3\n",
    "\n",
    "for i, document in enumerate(all_splits):\n",
    "    if i < third:\n",
    "        document.metadata[\"section\"] = \"beginning\"\n",
    "    elif i < 2 * third:\n",
    "        document.metadata[\"section\"] = \"middle\"\n",
    "    else:\n",
    "        document.metadata[\"section\"] = \"end\"\n",
    "\n",
    "\n",
    "# Index chunks\n",
    "vector_store = InMemoryVectorStore(embeddings)\n",
    "_ = vector_store.add_documents(all_splits)\n",
    "\n",
    "\n",
    "# Define schema for search\n",
    "class Search(TypedDict):\n",
    "    \"\"\"Search query.\"\"\"\n",
    "\n",
    "    query: Annotated[str, ..., \"Search query to run.\"]\n",
    "    section: Annotated[\n",
    "        Literal[\"beginning\", \"middle\", \"end\"],\n",
    "        ...,\n",
    "        \"Section to query.\",\n",
    "    ]\n",
    "\n",
    "# Define prompt for question-answering\n",
    "prompt = hub.pull(\"rlm/rag-prompt\")\n",
    "\n",
    "\n",
    "# Define state for application\n",
    "class State(TypedDict):\n",
    "    question: str\n",
    "    query: Search\n",
    "    context: List[Document]\n",
    "    answer: str\n",
    "\n",
    "\n",
    "def analyze_query(state: State):\n",
    "    structured_llm = llm.with_structured_output(Search)\n",
    "    query = structured_llm.invoke(state[\"question\"])\n",
    "    return {\"query\": query}\n",
    "\n",
    "\n",
    "def retrieve(state: State):\n",
    "    query = state[\"query\"]\n",
    "    retrieved_docs = vector_store.similarity_search(\n",
    "        query[\"query\"],\n",
    "        filter=lambda doc: doc.metadata.get(\"section\") == query[\"section\"],\n",
    "    )\n",
    "    return {\"context\": retrieved_docs}\n",
    "\n",
    "\n",
    "def generate(state: State):\n",
    "    docs_content = \"\\n\\n\".join(doc.page_content for doc in state[\"context\"])\n",
    "    messages = prompt.invoke({\"question\": state[\"question\"], \"context\": docs_content})\n",
    "    response = llm.invoke(messages)\n",
    "    return {\"answer\": response.content}\n",
    "\n",
    "\n",
    "graph_builder = StateGraph(State).add_sequence([analyze_query, retrieve, generate])\n",
    "graph_builder.add_edge(START, \"analyze_query\")\n",
    "graph = graph_builder.compile()\n",
    "```\n",
    "\n",
    "</details>"
   ]
  },
  {
   "cell_type": "code",
   "execution_count": 29,
   "id": "8a92d539-f85d-434b-b911-51a1cf9b81da",
   "metadata": {
    "id": "8a92d539-f85d-434b-b911-51a1cf9b81da",
    "outputId": "c0221d86-aaf8-4f3b-fdfe-8431bd3a4b92"
   },
   "outputs": [
    {
     "data": {
      "image/png": "[encoded data removed]",
      "text/plain": [
       "<IPython.core.display.Image object>"
      ]
     },
     "metadata": {},
     "output_type": "display_data"
    }
   ],
   "source": [
    "display(Image(graph.get_graph().draw_mermaid_png()))"
   ]
  },
  {
   "cell_type": "markdown",
   "id": "653cf8dc-a201-43ea-9965-02fcfd2fc316",
   "metadata": {
    "id": "653cf8dc-a201-43ea-9965-02fcfd2fc316"
   },
   "source": [
    "우리는 게시물 끝에서 맥락을 구체적으로 요청하여 구현을 테스트할 수 있습니다. 모델이 답변에 다른 정보를 포함한다는 점에 유의하세요."
   ]
  },
  {
   "cell_type": "code",
   "execution_count": 31,
   "id": "8b420650-2d9e-4f5e-a8d8-ec36ae07423c",
   "metadata": {
    "id": "8b420650-2d9e-4f5e-a8d8-ec36ae07423c",
    "outputId": "b83d799d-9be6-4e60-b2cc-227bf3efff26"
   },
   "outputs": [
    {
     "name": "stdout",
     "output_type": "stream",
     "text": [
      "{'analyze_query': {'query': {'query': 'Task Decomposition', 'section': 'end'}}}\n",
      "\n",
      "----------------\n",
      "\n",
      "{'retrieve': {'context': [Document(id='2a562c90-8b8d-4de0-ba8d-094f2bc94212', metadata={'source': 'https://lilianweng.github.io/posts/2023-06-23-agent/', 'start_index': 39220, 'section': 'end'}, page_content='Finite context length: The restricted context capacity limits the inclusion of historical information, detailed instructions, API call context, and responses. The design of the system has to work with this limited communication bandwidth, while mechanisms like self-reflection to learn from past mistakes would benefit a lot from long or infinite context windows. Although vector stores and retrieval can provide access to a larger knowledge pool, their representation power is not as powerful as full attention.\\n\\n\\nChallenges in long-term planning and task decomposition: Planning over a lengthy history and effectively exploring the solution space remain challenging. LLMs struggle to adjust plans when faced with unexpected errors, making them less robust compared to humans who learn from trial and error.'), Document(id='0f9b13d3-25a6-4188-9b44-fef411214ee6', metadata={'source': 'https://lilianweng.github.io/posts/2023-06-23-agent/', 'start_index': 39085, 'section': 'end'}, page_content='}\\n]\\nChallenges#\\nAfter going through key ideas and demos of building LLM-centered agents, I start to see a couple common limitations:'), Document(id='78cfde08-913a-429c-b6fc-e37b1eae3028', metadata={'source': 'https://lilianweng.github.io/posts/2023-06-23-agent/', 'start_index': 32941, 'section': 'end'}, page_content='}\\n]\\nThen after these clarification, the agent moved into the code writing mode with a different system message.\\nSystem message:'), Document(id='da23bf42-be55-40ca-b48e-ca5fd18e04da', metadata={'source': 'https://lilianweng.github.io/posts/2023-06-23-agent/', 'start_index': 35126, 'section': 'end'}, page_content='\"content\": \"You will get instructions for code to write.\\\\nYou will write a very long answer. Make sure that every detail of the architecture is, in the end, implemented as code.\\\\nMake sure that every detail of the architecture is, in the end, implemented as code.\\\\n\\\\nThink step by step and reason yourself to the right decisions to make sure we get it right.\\\\nYou will first lay out the names of the core classes, functions, methods that will be necessary, as well as a quick comment on their purpose.\\\\n\\\\nThen you will output the content of each file including ALL code.\\\\nEach file must strictly follow a markdown code block format, where the following tokens must be replaced such that\\\\nFILENAME is the lowercase file name including the file extension,\\\\nLANG is the markup code block language for the code\\'s language, and CODE is the code:\\\\n\\\\nFILENAME\\\\n```LANG\\\\nCODE\\\\n```\\\\n\\\\nYou will start with the \\\\\"entrypoint\\\\\" file, then go to the ones that are imported by that file, and so on.\\\\nPlease')]}}\n",
      "\n",
      "----------------\n",
      "\n",
      "{'generate': {'answer': '게시물의 끝 부분에서는 Task Decomposition이 장기 계획과 과제 분해에서 여러 도전과제를 가지고 있다고 언급합니다. 특히 LLMs는 예상치 못한 오류에 직면했을 때 계획을 조정하는 데 어려움을 겪어 인간보다 덜 강인하다는 점이 강조됩니다. 이는 Trial and Error학습에서 오는 유연성을 결여한 결과입니다.'}}\n",
      "\n",
      "----------------\n",
      "\n"
     ]
    }
   ],
   "source": [
    "for step in graph.stream(\n",
    "    {\"question\": \"게시물의 끝 부분에서는 Task Decomposition에 대해 무엇이라고 말합니까?\"},\n",
    "    stream_mode=\"updates\",\n",
    "):\n",
    "    print(f\"{step}\\n\\n----------------\\n\")"
   ]
  },
  {
   "cell_type": "markdown",
   "id": "5875a48a-c849-4da9-99e0-558b04884fb0",
   "metadata": {
    "id": "5875a48a-c849-4da9-99e0-558b04884fb0"
   },
   "source": [
    "스트리밍 단계와 [LangSmith 추적](https://smith.langchain.com/) 모두에서 이제 검색 단계에 입력된 구조화된 쿼리를 관찰할 수 있습니다."
   ]
  }
 ],
 "metadata": {
  "colab": {
   "collapsed_sections": [
    "e6f11795-e19f-4697-bc6e-6d477355a1cd",
    "406534d4-66a3-4c27-b277-2bd2f5930cf5"
   ],
   "provenance": []
  },
  "kernelspec": {
   "display_name": "Python 3 (ipykernel)",
   "language": "python",
   "name": "python3"
  },
  "language_info": {
   "codemirror_mode": {
    "name": "ipython",
    "version": 3
   },
   "file_extension": ".py",
   "mimetype": "text/x-python",
   "name": "python",
   "nbconvert_exporter": "python",
   "pygments_lexer": "ipython3",
   "version": "3.12.5"
  }
 },
 "nbformat": 4,
 "nbformat_minor": 5
}
