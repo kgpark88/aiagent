{
 "cells": [
  {
   "cell_type": "markdown",
   "id": "defa8805",
   "metadata": {},
   "source": [
    "# 오픈소스 기반 RAG 파이프라인 구축 \n",
    "### 참고  \n",
    "- https://www.youtube.com/watch?v=a_zIs0KxLbc.  \n",
    "- https://docling-project.github.io/docling/examples/rag_langchain/#ingestion\n",
    "  \n",
    "### 오픈소스 기술스택 \n",
    "- Docling (문서 프로세싱) : https://github.com/docling-project/docling\n",
    "- LangChain (LLM AI앱 개발) : https://github.com/langchain-ai/langchain   \n",
    "- Milvus (벡터DB): https://github.com/milvus-io/milvus\n",
    "- HuggingFace (AI모델) : https://huggingface.co/\n",
    "- Ollama (LLM 로컬 실행): https://github.com/ollama/ollama\n",
    "- Langfuse (모니터링): https://github.com/langfuse/langfuse\n"
   ]
  },
  {
   "cell_type": "code",
   "execution_count": 2,
   "id": "8d0e4d87-aeca-45c6-9f9b-938f6584442a",
   "metadata": {},
   "outputs": [
    {
     "name": "stdout",
     "output_type": "stream",
     "text": [
      "\n",
      "\u001b[1m[\u001b[0m\u001b[34;49mnotice\u001b[0m\u001b[1;39;49m]\u001b[0m\u001b[39;49m A new release of pip is available: \u001b[0m\u001b[31;49m24.3.1\u001b[0m\u001b[39;49m -> \u001b[0m\u001b[32;49m25.0.1\u001b[0m\n",
      "\u001b[1m[\u001b[0m\u001b[34;49mnotice\u001b[0m\u001b[1;39;49m]\u001b[0m\u001b[39;49m To update, run: \u001b[0m\u001b[32;49mpip install --upgrade pip\u001b[0m\n",
      "Note: you may need to restart the kernel to use updated packages.\n",
      "\n",
      "\u001b[1m[\u001b[0m\u001b[34;49mnotice\u001b[0m\u001b[1;39;49m]\u001b[0m\u001b[39;49m A new release of pip is available: \u001b[0m\u001b[31;49m24.3.1\u001b[0m\u001b[39;49m -> \u001b[0m\u001b[32;49m25.0.1\u001b[0m\n",
      "\u001b[1m[\u001b[0m\u001b[34;49mnotice\u001b[0m\u001b[1;39;49m]\u001b[0m\u001b[39;49m To update, run: \u001b[0m\u001b[32;49mpip install --upgrade pip\u001b[0m\n",
      "Note: you may need to restart the kernel to use updated packages.\n"
     ]
    }
   ],
   "source": [
    "%pip install -qU docling pymilvus tf-keras langfuse \n",
    "%pip install -qU langchain langchain-docling langchain-huggingface langchain-milvus langchain-ollama"
   ]
  },
  {
   "cell_type": "markdown",
   "id": "70fc7626",
   "metadata": {},
   "source": [
    "### [Docling](https://github.com/docling-project/docling)\n",
    "Docling은 PDF 등 다양한 문서 처리/파싱을 간소화 하고, AI 에코시스템과의 원활한 통합을 제공합니다.\n",
    "<img src=\"https://github.com/docling-project/docling/raw/main/docs/assets/docling_processing.png\" width=\"800\"/>.   \n",
    "\n",
    "🗂️ PDF, DOCX, XLSX, HTML, 이미지 등을 포함한 [여러 문서 형식 구문](https://docling-project.github.io/docling/usage/supported_formats/) 분석   \n",
    "📑 페이지 레이아웃, 읽기 순서, 표 구조, 코드, 수식, 이미지 분류 등을 포함한 고급 PDF 이해  \n",
    "🧬 통합되고 표현력이 뛰어난 [DoclingDocument](https://docling-project.github.io/docling/concepts/docling_document/) 표현 형식  \n",
    "↪️ Markdown, HTML, 무손실 JSON을 포함한 다양한 내보내기 형식 및 옵션  \n",
    "🔒 민감한 데이터 및 에어갭 환경을 위한 로컬 실행 기능  \n",
    "🤖 LangChain, LlamaIndex, Crew AI 및 에이전트 AI를 위한 Haystack을 포함한 플러그 앤 플레이 통합  \n",
    "🔍 스캔된 PDF 및 이미지에 대한 광범위한 OCR 지원   \n",
    "🥚 시각적 언어 모델([SmolDocling](https://huggingface.co/ds4sd/SmolDocling-256M-preview)) 지원  \n",
    "💻 간단하고 편리한 CLI "
   ]
  },
  {
   "cell_type": "markdown",
   "id": "03d34704",
   "metadata": {},
   "source": [
    "macOS 인증서 업데이트    \n",
    "/Applications/Python\\ 3.12/Install\\ Certificates.command"
   ]
  },
  {
   "cell_type": "markdown",
   "id": "88a06026",
   "metadata": {},
   "source": [
    "# 1. Docling 사용법 "
   ]
  },
  {
   "cell_type": "markdown",
   "id": "770123d1-6ffa-403f-ab39-d2e8380a5bb3",
   "metadata": {},
   "source": [
    "## 1.1 문서변환(Document Conversion) "
   ]
  },
  {
   "cell_type": "code",
   "execution_count": 3,
   "id": "242b56ee",
   "metadata": {},
   "outputs": [],
   "source": [
    "pdf_file = \"2025년 적용 최저임금 안내문.pdf\""
   ]
  },
  {
   "cell_type": "code",
   "execution_count": 4,
   "id": "5f3b12b7-9615-4b0d-86a1-17c2a2e27338",
   "metadata": {},
   "outputs": [],
   "source": [
    "from docling.document_converter import DocumentConverter\n",
    "\n",
    "# source = \"https://arxiv.org/pdf/2408.09869\"  # document per local path or URL\n",
    "source = pdf_file  \n",
    "converter = DocumentConverter()\n",
    "result = converter.convert(source)"
   ]
  },
  {
   "cell_type": "code",
   "execution_count": 5,
   "id": "8ca04678",
   "metadata": {},
   "outputs": [
    {
     "name": "stdout",
     "output_type": "stream",
     "text": [
      "<!-- image -->\n",
      "\n",
      "상담전화국번없이\n",
      "\n",
      "<!-- image -->\n",
      "\n",
      "## 서울지방고용노동청\n",
      "\n",
      "| 서울지방고용노동청   | 02)2231-0009   | 서울남부지청   | 02)2639-2100   |\n",
      "|----------------------|----------------|----------------|----------------|\n",
      "| 서울강남지청         | 02)584-0009    | 서울북부지청   | 02)950-9880    |\n",
      "| 서울동부지청         | 02)403-0009    | 서울관악지청   | 02)3281-0009   |\n",
      "| 서울서부지청         | 02)713-0009    |                |                |\n",
      "\n",
      "## 중부지방고용노동청\n",
      "\n",
      "| 중부지방고용노동청   | 032)460-4545   | 안산지청   | 031)412-1992   |\n",
      "|----------------------|----------------|------------|----------------|\n",
      "| 인천북부지청         | 032)540-7910   | 평택지청   | 031)646-1114   |\n",
      "| 부천지청             | 032)714-8700   | 강원지청   | 033)269-3551   |\n",
      "| 의정부지청           | 031)877-0009   | 강릉지청   | 033)650-2500   |\n",
      "| 고양지청             | 031)931-2800   | 원주지청   | 033)769-0800   |\n",
      "| 경기지청             | 031)259-0204   | 태백지청   | 033)552-0009   |\n",
      "| 성남지청             | 031)788-1505   | 영월출장소 | 033)374-0009   |\n",
      "| 안양지청             | 031)463-7300   |            |                |\n",
      "\n",
      "## 부산지방고용노동청\n",
      "\n",
      "| 부산지방고용노동청   | 051)853-0009   | 울산지청   | 052)272-0009   |\n",
      "|----------------------|----------------|------------|----------------|\n",
      "| 부산동부지청         | 051)559-6688   | 양산지청   | 055)387-0009   |\n",
      "| 부산북부지청         | 051)309-1500   | 진주지청   | 055)752-0009   |\n",
      "| 창원지청             | 055)239-6500   | 통영지청   | 055)650-1951   |\n",
      "\n",
      "## 대구지방고용노동청\n",
      "\n",
      "| 대구지방고용노동청   | 053)667-6200   | 구미지청   | 054)450-3500   |\n",
      "|----------------------|----------------|------------|----------------|\n",
      "| 대구서부지청         | 053)605-9000   | 영주지청   | 054)639-1111   |\n",
      "| 포항지청             | 054)271-6700   | 안동지청   | 054)851-8000   |\n",
      "\n",
      "## 광주지방고용노동청\n",
      "\n",
      "| 광주지방고용노동청 ( 제주근로개선지도센터 )   | 062)975-6200 064)728-7100   | 군산지청   | 063)452-0009   |\n",
      "|-----------------------------------------------|-----------------------------|------------|----------------|\n",
      "| 전주지청                                      | 063)240-3400                | 목포지청   | 061)280-0100   |\n",
      "| 익산지청                                      | 063)839-0009                | 여수지청   | 061)650-0108   |\n",
      "\n",
      "## 대전지방고용노동청\n",
      "\n",
      "| 대전지방고용노동청   | 042)480-6290   | 충주지청   | 043)840-4000   |\n",
      "|----------------------|----------------|------------|----------------|\n",
      "| 청주지청             | 043)299-1114   | 보령지청   | 041)931-6640   |\n",
      "| 천안지청             | 041)560-2800   | 서산출장소 | 041)661-5630   |\n",
      "\n",
      "<!-- image -->\n",
      "\n",
      "## 최저임금 미만 여부 알아보기\n",
      "\n",
      "## 시간급 예시\n",
      "\n",
      "<!-- image -->\n",
      "\n",
      "## 시간급 10,000 원을받는경우\n",
      "\n",
      "시간급\n",
      "\n",
      "10,000 원\n",
      "\n",
      "시간급 10,030 원\n",
      "\n",
      "2025 년최저임금시간급 10,030 원보다적기때문에 최저임금법위반임\n",
      "\n",
      "## 일급 예시\n",
      "\n",
      "<!-- image -->\n",
      "\n",
      "## 1 일 시간근로하고 8 일급 78,800 원을받는경우\n",
      "\n",
      "78,800 원 ÷8 시간 9,850 원\n",
      "\n",
      "시간급 10,030\n",
      "\n",
      "원\n",
      "\n",
      "<!-- image -->\n",
      "\n",
      "<!-- image -->\n",
      "\n",
      "9,850 원 (78,800 원 ÷8 시간은 ) 2025 년최저임금 시간급 10,030 원보다적기때문에 최저임금법위반임\n",
      "\n",
      "<!-- image -->\n",
      "\n",
      "<!-- image -->\n",
      "\n",
      "## 주휴수당 알아보기\n",
      "\n",
      "<!-- image -->\n",
      "\n",
      "## 주휴수당이란?\n",
      "\n",
      "1 주소정근로시간 이 * 15 시간이상인근로자가 주일동안개근한경우 1 주 회유급휴일을부여하여야하는데이때지급하는수당이주휴수당 1 입니다 주 일 주 . 5 , 40 시간미만근로자라도소정근로 시간이주 15 시간 이상이면시간에비례하여주휴수당을지급하여야합니다 .\n",
      "\n",
      "* 소정근로시간이란 일 시간 1 8 , 1 주 40 시간내에서사용자와근로자가합의한시간\n",
      "\n",
      "<!-- image -->\n",
      "\n",
      "## 주급 예시\n",
      "\n",
      "## 1 일 시간 4 , 1 주 (5 일 간 총 ) 20 시간 근로 개근 하고 주급 ( ) 235,200 원을 받는 경우\n",
      "\n",
      "235,200 원 ÷24 시간 9,800 원\n",
      "\n",
      "시간급\n",
      "\n",
      "10,030 원\n",
      "\n",
      "<!-- image -->\n",
      "\n",
      "<!-- image -->\n",
      "\n",
      "9,800 원 (235,200 원 ÷24 시간은 ) 2025 년최저임금 시간급 10,030 원보다적기때문에 최저임금법위반임 ✽ 24 시간 주 (1 20 시간 유급주휴 시간 + 4 )\n",
      "\n",
      "## 월급 예시\n",
      "\n",
      "<!-- image -->\n",
      "\n",
      "## 1주 40시간(주 5일, 1일 8시간)을 근로하고 월급 2,069,100원을 받는 경우\n",
      "\n",
      "2,069,100 원 ÷209 시간\n",
      "\n",
      "9,900 원\n",
      "\n",
      "시간급 10,030 원\n",
      "\n",
      "<!-- image -->\n",
      "\n",
      "9,900 원(2,069,100원 ÷209 시간은 ) 2025 년최저임금 시간급 10,030 원보다적기때문에 최저임금법위반임 ✽ 209 시간 {(1 주 40 시간 유급주휴 시간 + 8 )×365÷7}÷12 월\n",
      "\n",
      "## 누가, 얼마나 받을 수 있나요?\n",
      "\n",
      "1주 동안 소정근로일을 개근한 근로자가 대상이 되며, 정상근로일의 소정근로시간에 해당하는 1일분의 임금액을 받을 수 있습니다. 예를 들어 하루에 8시간씩 근무하는 경우에는 8시간에 대한 임금을 받을 수 있습니다.\n",
      "\n",
      "<!-- image -->\n",
      "\n",
      "## 최저임금 시간급\n",
      "\n",
      "## 10,030 원\n",
      "\n",
      "## /\\_19/\\_17/\\_19/\\_22/\\_15/\\_18/\\_15/\\_18/\\_15/\\_95/\\_19/\\_17/\\_19/\\_22/\\_15/\\_18/\\_19/\\_15/\\_20/\\_18/\\_15/\\_1/\\_2680/\\_2570\n",
      "\n",
      "## /\\_2584/\\_1/\\_3356/\\_2193/\\_2456 /\\_1 /\\_19/\\_13/\\_17/\\_26/\\_23/\\_13/\\_19/\\_24/\\_17 /\\_2583\n",
      "\n",
      "/\\_9/\\_2737/\\_1/\\_21/\\_17/\\_2342/\\_1088/\\_1/\\_1245/\\_2739/\\_13/\\_1/\\_2604/\\_1241/\\_2737/\\_3403/\\_1/\\_25/\\_2342/\\_1088/\\_1/\\_3240/\\_3299/\\_10\n",
      "\n",
      "<!-- image -->\n",
      "\n",
      "<!-- image -->\n",
      "\n",
      "/\\_2584/\\_1/\\_3356/\\_2193/\\_2456 /\\_1 /\\_19/\\_13/\\_17/\\_26/\\_23/\\_13/\\_19/\\_24/\\_17 /\\_2583\n",
      "\n",
      "/\\_9/\\_2737/\\_1/\\_21/\\_17/\\_2342/\\_1088/\\_1/\\_1245/\\_2739/\\_13/\\_1/\\_2604/\\_1241/\\_2737/\\_3403/\\_1/\\_25/\\_2342/\\_1088/\\_1/\\_3240/\\_3299/\\_10\n",
      "\n",
      "<!-- image -->\n",
      "\n",
      "## 최저임금은\n",
      "\n",
      "근로자에 대하여 임금의 최저수준을 보장하여 근로자의 생활안정과 노동력의 질적 향상을 꾀함으로써 국민경제의 건전한 발전에 이바지 하는 것을 목적으로 하는 제도입니다.\n",
      "\n",
      "<!-- image -->\n",
      "\n",
      "## 최저임금이 적용되는 사업장과 근로자는 어떻게 되나요?\n",
      "\n",
      "## 근로자 1명 이상인 모든 사업 또는 사업장에 적용됩니다.\n",
      "\n",
      "다만, 동거하는 친족만을 사용하는 사업과 가사사용인, 선원법의 적용을 받는 선원 및 선원을 사용하는 선박 소유자에게는 적용되지 않습니다.\n",
      "\n",
      "## 근로기준법상 근로자(정규직·비정규직, 파트타임, 아르바이트, 청소년 근로자, 외국인 근로자 등)에게는 모두 적용됩니다.\n",
      "\n",
      "다만, 정신 또는 신체장애로 근로능력이 현저히 낮아 고용노동부장관의 적용제외 인가를 받은 사람에 대하여는 적용되지 않습니다.\n",
      "\n",
      "<!-- image -->\n",
      "\n",
      "## 최저임금액과 다른 금액으로 최저임금액을 정하는 근로자는?\n",
      "\n",
      "## 1년 이상의 기간을 정하여 근로계약을 체결하고 수습 중에 있는  근로자로서  수습을  시작한  날부터  3개월  이내인 사람에 대하여는 최저임금액의 10%를 감액하여 지급할 수 있습니다.\n",
      "\n",
      "다만, 단순노무업무로 고용노동부장관이 정하여 고시한 직종에 종사  하는 근로자*에게는 수습여부·계약기간과 관계없이 최저임금액의 100%를 지급하여야 합니다.\n",
      "\n",
      "- * 한국표준직업분류상 대분류9(단순노무종사자)에 해당하는 사람\n",
      "\n",
      "Q\n",
      "\n",
      "## 최저임금에 산입되는 임금과 산입되지않는 임금은 어떻게 되나요?\n",
      "\n",
      "최저임금에 산입되는 임금은 근로기준법상 임금으로서 매월 1회 이상 정기적으로 지급하는 임금\n",
      "\n",
      "- 매월 지급하는 상여금 및 식비, 숙박비, 교통비 등 근로자의 생활보조 또는 복리후생을 위한 성질의 임금 전부 산입\n",
      "- 다만, 아래의 임금은 최저임금에 산입되지 않음\n",
      "- 통화 이외의 것(현물)으로 지급하는 임금\n",
      "- 소정근로시간 또는 소정의 근로일에 대하여 지급하는 임금 외의 임금\n",
      "\n",
      "연장근로 또는 휴일근로에 대한 임금 및 연장·야간 또는 휴일근로에 대한 가산임금, 연차 유급휴가 미사용수당, 법정 주휴일을 제외한 유급휴일에 대한 임금, 그 밖에 이에 준하는 것으로 인정되는 임금\n",
      "\n",
      "## '최저임금 월 환산액'이란?\n",
      "\n",
      "## 고시된 시간급 최저임금액에 1개월의 최저임금 적용기준 시간 수를 곱하여 산정\n",
      "\n",
      "· 2025년 시간급 최저임금 10,030원 × 1개월의 최저임금 적용기준 시간 수\n",
      "\n",
      "- (209시간, 최저임금 고시 기준)* = 2,096,270원\n",
      "- * 1주 소정근로시간 40시간이고 유급주휴 8시간인 경우 1개월의 최저임금 적용기준 시간 수 산정방법: (1주 소정근로시간 40시간+유급주휴 8시간)x365일÷7일÷12월=약 209시간\n",
      "\n",
      "## 취업규칙 변경절차의 특례\n",
      "\n",
      "최저임금에 산입되는 임금에 포함시키기 위하여 1개월을 초과하는 주기로 지급하는 임금을 총액의 변동없이 매월 지급하는 것으로 취업규칙 변경 시 근로자의 과반수(또는 근로자의 과반수로 조직된 노동조합)의 의견청취 필요\n",
      "\n",
      "<!-- image -->\n",
      "\n",
      "<!-- image -->\n",
      "\n",
      "## 사용자가 근로자에게 반드시 알려 주어야할 사항은 무엇인가요?\n",
      "\n",
      "## 사용자는 최저임금액 등을 근로자가 쉽게 볼 수 있는 장소에 게시하거나 그 외 적당한 방법으로 근로자에게 널리 알려야 합니다.\n",
      "\n",
      "사용자가 근로자에게 최저임금액 등을 알려주지 않을 경우에는 100만원 이하의 과태료가 부과됩니다.\n",
      "\n",
      "<!-- image -->\n",
      "\n",
      "## 알려야 할 내용\n",
      "\n",
      "최저임금액\n",
      "\n",
      "최저임금에 산입하지 아니하는 임금\n",
      "\n",
      "적용제외 근로자의 범위\n",
      "\n",
      "최저임금의 효력 발생 연월일\n",
      "\n",
      "<!-- image -->\n",
      "\n",
      "## 사용자가 최저임금에 미달하여 임금을 지급한 경우 어떤 처벌을 받나요?\n",
      "\n",
      "3년 이하의 징역 또는 2천만원 이하 벌금 에 처해지거나, 이 두 가지 벌칙을 같이 받을 수 있습니다.\n",
      "\n",
      "<!-- image -->\n",
      "\n",
      "## 최저임금액보다 낮은 임금을 지급 받기로 한 근로계약은 유효한가요?\n",
      "\n",
      "최저임금액보다 낮은 금액으로 임금을 정한 경우 , 이렇게 정한 임금 부분은 무효 이고 최저임금액과 동일한 임금을 지급하여야 합니다.\n",
      "\n",
      "<!-- image -->\n",
      "\n",
      "소정근로시간이 /\\_18 주 /\\_21/\\_17 시간인 근로자가 2025년 1월 급여 /\\_19/\\_13/\\_20/\\_22/\\_21/\\_13/\\_21/\\_24/\\_17\n",
      "\n",
      "원을 받는 경우\n",
      "\n",
      "9,830원(2,054,470원 ÷ 209시간)은\n",
      "\n",
      "2025년 최저임금 시간급 10,030원 보다 적기 때문에\n",
      "\n",
      "최저임금법 위반\n",
      "\n",
      "<!-- image -->\n",
      "\n",
      "## 최저임금 위반 상담 및 신고\n",
      "\n",
      "<!-- image -->\n",
      "\n",
      "상담\n",
      "\n",
      ": 국번없이\n",
      "\n",
      "1350\n",
      "\n",
      "위반신고\n",
      "\n",
      ": 사업장 관할 지방고용노동청(지청)\n"
     ]
    }
   ],
   "source": [
    "print(result.document.export_to_markdown()) "
   ]
  },
  {
   "cell_type": "code",
   "execution_count": 6,
   "id": "0dd1c663-c1ea-4db4-aa0f-311f80ee4865",
   "metadata": {},
   "outputs": [
    {
     "data": {
      "text/plain": [
       "docling.datamodel.document.ConversionResult"
      ]
     },
     "execution_count": 6,
     "metadata": {},
     "output_type": "execute_result"
    }
   ],
   "source": [
    "type(result)"
   ]
  },
  {
   "cell_type": "code",
   "execution_count": 7,
   "id": "1a6f3563",
   "metadata": {},
   "outputs": [],
   "source": [
    "# result.document.export_to_dict()"
   ]
  },
  {
   "cell_type": "markdown",
   "id": "c32527ce",
   "metadata": {},
   "source": [
    "## 1.2 테이블 추출 옵션\n",
    "- PdfPipelineOptions에서 do_table_structure=True로 설정하여 테이블 구조 인식 활성화   "
   ]
  },
  {
   "cell_type": "code",
   "execution_count": 8,
   "id": "3ee502d5",
   "metadata": {},
   "outputs": [],
   "source": [
    "from docling.datamodel.base_models import InputFormat\n",
    "from docling.document_converter import DocumentConverter, PdfFormatOption\n",
    "from docling.datamodel.pipeline_options import PdfPipelineOptions, TableFormerMode\n",
    "\n",
    "pipeline_options = PdfPipelineOptions(do_table_structure=True)\n",
    "pipeline_options.table_structure_options.mode = TableFormerMode.ACCURATE\n",
    "\n",
    "doc_converter = DocumentConverter(\n",
    "    format_options={\n",
    "        InputFormat.PDF: PdfFormatOption(pipeline_options=pipeline_options)\n",
    "    }\n",
    ")\n",
    "\n",
    "source = pdf_file\n",
    "doc_converter = DocumentConverter()\n",
    "doc_result = converter.convert(source)"
   ]
  },
  {
   "cell_type": "code",
   "execution_count": 9,
   "id": "12e51045",
   "metadata": {},
   "outputs": [
    {
     "name": "stdout",
     "output_type": "stream",
     "text": [
      "<!-- image -->\n",
      "\n",
      "상담전화국번없이\n",
      "\n",
      "<!-- image -->\n",
      "\n",
      "## 서울지방고용노동청\n",
      "\n",
      "| 서울지방고용노동청   | 02)2231-0009   | 서울남부지청   | 02)2639-2100   |\n",
      "|----------------------|----------------|----------------|----------------|\n",
      "| 서울강남지청         | 02)584-0009    | 서울북부지청   | 02)950-9880    |\n",
      "| 서울동부지청         | 02)403-0009    | 서울관악지청   | 02)3281-0009   |\n",
      "| 서울서부지청         | 02)713-0009    |                |                |\n",
      "\n",
      "## 중부지방고용노동청\n",
      "\n",
      "| 중부지방고용노동청   | 032)460-4545   | 안산지청   | 031)412-1992   |\n",
      "|----------------------|----------------|------------|----------------|\n",
      "| 인천북부지청         | 032)540-7910   | 평택지청   | 031)646-1114   |\n",
      "| 부천지청             | 032)714-8700   | 강원지청   | 033)269-3551   |\n",
      "| 의정부지청           | 031)877-0009   | 강릉지청   | 033)650-2500   |\n",
      "| 고양지청             | 031)931-2800   | 원주지청   | 033)769-0800   |\n",
      "| 경기지청             | 031)259-0204   | 태백지청   | 033)552-0009   |\n",
      "| 성남지청             | 031)788-1505   | 영월출장소 | 033)374-0009   |\n",
      "| 안양지청             | 031)463-7300   |            |                |\n",
      "\n",
      "## 부산지방고용노동청\n",
      "\n",
      "| 부산지방고용노동청   | 051)853-0009   | 울산지청   | 052)272-0009   |\n",
      "|----------------------|----------------|------------|----------------|\n",
      "| 부산동부지청         | 051)559-6688   | 양산지청   | 055)387-0009   |\n",
      "| 부산북부지청         | 051)309-1500   | 진주지청   | 055)752-0009   |\n",
      "| 창원지청             | 055)239-6500   | 통영지청   | 055)650-1951   |\n",
      "\n",
      "## 대구지방고용노동청\n",
      "\n",
      "| 대구지방고용노동청   | 053)667-6200   | 구미지청   | 054)450-3500   |\n",
      "|----------------------|----------------|------------|----------------|\n",
      "| 대구서부지청         | 053)605-9000   | 영주지청   | 054)639-1111   |\n",
      "| 포항지청             | 054)271-6700   | 안동지청   | 054)851-8000   |\n",
      "\n",
      "## 광주지방고용노동청\n",
      "\n",
      "| 광주지방고용노동청 ( 제주근로개선지도센터 )   | 062)975-6200 064)728-7100   | 군산지청   | 063)452-0009   |\n",
      "|-----------------------------------------------|-----------------------------|------------|----------------|\n",
      "| 전주지청                                      | 063)240-3400                | 목포지청   | 061)280-0100   |\n",
      "| 익산지청                                      | 063)839-0009                | 여수지청   | 061)650-0108   |\n",
      "\n",
      "## 대전지방고용노동청\n",
      "\n",
      "| 대전지방고용노동청   | 042)480-6290   | 충주지청   | 043)840-4000   |\n",
      "|----------------------|----------------|------------|----------------|\n",
      "| 청주지청             | 043)299-1114   | 보령지청   | 041)931-6640   |\n",
      "| 천안지청             | 041)560-2800   | 서산출장소 | 041)661-5630   |\n",
      "\n",
      "<!-- image -->\n",
      "\n",
      "## 최저임금 미만 여부 알아보기\n",
      "\n",
      "## 시간급 예시\n",
      "\n",
      "<!-- image -->\n",
      "\n",
      "## 시간급 10,000 원을받는경우\n",
      "\n",
      "시간급\n",
      "\n",
      "10,000 원\n",
      "\n",
      "시간급 10,030 원\n",
      "\n",
      "2025 년최저임금시간급 10,030 원보다적기때문에 최저임금법위반임\n",
      "\n",
      "## 일급 예시\n",
      "\n",
      "<!-- image -->\n",
      "\n",
      "## 1 일 시간근로하고 8 일급 78,800 원을받는경우\n",
      "\n",
      "78,800 원 ÷8 시간 9,850 원\n",
      "\n",
      "시간급 10,030\n",
      "\n",
      "원\n",
      "\n",
      "<!-- image -->\n",
      "\n",
      "<!-- image -->\n",
      "\n",
      "9,850 원 (78,800 원 ÷8 시간은 ) 2025 년최저임금 시간급 10,030 원보다적기때문에 최저임금법위반임\n",
      "\n",
      "<!-- image -->\n",
      "\n",
      "<!-- image -->\n",
      "\n",
      "## 주휴수당 알아보기\n",
      "\n",
      "<!-- image -->\n",
      "\n",
      "## 주휴수당이란?\n",
      "\n",
      "1 주소정근로시간 이 * 15 시간이상인근로자가 주일동안개근한경우 1 주 회유급휴일을부여하여야하는데이때지급하는수당이주휴수당 1 입니다 주 일 주 . 5 , 40 시간미만근로자라도소정근로 시간이주 15 시간 이상이면시간에비례하여주휴수당을지급하여야합니다 .\n",
      "\n",
      "* 소정근로시간이란 일 시간 1 8 , 1 주 40 시간내에서사용자와근로자가합의한시간\n",
      "\n",
      "<!-- image -->\n",
      "\n",
      "## 주급 예시\n",
      "\n",
      "## 1 일 시간 4 , 1 주 (5 일 간 총 ) 20 시간 근로 개근 하고 주급 ( ) 235,200 원을 받는 경우\n",
      "\n",
      "235,200 원 ÷24 시간 9,800 원\n",
      "\n",
      "시간급\n",
      "\n",
      "10,030 원\n",
      "\n",
      "<!-- image -->\n",
      "\n",
      "<!-- image -->\n",
      "\n",
      "9,800 원 (235,200 원 ÷24 시간은 ) 2025 년최저임금 시간급 10,030 원보다적기때문에 최저임금법위반임 ✽ 24 시간 주 (1 20 시간 유급주휴 시간 + 4 )\n",
      "\n",
      "## 월급 예시\n",
      "\n",
      "<!-- image -->\n",
      "\n",
      "## 1주 40시간(주 5일, 1일 8시간)을 근로하고 월급 2,069,100원을 받는 경우\n",
      "\n",
      "2,069,100 원 ÷209 시간\n",
      "\n",
      "9,900 원\n",
      "\n",
      "시간급 10,030 원\n",
      "\n",
      "<!-- image -->\n",
      "\n",
      "9,900 원(2,069,100원 ÷209 시간은 ) 2025 년최저임금 시간급 10,030 원보다적기때문에 최저임금법위반임 ✽ 209 시간 {(1 주 40 시간 유급주휴 시간 + 8 )×365÷7}÷12 월\n",
      "\n",
      "## 누가, 얼마나 받을 수 있나요?\n",
      "\n",
      "1주 동안 소정근로일을 개근한 근로자가 대상이 되며, 정상근로일의 소정근로시간에 해당하는 1일분의 임금액을 받을 수 있습니다. 예를 들어 하루에 8시간씩 근무하는 경우에는 8시간에 대한 임금을 받을 수 있습니다.\n",
      "\n",
      "<!-- image -->\n",
      "\n",
      "## 최저임금 시간급\n",
      "\n",
      "## 10,030 원\n",
      "\n",
      "## /\\_19/\\_17/\\_19/\\_22/\\_15/\\_18/\\_15/\\_18/\\_15/\\_95/\\_19/\\_17/\\_19/\\_22/\\_15/\\_18/\\_19/\\_15/\\_20/\\_18/\\_15/\\_1/\\_2680/\\_2570\n",
      "\n",
      "## /\\_2584/\\_1/\\_3356/\\_2193/\\_2456 /\\_1 /\\_19/\\_13/\\_17/\\_26/\\_23/\\_13/\\_19/\\_24/\\_17 /\\_2583\n",
      "\n",
      "/\\_9/\\_2737/\\_1/\\_21/\\_17/\\_2342/\\_1088/\\_1/\\_1245/\\_2739/\\_13/\\_1/\\_2604/\\_1241/\\_2737/\\_3403/\\_1/\\_25/\\_2342/\\_1088/\\_1/\\_3240/\\_3299/\\_10\n",
      "\n",
      "<!-- image -->\n",
      "\n",
      "<!-- image -->\n",
      "\n",
      "/\\_2584/\\_1/\\_3356/\\_2193/\\_2456 /\\_1 /\\_19/\\_13/\\_17/\\_26/\\_23/\\_13/\\_19/\\_24/\\_17 /\\_2583\n",
      "\n",
      "/\\_9/\\_2737/\\_1/\\_21/\\_17/\\_2342/\\_1088/\\_1/\\_1245/\\_2739/\\_13/\\_1/\\_2604/\\_1241/\\_2737/\\_3403/\\_1/\\_25/\\_2342/\\_1088/\\_1/\\_3240/\\_3299/\\_10\n",
      "\n",
      "<!-- image -->\n",
      "\n",
      "## 최저임금은\n",
      "\n",
      "근로자에 대하여 임금의 최저수준을 보장하여 근로자의 생활안정과 노동력의 질적 향상을 꾀함으로써 국민경제의 건전한 발전에 이바지 하는 것을 목적으로 하는 제도입니다.\n",
      "\n",
      "<!-- image -->\n",
      "\n",
      "## 최저임금이 적용되는 사업장과 근로자는 어떻게 되나요?\n",
      "\n",
      "## 근로자 1명 이상인 모든 사업 또는 사업장에 적용됩니다.\n",
      "\n",
      "다만, 동거하는 친족만을 사용하는 사업과 가사사용인, 선원법의 적용을 받는 선원 및 선원을 사용하는 선박 소유자에게는 적용되지 않습니다.\n",
      "\n",
      "## 근로기준법상 근로자(정규직·비정규직, 파트타임, 아르바이트, 청소년 근로자, 외국인 근로자 등)에게는 모두 적용됩니다.\n",
      "\n",
      "다만, 정신 또는 신체장애로 근로능력이 현저히 낮아 고용노동부장관의 적용제외 인가를 받은 사람에 대하여는 적용되지 않습니다.\n",
      "\n",
      "<!-- image -->\n",
      "\n",
      "## 최저임금액과 다른 금액으로 최저임금액을 정하는 근로자는?\n",
      "\n",
      "## 1년 이상의 기간을 정하여 근로계약을 체결하고 수습 중에 있는  근로자로서  수습을  시작한  날부터  3개월  이내인 사람에 대하여는 최저임금액의 10%를 감액하여 지급할 수 있습니다.\n",
      "\n",
      "다만, 단순노무업무로 고용노동부장관이 정하여 고시한 직종에 종사  하는 근로자*에게는 수습여부·계약기간과 관계없이 최저임금액의 100%를 지급하여야 합니다.\n",
      "\n",
      "- * 한국표준직업분류상 대분류9(단순노무종사자)에 해당하는 사람\n",
      "\n",
      "Q\n",
      "\n",
      "## 최저임금에 산입되는 임금과 산입되지않는 임금은 어떻게 되나요?\n",
      "\n",
      "최저임금에 산입되는 임금은 근로기준법상 임금으로서 매월 1회 이상 정기적으로 지급하는 임금\n",
      "\n",
      "- 매월 지급하는 상여금 및 식비, 숙박비, 교통비 등 근로자의 생활보조 또는 복리후생을 위한 성질의 임금 전부 산입\n",
      "- 다만, 아래의 임금은 최저임금에 산입되지 않음\n",
      "- 통화 이외의 것(현물)으로 지급하는 임금\n",
      "- 소정근로시간 또는 소정의 근로일에 대하여 지급하는 임금 외의 임금\n",
      "\n",
      "연장근로 또는 휴일근로에 대한 임금 및 연장·야간 또는 휴일근로에 대한 가산임금, 연차 유급휴가 미사용수당, 법정 주휴일을 제외한 유급휴일에 대한 임금, 그 밖에 이에 준하는 것으로 인정되는 임금\n",
      "\n",
      "## '최저임금 월 환산액'이란?\n",
      "\n",
      "## 고시된 시간급 최저임금액에 1개월의 최저임금 적용기준 시간 수를 곱하여 산정\n",
      "\n",
      "· 2025년 시간급 최저임금 10,030원 × 1개월의 최저임금 적용기준 시간 수\n",
      "\n",
      "- (209시간, 최저임금 고시 기준)* = 2,096,270원\n",
      "- * 1주 소정근로시간 40시간이고 유급주휴 8시간인 경우 1개월의 최저임금 적용기준 시간 수 산정방법: (1주 소정근로시간 40시간+유급주휴 8시간)x365일÷7일÷12월=약 209시간\n",
      "\n",
      "## 취업규칙 변경절차의 특례\n",
      "\n",
      "최저임금에 산입되는 임금에 포함시키기 위하여 1개월을 초과하는 주기로 지급하는 임금을 총액의 변동없이 매월 지급하는 것으로 취업규칙 변경 시 근로자의 과반수(또는 근로자의 과반수로 조직된 노동조합)의 의견청취 필요\n",
      "\n",
      "<!-- image -->\n",
      "\n",
      "<!-- image -->\n",
      "\n",
      "## 사용자가 근로자에게 반드시 알려 주어야할 사항은 무엇인가요?\n",
      "\n",
      "## 사용자는 최저임금액 등을 근로자가 쉽게 볼 수 있는 장소에 게시하거나 그 외 적당한 방법으로 근로자에게 널리 알려야 합니다.\n",
      "\n",
      "사용자가 근로자에게 최저임금액 등을 알려주지 않을 경우에는 100만원 이하의 과태료가 부과됩니다.\n",
      "\n",
      "<!-- image -->\n",
      "\n",
      "## 알려야 할 내용\n",
      "\n",
      "최저임금액\n",
      "\n",
      "최저임금에 산입하지 아니하는 임금\n",
      "\n",
      "적용제외 근로자의 범위\n",
      "\n",
      "최저임금의 효력 발생 연월일\n",
      "\n",
      "<!-- image -->\n",
      "\n",
      "## 사용자가 최저임금에 미달하여 임금을 지급한 경우 어떤 처벌을 받나요?\n",
      "\n",
      "3년 이하의 징역 또는 2천만원 이하 벌금 에 처해지거나, 이 두 가지 벌칙을 같이 받을 수 있습니다.\n",
      "\n",
      "<!-- image -->\n",
      "\n",
      "## 최저임금액보다 낮은 임금을 지급 받기로 한 근로계약은 유효한가요?\n",
      "\n",
      "최저임금액보다 낮은 금액으로 임금을 정한 경우 , 이렇게 정한 임금 부분은 무효 이고 최저임금액과 동일한 임금을 지급하여야 합니다.\n",
      "\n",
      "<!-- image -->\n",
      "\n",
      "소정근로시간이 /\\_18 주 /\\_21/\\_17 시간인 근로자가 2025년 1월 급여 /\\_19/\\_13/\\_20/\\_22/\\_21/\\_13/\\_21/\\_24/\\_17\n",
      "\n",
      "원을 받는 경우\n",
      "\n",
      "9,830원(2,054,470원 ÷ 209시간)은\n",
      "\n",
      "2025년 최저임금 시간급 10,030원 보다 적기 때문에\n",
      "\n",
      "최저임금법 위반\n",
      "\n",
      "<!-- image -->\n",
      "\n",
      "## 최저임금 위반 상담 및 신고\n",
      "\n",
      "<!-- image -->\n",
      "\n",
      "상담\n",
      "\n",
      ": 국번없이\n",
      "\n",
      "1350\n",
      "\n",
      "위반신고\n",
      "\n",
      ": 사업장 관할 지방고용노동청(지청)\n"
     ]
    }
   ],
   "source": [
    "print(doc_result.document.export_to_markdown())  "
   ]
  },
  {
   "cell_type": "markdown",
   "id": "2f91e34d",
   "metadata": {},
   "source": [
    "## 1.3 문서 청킹(Document Chunking)"
   ]
  },
  {
   "cell_type": "code",
   "execution_count": 10,
   "id": "3d7e3fb5",
   "metadata": {},
   "outputs": [],
   "source": [
    "from docling.document_converter import DocumentConverter\n",
    "from docling.chunking import HybridChunker\n",
    "\n",
    "conv_res = DocumentConverter().convert(pdf_file)\n",
    "doc = conv_res.document\n",
    "\n",
    "chunker = HybridChunker(\n",
    "    tokenizer=\"BAAI/bge-m3\",\n",
    "    chunker_size=1000,\n",
    "    overlap=100\n",
    ")\n",
    "\n",
    "chunk_iter = chunker.chunk(doc)\n",
    "chunks = list(chunk_iter)\n"
   ]
  },
  {
   "cell_type": "code",
   "execution_count": 11,
   "id": "15f084b0",
   "metadata": {},
   "outputs": [
    {
     "name": "stdout",
     "output_type": "stream",
     "text": [
      "청크 갯수 : 26\n"
     ]
    }
   ],
   "source": [
    "print(f\"청크 갯수 : {len(chunks)}\")"
   ]
  },
  {
   "cell_type": "code",
   "execution_count": 12,
   "id": "82255015",
   "metadata": {},
   "outputs": [
    {
     "name": "stdout",
     "output_type": "stream",
     "text": [
      "text='상담전화국번없이' meta=DocMeta(schema_name='docling_core.transforms.chunker.DocMeta', version='1.0.0', doc_items=[DocItem(self_ref='#/texts/2', parent=RefItem(cref='#/body'), children=[], content_layer=<ContentLayer.BODY: 'body'>, label=<DocItemLabel.TEXT: 'text'>, prov=[ProvenanceItem(page_no=1, bbox=BoundingBox(l=145.802, t=555.481, r=196.677, b=550.297, coord_origin=<CoordOrigin.BOTTOMLEFT: 'BOTTOMLEFT'>), charspan=(0, 8))])], headings=None, captions=None, origin=DocumentOrigin(mimetype='application/pdf', binary_hash=15251392578798886029, filename='2025년 적용 최저임금 안내문.pdf', uri=None))\n"
     ]
    }
   ],
   "source": [
    "print(chunks[0])"
   ]
  },
  {
   "cell_type": "markdown",
   "id": "6d9dc2d5",
   "metadata": {},
   "source": [
    "## 1.4 PDF에서 테이블 인식"
   ]
  },
  {
   "cell_type": "code",
   "execution_count": 13,
   "id": "031f5ce5",
   "metadata": {},
   "outputs": [],
   "source": [
    "import time\n",
    "from pathlib import Path\n",
    "import pandas as pd\n",
    "\n",
    "from docling.document_converter import DocumentConverter\n",
    "\n",
    "def extract_and_export_tables(input_path, output_path):\n",
    "    # 출력 디렉토리가 없으면 생성\n",
    "    output_path.mkdir(parents=True, exist_ok=True)\n",
    "\n",
    "    # 시작 시간\n",
    "    start_time = time.time()\n",
    "\n",
    "    doc_converter = DocumentConverter()\n",
    "\n",
    "    # 문서 변환\n",
    "    conv_res = doc_converter.convert(input_path)\n",
    "    doc_filename = conv_res.input.file.stem\n",
    "\n",
    "    # 테이블 내보내기\n",
    "    for i, table in enumerate(conv_res.document.tables):\n",
    "        table_df = table.export_to_dataframe()\n",
    "        print(f\"# Table {i+1})\")\n",
    "        print(table_df.to_markdown)\n",
    "\n",
    "        # 표를 CSV 파일로 내보내기\n",
    "        csv_filename = output_path / f\"{doc_filename}_table_{i+1}.csv\"\n",
    "        print(f\"Exporting table to {csv_filename}\")\n",
    "        table_df.to_csv(csv_filename)\n",
    "\n",
    "        # 표를 html 파일로 내보내기\n",
    "        html_filename = output_path / f\"{doc_filename}_table_{i+1}.html\"\n",
    "        print(f\"Exporting table to {html_filename}\")\n",
    "        table_df.to_html(html_filename)\n",
    "    \n",
    "    # 처리 시간 계산\n",
    "    elapsed_time = time.time() - start_time\n",
    "    print(f\"처리 시간: {elapsed_time:.2f}초\")\n",
    "\n",
    "    # 테이블 추출 결과 확인\n",
    "    table_count = len(conv_res.document.tables)\n",
    "    print(f\"추출된 테이블 수: {table_count}개\")\n",
    "\n",
    "    return table_count"
   ]
  },
  {
   "cell_type": "code",
   "execution_count": 14,
   "id": "29624640-0f4f-44e2-8f9b-b79a20898b6f",
   "metadata": {},
   "outputs": [
    {
     "name": "stdout",
     "output_type": "stream",
     "text": [
      "# Table 1)\n",
      "<bound method DataFrame.to_markdown of            0             1       2             3\n",
      "0  서울지방고용노동청  02)2231-0009  서울남부지청  02)2639-2100\n",
      "1     서울강남지청   02)584-0009  서울북부지청   02)950-9880\n",
      "2     서울동부지청   02)403-0009  서울관악지청  02)3281-0009\n",
      "3     서울서부지청   02)713-0009                      >\n",
      "Exporting table to output/2025년 적용 최저임금 안내문_table_1.csv\n",
      "Exporting table to output/2025년 적용 최저임금 안내문_table_1.html\n",
      "# Table 2)\n",
      "<bound method DataFrame.to_markdown of            0             1      2             3\n",
      "0  중부지방고용노동청  032)460-4545   안산지청  031)412-1992\n",
      "1     인천북부지청  032)540-7910   평택지청  031)646-1114\n",
      "2       부천지청  032)714-8700   강원지청  033)269-3551\n",
      "3      의정부지청  031)877-0009   강릉지청  033)650-2500\n",
      "4       고양지청  031)931-2800   원주지청  033)769-0800\n",
      "5       경기지청  031)259-0204   태백지청  033)552-0009\n",
      "6       성남지청  031)788-1505  영월출장소  033)374-0009\n",
      "7       안양지청  031)463-7300                     >\n",
      "Exporting table to output/2025년 적용 최저임금 안내문_table_2.csv\n",
      "Exporting table to output/2025년 적용 최저임금 안내문_table_2.html\n",
      "# Table 3)\n",
      "<bound method DataFrame.to_markdown of            0             1     2             3\n",
      "0  부산지방고용노동청  051)853-0009  울산지청  052)272-0009\n",
      "1     부산동부지청  051)559-6688  양산지청  055)387-0009\n",
      "2     부산북부지청  051)309-1500  진주지청  055)752-0009\n",
      "3       창원지청  055)239-6500  통영지청  055)650-1951>\n",
      "Exporting table to output/2025년 적용 최저임금 안내문_table_3.csv\n",
      "Exporting table to output/2025년 적용 최저임금 안내문_table_3.html\n",
      "# Table 4)\n",
      "<bound method DataFrame.to_markdown of            0             1     2             3\n",
      "0  대구지방고용노동청  053)667-6200  구미지청  054)450-3500\n",
      "1     대구서부지청  053)605-9000  영주지청  054)639-1111\n",
      "2       포항지청  054)271-6700  안동지청  054)851-8000>\n",
      "Exporting table to output/2025년 적용 최저임금 안내문_table_4.csv\n",
      "Exporting table to output/2025년 적용 최저임금 안내문_table_4.html\n",
      "# Table 5)\n",
      "<bound method DataFrame.to_markdown of                           0                          1     2             3\n",
      "0  광주지방고용노동청 ( 제주근로개선지도센터 )  062)975-6200 064)728-7100  군산지청  063)452-0009\n",
      "1                      전주지청               063)240-3400  목포지청  061)280-0100\n",
      "2                      익산지청               063)839-0009  여수지청  061)650-0108>\n",
      "Exporting table to output/2025년 적용 최저임금 안내문_table_5.csv\n",
      "Exporting table to output/2025년 적용 최저임금 안내문_table_5.html\n",
      "# Table 6)\n",
      "<bound method DataFrame.to_markdown of            0             1      2             3\n",
      "0  대전지방고용노동청  042)480-6290   충주지청  043)840-4000\n",
      "1       청주지청  043)299-1114   보령지청  041)931-6640\n",
      "2       천안지청  041)560-2800  서산출장소  041)661-5630>\n",
      "Exporting table to output/2025년 적용 최저임금 안내문_table_6.csv\n",
      "Exporting table to output/2025년 적용 최저임금 안내문_table_6.html\n",
      "처리 시간: 6.28초\n",
      "추출된 테이블 수: 6개\n",
      "추출된 테이블 수: 6개\n"
     ]
    }
   ],
   "source": [
    "# 테이블 추출\n",
    "output_path = Path(\"output\")\n",
    "\n",
    "try:\n",
    "    table_count = extract_and_export_tables(pdf_file, output_path)\n",
    "    print(f\"추출된 테이블 수: {table_count}개\")\n",
    "except Exception as e:\n",
    "    print(f\"테이블 추출 실패: {e}\")"
   ]
  },
  {
   "cell_type": "markdown",
   "id": "ffeee227-4bd3-43d6-bdf0-ef73f3638cef",
   "metadata": {},
   "source": [
    "#"
   ]
  },
  {
   "cell_type": "markdown",
   "id": "1a65ad2e",
   "metadata": {},
   "source": [
    "# 2. RAG 파이프라인 구축"
   ]
  },
  {
   "cell_type": "markdown",
   "id": "be5397a5",
   "metadata": {},
   "source": [
    "### 2.1 Docker 설치\n",
    "- Windows : https://docs.docker.com/desktop/setup/install/windows-install/   \n",
    "- macOS : https://docs.docker.com/desktop/setup/install/mac-install/  \n",
    "- Linux : https://docs.docker.com/desktop/setup/install/linux/  "
   ]
  },
  {
   "attachments": {
    "8923a23d-1a5f-49c6-bd8b-e82b20e6c7ab.png": {
     "image/png": "[encoded data removed]"
    }
   },
   "cell_type": "markdown",
   "id": "b2629aec",
   "metadata": {},
   "source": [
    "### 2.2 Milvus(벡터 데이터베이스) 설치\n",
    "- Windows : https://milvus.io/docs/ko/install_standalone-windows.md   \n",
    "- Linux, macOS : https://milvus.io/docs/ko/install_standalone-docker.md  \n",
    "        curl -sfL https://raw.githubusercontent.com/milvus-io/milvus/master/scripts/standalone_embed.sh -o standalone_embed.sh\n",
    "\n",
    "![image.png](attachment:8923a23d-1a5f-49c6-bd8b-e82b20e6c7ab.png)\n",
    "\n",
    "\n",
    "#### WebUI : http://127.0.0.1:9091/webui/\n",
    "\n",
    "#### Milvus 컨테이너 시작\n",
    "bash standalone_embed.sh start\n",
    "\n",
    "#### Milvus 컨테이너 중지\n",
    "bash standalone_embed.sh stop\n",
    "\n",
    "#### Milvus 컨테이너 삭제\n",
    "bash standalone_embed.sh delete"
   ]
  },
  {
   "cell_type": "markdown",
   "id": "0488fd31",
   "metadata": {},
   "source": [
    "#### 벡터 데이터베이스 사용"
   ]
  },
  {
   "cell_type": "code",
   "execution_count": 15,
   "id": "b19b9c17",
   "metadata": {},
   "outputs": [],
   "source": [
    "# from pymilvus import MilvusClient\n",
    "# from pymilvus import connections, db\n",
    "\n",
    "# # 벡터 데이터베이스 생성\n",
    "# client = MilvusClient(\"milvus_demo.db\")\n",
    "\n",
    "# # 컬렉션 만들기\n",
    "# if client.has_collection(collection_name=\"demo_collection\"):\n",
    "#     client.drop_collection(collection_name=\"demo_collection\")\n",
    "#     client.create_collection(collection_name=\"demo_collection\", dimension=768)\n",
    "\n",
    "# conn = connections.connect(host=\"127.0.0.1\", port=19530)"
   ]
  },
  {
   "cell_type": "markdown",
   "id": "ed9e950e-29b9-468c-a531-62f1ab6e6eab",
   "metadata": {},
   "source": [
    "\n",
    "## 2.3 Ollama(오픈소스LLM 로컬 실행도구) 설치 \n",
    "https://ollama.com/download/"
   ]
  },
  {
   "cell_type": "markdown",
   "id": "81f9ebd0-f7a8-4ddc-862c-a0e151b5e82a",
   "metadata": {},
   "source": [
    "## 2.4 Gemma3(sLLM) 실행\n",
    "ollama run gemma3"
   ]
  },
  {
   "cell_type": "markdown",
   "id": "6f3fd105-70e6-43cb-b264-e6010e224f02",
   "metadata": {},
   "source": [
    "## 2.5 Observability & Tracing 설정\n",
    "- https://langfuse.com/docs/integrations/langchain/tracing"
   ]
  },
  {
   "cell_type": "code",
   "execution_count": 16,
   "id": "6903bed6-0d2f-4c1f-bb4c-6f228a5f31fb",
   "metadata": {},
   "outputs": [],
   "source": [
    "import os\n",
    "\n",
    "# Get keys for your project from the project settings page\n",
    "# https://cloud.langfuse.com\n",
    "os.environ[\"LANGFUSE_SECRET_KEY\"] = \"sk-lf-2f27133e-a88e-489e-a66f-8ec15237515b\"\n",
    "os.environ[\"LANGFUSE_PUBLIC_KEY\"] = \"pk-lf-662fd666-39c7-491b-8223-d02b7380fc4c\"\n",
    "os.environ[\"LANGFUSE_HOST\"] = \"https://us.cloud.langfuse.com\" "
   ]
  },
  {
   "cell_type": "code",
   "execution_count": 17,
   "id": "36a5eacf-87ab-4b72-99d7-8041e8f3be85",
   "metadata": {},
   "outputs": [],
   "source": [
    "from langfuse import Langfuse\n",
    "from langfuse.callback import CallbackHandler\n",
    "\n",
    "langfuse_handler = CallbackHandler()\n",
    "langfuse = Langfuse()\n",
    "\n",
    "# 정상 작동 확인\n",
    "assert langfuse_handler.auth_check()\n",
    "assert langfuse.auth_check()"
   ]
  },
  {
   "cell_type": "markdown",
   "id": "32c0b8d1",
   "metadata": {},
   "source": [
    "## 2.6 RAG 파이프라인 개발"
   ]
  },
  {
   "cell_type": "markdown",
   "id": "9a65d5dd-d5d2-45de-973c-0a31238b3520",
   "metadata": {},
   "source": [
    "### 프롬프트 설정"
   ]
  },
  {
   "cell_type": "code",
   "execution_count": 18,
   "id": "8d5d0e4e",
   "metadata": {},
   "outputs": [
    {
     "name": "stderr",
     "output_type": "stream",
     "text": [
      "python-dotenv could not parse statement starting at line 5\n"
     ]
    }
   ],
   "source": [
    "import os\n",
    "from pathlib import Path\n",
    "from tempfile import mkdtemp\n",
    "from pprint import pprint\n",
    "from dotenv import load_dotenv\n",
    "from langchain_core.prompts import PromptTemplate\n",
    "from langchain_docling.loader import ExportType\n",
    "\n",
    "load_dotenv()\n",
    "os.environ[\"TOKENIZERS_PARALLELISM\"] = \"false\"\n",
    "\n",
    "# 문서 및 사용 모델 설정\n",
    "pdf_file = \"2025년 적용 최저임금 안내문.pdf\"\n",
    "FILE_PATH = [pdf_file]\n",
    "EMBED_MODEL_ID = \"Alibaba-NLP/gte-multilingual-base\" \n",
    "RERANKER_MODEL_ID = \"Alibaba-NLP/gte-multilingual-reranker-base\"  \n",
    "EXPORT_TYPE = ExportType.DOC_CHUNKS  \n",
    "\n",
    "# 프롬프트 \n",
    "RAG_PROMPT_TEMPLATE = \"\"\"\n",
    "Context information is below.\n",
    "\n",
    "{context}\n",
    "\n",
    "Given the context information and not prior knowledge, answer the query.\n",
    "Query: {input}\n",
    "Answer (in 한국어):\n",
    "\"\"\"\n",
    "\n",
    "RAG_PROMPT = PromptTemplate.from_template(RAG_PROMPT_TEMPLATE)"
   ]
  },
  {
   "cell_type": "markdown",
   "id": "dd88710d",
   "metadata": {},
   "source": [
    "### 문서 로딩 및 청킹\n",
    "- Docling을 사용하여 문서를 로드하고 청킹 과정을 수행함  \n",
    "- DoclingLoader는 두 가지 모드 지원:  \n",
    "    -  ExportType.MARKDOWN: 각 입력 문서를 하나의 LangChain 문서로 변환   \n",
    "    - ExportType.DOC_CHUNKS: 각 문서를 청크로 분할하여 개별 LangChain 문서로 변환 (기본값)\n"
   ]
  },
  {
   "cell_type": "code",
   "execution_count": 19,
   "id": "4c6c5ab2",
   "metadata": {},
   "outputs": [
    {
     "name": "stdout",
     "output_type": "stream",
     "text": [
      "26 개 문서 로드\n",
      "page_content='상담전화국번없이' metadata={'source': '2025년 적용 최저임금 안내문.pdf', 'dl_meta': {'schema_name': 'docling_core.transforms.chunker.DocMeta', 'version': '1.0.0', 'doc_items': [{'self_ref': '#/texts/2', 'parent': {'$ref': '#/body'}, 'children': [], 'content_layer': 'body', 'label': 'text', 'prov': [{'page_no': 1, 'bbox': {'l': 145.802, 't': 555.481, 'r': 196.677, 'b': 550.297, 'coord_origin': 'BOTTOMLEFT'}, 'charspan': [0, 8]}]}], 'origin': {'mimetype': 'application/pdf', 'binary_hash': 15251392578798886029, 'filename': '2025년 적용 최저임금 안내문.pdf'}}}\n"
     ]
    }
   ],
   "source": [
    "from langchain_docling import DoclingLoader\n",
    "from docling.chunking import HybridChunker\n",
    "\n",
    "\n",
    "loader = DoclingLoader(\n",
    "    file_path=FILE_PATH,  \n",
    "    export_type=ExportType.DOC_CHUNKS,  \n",
    "    chunker=HybridChunker(tokenizer=EMBED_MODEL_ID)\n",
    ")\n",
    "\n",
    "# 문서 로드\n",
    "docs = loader.load()\n",
    "\n",
    "print(f\"{len(docs)} 개 문서 로드\")\n",
    "\n",
    "# 청크 확인\n",
    "print(docs[0])"
   ]
  },
  {
   "cell_type": "code",
   "execution_count": 20,
   "id": "46faca35",
   "metadata": {},
   "outputs": [
    {
     "name": "stdout",
     "output_type": "stream",
     "text": [
      "서울지방고용노동청\n",
      "서울지방고용노동청, 1 = 02)2231-0009. 서울지방고용노동청, 2 = 서울남부지청. 서울지방고용노동청, 3 = 02)2639-2100. 서울강남지청, 1 = 02)584-0009. 서울강남지청, 2 = 서울북부지청. 서울강남지청, 3 = 02)950-9880. 서울동부지청, 1 = 02)403-0009. 서울동부지청, 2 = 서울관악지청. 서울동부지청, 3 = 02)3281-0009. 서울서부지청, 1 = 02)713-0009. 서울서부지청, 2 = . 서울서부지청, 3 = \n"
     ]
    }
   ],
   "source": [
    "print(docs[1].page_content)"
   ]
  },
  {
   "cell_type": "code",
   "execution_count": 21,
   "id": "77e664d8",
   "metadata": {},
   "outputs": [
    {
     "name": "stdout",
     "output_type": "stream",
     "text": [
      "{'source': '2025년 적용 최저임금 안내문.pdf', 'dl_meta': {'schema_name': 'docling_core.transforms.chunker.DocMeta', 'version': '1.0.0', 'doc_items': [{'self_ref': '#/tables/0', 'parent': {'$ref': '#/body'}, 'children': [], 'content_layer': 'body', 'label': 'table', 'prov': [{'page_no': 1, 'bbox': {'l': 29.969223022460938, 't': 534.1775093078613, 'r': 238.0137939453125, 'b': 464.79359436035156, 'coord_origin': 'BOTTOMLEFT'}, 'charspan': [0, 0]}]}], 'headings': ['서울지방고용노동청'], 'origin': {'mimetype': 'application/pdf', 'binary_hash': 15251392578798886029, 'filename': '2025년 적용 최저임금 안내문.pdf'}}}\n"
     ]
    }
   ],
   "source": [
    "print(docs[1].metadata)"
   ]
  },
  {
   "cell_type": "markdown",
   "id": "bb00dcee-7610-453c-8d45-05fba2e56134",
   "metadata": {},
   "source": [
    "### 벡터 저장소 경로 및 검색 설정"
   ]
  },
  {
   "cell_type": "code",
   "execution_count": 22,
   "id": "4d41e3e9-fe5c-42f4-bca2-474ef268850f",
   "metadata": {},
   "outputs": [],
   "source": [
    "MILVUS_URI = \"./milvus_example.db\"  # 로컬 벡터 저장소 사용\n",
    "# MILVUS_URI = \"http://localhost:19530\"  # Docker Mlvus 서버 사용"
   ]
  },
  {
   "cell_type": "markdown",
   "id": "ab585c0d",
   "metadata": {},
   "source": [
    "### 임베딩벡터 생성 및 저장\n",
    "- Hugging Face 모델을 사용하여 임베딩벡터 생성     \n",
    "- 생성한 임베딩벡터를 Milvus 벡터저장소에 저장"
   ]
  },
  {
   "cell_type": "code",
   "execution_count": 23,
   "id": "1e0966cc",
   "metadata": {},
   "outputs": [
    {
     "name": "stderr",
     "output_type": "stream",
     "text": [
      "python-dotenv could not parse statement starting at line 5\n",
      "Some weights of the model checkpoint at Alibaba-NLP/gte-multilingual-base were not used when initializing NewModel: ['classifier.bias', 'classifier.weight']\n",
      "- This IS expected if you are initializing NewModel from the checkpoint of a model trained on another task or with another architecture (e.g. initializing a BertForSequenceClassification model from a BertForPreTraining model).\n",
      "- This IS NOT expected if you are initializing NewModel from the checkpoint of a model that you expect to be exactly identical (initializing a BertForSequenceClassification model from a BertForSequenceClassification model).\n"
     ]
    }
   ],
   "source": [
    "from langchain_huggingface import HuggingFaceEmbeddings\n",
    "from langchain_milvus import Milvus\n",
    "\n",
    "\n",
    "embedding = HuggingFaceEmbeddings(model_name=EMBED_MODEL_ID, model_kwargs={\"trust_remote_code\": True})\n",
    "\n",
    "# Milvus 벡터 저장소 설정\n",
    "vectorstore = Milvus.from_documents(\n",
    "    documents=docs,  \n",
    "    embedding=embedding, \n",
    "    collection_name=\"docling\", \n",
    "    connection_args={\n",
    "        \"uri\": MILVUS_URI, \n",
    "        \"db_name\": \"default\"  \n",
    "    },\n",
    "    index_params={\n",
    "        \"index_type\": \"FLAT\", \n",
    "        \"metric_type\": \"COSINE\",  \n",
    "    },\n",
    "    drop_old=True,  # 기존 컬렉션 삭제\n",
    ")"
   ]
  },
  {
   "cell_type": "markdown",
   "id": "0a27b356",
   "metadata": {},
   "source": [
    "### 벡터데이터 베이스 확인\n",
    "- WebUI : http://127.0.0.1:9091/webui/"
   ]
  },
  {
   "cell_type": "code",
   "execution_count": 24,
   "id": "e39dd156",
   "metadata": {},
   "outputs": [],
   "source": [
    "from langchain_huggingface import HuggingFaceEndpoint\n",
    "from langchain.retrievers import ContextualCompressionRetriever\n",
    "from langchain.retrievers.document_compressors import CrossEncoderReranker\n",
    "from langchain_community.cross_encoders import HuggingFaceCrossEncoder\n",
    "\n",
    "# 검색기 초기화\n",
    "base_retriever = vectorstore.as_retriever(search_kwargs={\"k\": 5})\n",
    "\n",
    "# CrossEncoderReranker 모델을 사용한 re-ranker 초기화 (top n: 3)\n",
    "re_ranker = CrossEncoderReranker(\n",
    "    model=HuggingFaceCrossEncoder(model_name=RERANKER_MODEL_ID, model_kwargs={\"trust_remote_code\": True}),\n",
    "    top_n=3\n",
    ")\n",
    "\n",
    "# CrossEncoderReranker를 사용한 retriever 초기화\n",
    "cross_encoder_reranker_retriever = ContextualCompressionRetriever(\n",
    "    base_compressor=re_ranker,\n",
    "    base_retriever=base_retriever\n",
    ")"
   ]
  },
  {
   "cell_type": "code",
   "execution_count": 25,
   "id": "7ef6dc81",
   "metadata": {},
   "outputs": [],
   "source": [
    "retrieved_docs = cross_encoder_reranker_retriever.invoke(\"서울 강남지청 전화번호 알려줘\")"
   ]
  },
  {
   "cell_type": "code",
   "execution_count": 26,
   "id": "41cc5a3b",
   "metadata": {},
   "outputs": [
    {
     "name": "stdout",
     "output_type": "stream",
     "text": [
      "서울지방고용노동청\n",
      "서울지방고용노동청, 1 = 02)2231-0009. 서울지방고용노동청, 2 = 서울남부지청. 서울지방고용노동청, 3 = 02)2639-2100. 서울강남지청, 1 = 02)584-0009. 서울강남지청, 2 = 서울북부지청. 서울강남지청, 3 = 02)950-9880. 서울동부지청, 1 = 02)403-0009. 서울동부지청, 2 = 서울관악지청. 서울동부지청, 3 = 02)3281-0009. 서울서부지청, 1 = 02)713-0009. 서울서부지청, 2 = . 서울서부지청, 3 = \n",
      "{'dl_meta': {'schema_name': 'docling_core.transforms.chunker.DocMeta', 'version': '1.0.0', 'doc_items': [{'self_ref': '#/tables/0', 'parent': {'$ref': '#/body'}, 'children': [], 'content_layer': 'body', 'label': 'table', 'prov': [{'page_no': 1, 'bbox': {'l': 29.969223022460938, 't': 534.1775093078613, 'r': 238.0137939453125, 'b': 464.79359436035156, 'coord_origin': 'BOTTOMLEFT'}, 'charspan': [0, 0]}]}], 'headings': ['서울지방고용노동청'], 'origin': {'mimetype': 'application/pdf', 'binary_hash': 15251392578798886029, 'filename': '2025년 적용 최저임금 안내문.pdf'}}, 'pk': 457248713054093313, 'source': '2025년 적용 최저임금 안내문.pdf'}\n",
      "----------------------------------------------------------------------------------------------------\n",
      "상담전화국번없이\n",
      "{'dl_meta': {'schema_name': 'docling_core.transforms.chunker.DocMeta', 'version': '1.0.0', 'doc_items': [{'self_ref': '#/texts/2', 'parent': {'$ref': '#/body'}, 'children': [], 'content_layer': 'body', 'label': 'text', 'prov': [{'page_no': 1, 'bbox': {'l': 145.802, 't': 555.481, 'r': 196.677, 'b': 550.297, 'coord_origin': 'BOTTOMLEFT'}, 'charspan': [0, 8]}]}], 'origin': {'mimetype': 'application/pdf', 'binary_hash': 15251392578798886029, 'filename': '2025년 적용 최저임금 안내문.pdf'}}, 'pk': 457248713054093312, 'source': '2025년 적용 최저임금 안내문.pdf'}\n",
      "----------------------------------------------------------------------------------------------------\n",
      "대구지방고용노동청\n",
      "대구지방고용노동청, 1 = 053)667-6200. 대구지방고용노동청, 2 = 구미지청. 대구지방고용노동청, 3 = 054)450-3500. 대구서부지청, 1 = 053)605-9000. 대구서부지청, 2 = 영주지청. 대구서부지청, 3 = 054)639-1111. 포항지청, 1 = 054)271-6700. 포항지청, 2 = 안동지청. 포항지청, 3 = 054)851-8000\n",
      "{'dl_meta': {'schema_name': 'docling_core.transforms.chunker.DocMeta', 'version': '1.0.0', 'doc_items': [{'self_ref': '#/tables/3', 'parent': {'$ref': '#/body'}, 'children': [], 'content_layer': 'body', 'label': 'table', 'prov': [{'page_no': 1, 'bbox': {'l': 30.958168029785156, 't': 218.58929443359375, 'r': 238.2996368408203, 'b': 174.60205078125, 'coord_origin': 'BOTTOMLEFT'}, 'charspan': [0, 0]}]}], 'headings': ['대구지방고용노동청'], 'origin': {'mimetype': 'application/pdf', 'binary_hash': 15251392578798886029, 'filename': '2025년 적용 최저임금 안내문.pdf'}}, 'pk': 457248713054093316, 'source': '2025년 적용 최저임금 안내문.pdf'}\n",
      "----------------------------------------------------------------------------------------------------\n"
     ]
    }
   ],
   "source": [
    "for doc in retrieved_docs:\n",
    "    print(doc.page_content)\n",
    "    print(doc.metadata)\n",
    "    print(\"-\"*100)"
   ]
  },
  {
   "cell_type": "markdown",
   "id": "bd04025b-de8f-45dc-8752-f9c6279ada74",
   "metadata": {},
   "source": [
    "## 2.7 RAG 테스트"
   ]
  },
  {
   "cell_type": "code",
   "execution_count": 27,
   "id": "0bd5fa70",
   "metadata": {},
   "outputs": [
    {
     "data": {
      "text/plain": [
       "AIMessage(content='서울 강남경찰서 전화번호는 다음과 같습니다.\\n\\n*   **전화번호:** 02-729-6111\\n*   **주소:** 서울특별시 강남구 테헤란로 88\\n\\n**참고:**\\n\\n*   강남경찰서는 강남구 전체를 관할합니다.\\n*   긴급 상황 발생 시 112로 연락주세요.', additional_kwargs={}, response_metadata={'model': 'gemma3', 'created_at': '2025-04-10T06:10:24.699059Z', 'done': True, 'done_reason': 'stop', 'total_duration': 1948018666, 'load_duration': 55455750, 'prompt_eval_count': 18, 'prompt_eval_duration': 469926042, 'eval_count': 91, 'eval_duration': 1421872833, 'message': Message(role='assistant', content='', images=None, tool_calls=None), 'model_name': 'gemma3'}, id='run-05817d32-d254-4a35-ab10-56ad70d44069-0', usage_metadata={'input_tokens': 18, 'output_tokens': 91, 'total_tokens': 109})"
      ]
     },
     "execution_count": 27,
     "metadata": {},
     "output_type": "execute_result"
    }
   ],
   "source": [
    "from langchain_ollama import ChatOllama\n",
    "\n",
    "llm = ChatOllama(model=\"gemma3\", temperature=0.0)\n",
    "llm.invoke(\"서울 강남지청 전화번호 알려줘\")"
   ]
  },
  {
   "cell_type": "code",
   "execution_count": 28,
   "id": "f62b434b",
   "metadata": {},
   "outputs": [],
   "source": [
    "from langchain_core.runnables import RunnablePassthrough\n",
    "\n",
    "prompt = PromptTemplate.from_template(RAG_PROMPT_TEMPLATE)\n",
    "\n",
    "# 문서 포맷팅 함수\n",
    "def format_docs(docs):\n",
    "    \"\"\"문서 출처를 포함한 문서 포맷팅\"\"\"\n",
    "    return \"\\n\\n\".join([\n",
    "        f\"Source: {doc.metadata.get('source', 'Unknown')}\\n\\n\"\n",
    "        f\"{doc.page_content}\\n\\n\"\n",
    "        for doc in docs\n",
    "    ])\n",
    "\n",
    "# RAG 체인 생성 (context를 함께 전달하여 생성)\n",
    "rag_chain = (\n",
    "    {\n",
    "        \"source\": cross_encoder_reranker_retriever,\n",
    "        \"input\": RunnablePassthrough()\n",
    "    } | RunnablePassthrough.assign(\n",
    "        answer={\"context\": lambda x: format_docs(x[\"source\"]), \"input\": lambda x: x[\"input\"] } | prompt | llm\n",
    "    )\n",
    ")"
   ]
  },
  {
   "cell_type": "code",
   "execution_count": 29,
   "id": "f1f0f6a5",
   "metadata": {},
   "outputs": [
    {
     "name": "stdout",
     "output_type": "stream",
     "text": [
      "{'source': [Document(metadata={'dl_meta': {'schema_name': 'docling_core.transforms.chunker.DocMeta', 'version': '1.0.0', 'doc_items': [{'self_ref': '#/tables/0', 'parent': {'$ref': '#/body'}, 'children': [], 'content_layer': 'body', 'label': 'table', 'prov': [{'page_no': 1, 'bbox': {'l': 29.969223022460938, 't': 534.1775093078613, 'r': 238.0137939453125, 'b': 464.79359436035156, 'coord_origin': 'BOTTOMLEFT'}, 'charspan': [0, 0]}]}], 'headings': ['서울지방고용노동청'], 'origin': {'mimetype': 'application/pdf', 'binary_hash': 15251392578798886029, 'filename': '2025년 적용 최저임금 안내문.pdf'}}, 'pk': 457248713054093313, 'source': '2025년 적용 최저임금 안내문.pdf'}, page_content='서울지방고용노동청\\n서울지방고용노동청, 1 = 02)2231-0009. 서울지방고용노동청, 2 = 서울남부지청. 서울지방고용노동청, 3 = 02)2639-2100. 서울강남지청, 1 = 02)584-0009. 서울강남지청, 2 = 서울북부지청. 서울강남지청, 3 = 02)950-9880. 서울동부지청, 1 = 02)403-0009. 서울동부지청, 2 = 서울관악지청. 서울동부지청, 3 = 02)3281-0009. 서울서부지청, 1 = 02)713-0009. 서울서부지청, 2 = . 서울서부지청, 3 = '), Document(metadata={'dl_meta': {'schema_name': 'docling_core.transforms.chunker.DocMeta', 'version': '1.0.0', 'doc_items': [{'self_ref': '#/texts/2', 'parent': {'$ref': '#/body'}, 'children': [], 'content_layer': 'body', 'label': 'text', 'prov': [{'page_no': 1, 'bbox': {'l': 145.802, 't': 555.481, 'r': 196.677, 'b': 550.297, 'coord_origin': 'BOTTOMLEFT'}, 'charspan': [0, 8]}]}], 'origin': {'mimetype': 'application/pdf', 'binary_hash': 15251392578798886029, 'filename': '2025년 적용 최저임금 안내문.pdf'}}, 'pk': 457248713054093312, 'source': '2025년 적용 최저임금 안내문.pdf'}, page_content='상담전화국번없이'), Document(metadata={'dl_meta': {'schema_name': 'docling_core.transforms.chunker.DocMeta', 'version': '1.0.0', 'doc_items': [{'self_ref': '#/tables/3', 'parent': {'$ref': '#/body'}, 'children': [], 'content_layer': 'body', 'label': 'table', 'prov': [{'page_no': 1, 'bbox': {'l': 30.958168029785156, 't': 218.58929443359375, 'r': 238.2996368408203, 'b': 174.60205078125, 'coord_origin': 'BOTTOMLEFT'}, 'charspan': [0, 0]}]}], 'headings': ['대구지방고용노동청'], 'origin': {'mimetype': 'application/pdf', 'binary_hash': 15251392578798886029, 'filename': '2025년 적용 최저임금 안내문.pdf'}}, 'pk': 457248713054093316, 'source': '2025년 적용 최저임금 안내문.pdf'}, page_content='대구지방고용노동청\\n대구지방고용노동청, 1 = 053)667-6200. 대구지방고용노동청, 2 = 구미지청. 대구지방고용노동청, 3 = 054)450-3500. 대구서부지청, 1 = 053)605-9000. 대구서부지청, 2 = 영주지청. 대구서부지청, 3 = 054)639-1111. 포항지청, 1 = 054)271-6700. 포항지청, 2 = 안동지청. 포항지청, 3 = 054)851-8000')], 'input': '서울 강남지청 전화번호 알려줘', 'answer': AIMessage(content='서울강남지청, 1 = 02)584-0009', additional_kwargs={}, response_metadata={'model': 'gemma3', 'created_at': '2025-04-10T06:10:27.720231Z', 'done': True, 'done_reason': 'stop', 'total_duration': 1113410791, 'load_duration': 53568791, 'prompt_eval_count': 553, 'prompt_eval_duration': 724866958, 'eval_count': 22, 'eval_duration': 333366625, 'message': Message(role='assistant', content='', images=None, tool_calls=None), 'model_name': 'gemma3'}, id='run-42174d0e-c29f-4987-aa5f-ebb5d1de3d08-0', usage_metadata={'input_tokens': 553, 'output_tokens': 22, 'total_tokens': 575})}\n"
     ]
    }
   ],
   "source": [
    "# 질문 \n",
    "question = \"서울 강남지청 전화번호 알려줘\"\n",
    "response = rag_chain.invoke(\n",
    "    question,\n",
    "    config={\"callbacks\":[langfuse_handler]}\n",
    ")\n",
    "print(response)"
   ]
  },
  {
   "cell_type": "code",
   "execution_count": 30,
   "id": "91cb26c3",
   "metadata": {},
   "outputs": [
    {
     "name": "stdout",
     "output_type": "stream",
     "text": [
      "[Document(metadata={'dl_meta': {'schema_name': 'docling_core.transforms.chunker.DocMeta', 'version': '1.0.0', 'doc_items': [{'self_ref': '#/tables/0', 'parent': {'$ref': '#/body'}, 'children': [], 'content_layer': 'body', 'label': 'table', 'prov': [{'page_no': 1, 'bbox': {'l': 29.969223022460938, 't': 534.1775093078613, 'r': 238.0137939453125, 'b': 464.79359436035156, 'coord_origin': 'BOTTOMLEFT'}, 'charspan': [0, 0]}]}], 'headings': ['서울지방고용노동청'], 'origin': {'mimetype': 'application/pdf', 'binary_hash': 15251392578798886029, 'filename': '2025년 적용 최저임금 안내문.pdf'}}, 'pk': 457248713054093313, 'source': '2025년 적용 최저임금 안내문.pdf'}, page_content='서울지방고용노동청\\n서울지방고용노동청, 1 = 02)2231-0009. 서울지방고용노동청, 2 = 서울남부지청. 서울지방고용노동청, 3 = 02)2639-2100. 서울강남지청, 1 = 02)584-0009. 서울강남지청, 2 = 서울북부지청. 서울강남지청, 3 = 02)950-9880. 서울동부지청, 1 = 02)403-0009. 서울동부지청, 2 = 서울관악지청. 서울동부지청, 3 = 02)3281-0009. 서울서부지청, 1 = 02)713-0009. 서울서부지청, 2 = . 서울서부지청, 3 = '), Document(metadata={'dl_meta': {'schema_name': 'docling_core.transforms.chunker.DocMeta', 'version': '1.0.0', 'doc_items': [{'self_ref': '#/texts/2', 'parent': {'$ref': '#/body'}, 'children': [], 'content_layer': 'body', 'label': 'text', 'prov': [{'page_no': 1, 'bbox': {'l': 145.802, 't': 555.481, 'r': 196.677, 'b': 550.297, 'coord_origin': 'BOTTOMLEFT'}, 'charspan': [0, 8]}]}], 'origin': {'mimetype': 'application/pdf', 'binary_hash': 15251392578798886029, 'filename': '2025년 적용 최저임금 안내문.pdf'}}, 'pk': 457248713054093312, 'source': '2025년 적용 최저임금 안내문.pdf'}, page_content='상담전화국번없이'), Document(metadata={'dl_meta': {'schema_name': 'docling_core.transforms.chunker.DocMeta', 'version': '1.0.0', 'doc_items': [{'self_ref': '#/tables/3', 'parent': {'$ref': '#/body'}, 'children': [], 'content_layer': 'body', 'label': 'table', 'prov': [{'page_no': 1, 'bbox': {'l': 30.958168029785156, 't': 218.58929443359375, 'r': 238.2996368408203, 'b': 174.60205078125, 'coord_origin': 'BOTTOMLEFT'}, 'charspan': [0, 0]}]}], 'headings': ['대구지방고용노동청'], 'origin': {'mimetype': 'application/pdf', 'binary_hash': 15251392578798886029, 'filename': '2025년 적용 최저임금 안내문.pdf'}}, 'pk': 457248713054093316, 'source': '2025년 적용 최저임금 안내문.pdf'}, page_content='대구지방고용노동청\\n대구지방고용노동청, 1 = 053)667-6200. 대구지방고용노동청, 2 = 구미지청. 대구지방고용노동청, 3 = 054)450-3500. 대구서부지청, 1 = 053)605-9000. 대구서부지청, 2 = 영주지청. 대구서부지청, 3 = 054)639-1111. 포항지청, 1 = 054)271-6700. 포항지청, 2 = 안동지청. 포항지청, 3 = 054)851-8000')]\n"
     ]
    }
   ],
   "source": [
    "print(response[\"source\"])   "
   ]
  },
  {
   "cell_type": "code",
   "execution_count": 31,
   "id": "9e96d113",
   "metadata": {},
   "outputs": [
    {
     "name": "stdout",
     "output_type": "stream",
     "text": [
      "서울강남지청, 1 = 02)584-0009\n"
     ]
    }
   ],
   "source": [
    "print(response[\"answer\"].content) "
   ]
  },
  {
   "cell_type": "code",
   "execution_count": 32,
   "id": "3489ec23",
   "metadata": {},
   "outputs": [
    {
     "name": "stdout",
     "output_type": "stream",
     "text": [
      "{'source': [Document(metadata={'dl_meta': {'schema_name': 'docling_core.transforms.chunker.DocMeta', 'version': '1.0.0', 'doc_items': [{'self_ref': '#/texts/59', 'parent': {'$ref': '#/body'}, 'children': [], 'content_layer': 'body', 'label': 'text', 'prov': [{'page_no': 2, 'bbox': {'l': 293.016, 't': 436.105, 'r': 505.626, 'b': 417.04, 'coord_origin': 'BOTTOMLEFT'}, 'charspan': [0, 69]}]}], 'headings': ['근로기준법상 근로자(정규직·비정규직, 파트타임, 아르바이트, 청소년 근로자, 외국인 근로자 등)에게는 모두 적용됩니다.'], 'origin': {'mimetype': 'application/pdf', 'binary_hash': 15251392578798886029, 'filename': '2025년 적용 최저임금 안내문.pdf'}}, 'pk': 457248713054093328, 'source': '2025년 적용 최저임금 안내문.pdf'}, page_content='근로기준법상 근로자(정규직·비정규직, 파트타임, 아르바이트, 청소년 근로자, 외국인 근로자 등)에게는 모두 적용됩니다.\\n다만, 정신 또는 신체장애로 근로능력이 현저히 낮아 고용노동부장관의 적용제외 인가를 받은 사람에 대하여는 적용되지 않습니다.'), Document(metadata={'dl_meta': {'schema_name': 'docling_core.transforms.chunker.DocMeta', 'version': '1.0.0', 'doc_items': [{'self_ref': '#/texts/62', 'parent': {'$ref': '#/body'}, 'children': [], 'content_layer': 'body', 'label': 'text', 'prov': [{'page_no': 2, 'bbox': {'l': 293.281, 't': 277.047, 'r': 518.194, 'b': 244.98400000000004, 'coord_origin': 'BOTTOMLEFT'}, 'charspan': [0, 87]}]}, {'self_ref': '#/texts/63', 'parent': {'$ref': '#/groups/1'}, 'children': [], 'content_layer': 'body', 'label': 'list_item', 'prov': [{'page_no': 2, 'bbox': {'l': 292.952, 't': 234.53200000000004, 'r': 466.104, 'b': 229.49199999999996, 'coord_origin': 'BOTTOMLEFT'}, 'charspan': [0, 34]}]}, {'self_ref': '#/texts/64', 'parent': {'$ref': '#/body'}, 'children': [], 'content_layer': 'body', 'label': 'text', 'prov': [{'page_no': 2, 'bbox': {'l': 301.17, 't': 191.36, 'r': 314.127, 'b': 173.24599999999998, 'coord_origin': 'BOTTOMLEFT'}, 'charspan': [0, 1]}]}], 'headings': ['1년 이상의 기간을 정하여 근로계약을 체결하고 수습 중에 있는  근로자로서  수습을  시작한  날부터  3개월  이내인 사람에 대하여는 최저임금액의 10%를 감액하여 지급할 수 있습니다.'], 'origin': {'mimetype': 'application/pdf', 'binary_hash': 15251392578798886029, 'filename': '2025년 적용 최저임금 안내문.pdf'}}, 'pk': 457248713054093329, 'source': '2025년 적용 최저임금 안내문.pdf'}, page_content='1년 이상의 기간을 정하여 근로계약을 체결하고 수습 중에 있는  근로자로서  수습을  시작한  날부터  3개월  이내인 사람에 대하여는 최저임금액의 10%를 감액하여 지급할 수 있습니다.\\n다만, 단순노무업무로 고용노동부장관이 정하여 고시한 직종에 종사  하는 근로자*에게는 수습여부·계약기간과 관계없이 최저임금액의 100%를 지급하여야 합니다.\\n* 한국표준직업분류상 대분류9(단순노무종사자)에 해당하는 사람\\nQ'), Document(metadata={'dl_meta': {'schema_name': 'docling_core.transforms.chunker.DocMeta', 'version': '1.0.0', 'doc_items': [{'self_ref': '#/texts/66', 'parent': {'$ref': '#/body'}, 'children': [], 'content_layer': 'body', 'label': 'text', 'prov': [{'page_no': 2, 'bbox': {'l': 292.57, 't': 153.66700000000003, 'r': 515.583, 'b': 134.60199999999998, 'coord_origin': 'BOTTOMLEFT'}, 'charspan': [0, 50]}]}, {'self_ref': '#/texts/67', 'parent': {'$ref': '#/groups/2'}, 'children': [], 'content_layer': 'body', 'label': 'list_item', 'prov': [{'page_no': 2, 'bbox': {'l': 298.446, 't': 125.40899999999999, 'r': 514.356, 'b': 108.84899999999999, 'coord_origin': 'BOTTOMLEFT'}, 'charspan': [0, 63]}]}, {'self_ref': '#/texts/68', 'parent': {'$ref': '#/groups/2'}, 'children': [], 'content_layer': 'body', 'label': 'list_item', 'prov': [{'page_no': 2, 'bbox': {'l': 292.362, 't': 96.44600000000003, 'r': 444.402, 'b': 90.37900000000002, 'coord_origin': 'BOTTOMLEFT'}, 'charspan': [0, 25]}]}, {'self_ref': '#/texts/69', 'parent': {'$ref': '#/groups/2'}, 'children': [], 'content_layer': 'body', 'label': 'list_item', 'prov': [{'page_no': 2, 'bbox': {'l': 298.282, 't': 78.26099999999997, 'r': 413.084, 'b': 72.70299999999997, 'coord_origin': 'BOTTOMLEFT'}, 'charspan': [0, 22]}]}, {'self_ref': '#/texts/70', 'parent': {'$ref': '#/groups/2'}, 'children': [], 'content_layer': 'body', 'label': 'list_item', 'prov': [{'page_no': 2, 'bbox': {'l': 298.289, 't': 64.48299999999995, 'r': 493.747, 'b': 58.924999999999955, 'coord_origin': 'BOTTOMLEFT'}, 'charspan': [0, 36]}]}, {'self_ref': '#/texts/71', 'parent': {'$ref': '#/body'}, 'children': [], 'content_layer': 'body', 'label': 'text', 'prov': [{'page_no': 2, 'bbox': {'l': 298.31, 't': 51.980999999999995, 'r': 518.425, 'b': 26.934999999999945, 'coord_origin': 'BOTTOMLEFT'}, 'charspan': [0, 109]}]}], 'headings': ['최저임금에 산입되는 임금과 산입되지않는 임금은 어떻게 되나요?'], 'origin': {'mimetype': 'application/pdf', 'binary_hash': 15251392578798886029, 'filename': '2025년 적용 최저임금 안내문.pdf'}}, 'pk': 457248713054093330, 'source': '2025년 적용 최저임금 안내문.pdf'}, page_content='최저임금에 산입되는 임금과 산입되지않는 임금은 어떻게 되나요?\\n최저임금에 산입되는 임금은 근로기준법상 임금으로서 매월 1회 이상 정기적으로 지급하는 임금\\n매월 지급하는 상여금 및 식비, 숙박비, 교통비 등 근로자의 생활보조 또는 복리후생을 위한 성질의 임금 전부 산입\\n다만, 아래의 임금은 최저임금에 산입되지 않음\\n통화 이외의 것(현물)으로 지급하는 임금\\n소정근로시간 또는 소정의 근로일에 대하여 지급하는 임금 외의 임금\\n연장근로 또는 휴일근로에 대한 임금 및 연장·야간 또는 휴일근로에 대한 가산임금, 연차 유급휴가 미사용수당, 법정 주휴일을 제외한 유급휴일에 대한 임금, 그 밖에 이에 준하는 것으로 인정되는 임금')], 'input': '최저임금 적용 제외 근로자는?', 'answer': AIMessage(content='정신 또는 신체장애로 근로능력이 현저히 낮아 고용노동부장관의 적용제외 인가를 받은 사람입니다.', additional_kwargs={}, response_metadata={'model': 'gemma3', 'created_at': '2025-04-10T06:10:31.281351Z', 'done': True, 'done_reason': 'stop', 'total_duration': 1293788667, 'load_duration': 53596459, 'prompt_eval_count': 572, 'prompt_eval_duration': 697172417, 'eval_count': 35, 'eval_duration': 542567917, 'message': Message(role='assistant', content='', images=None, tool_calls=None), 'model_name': 'gemma3'}, id='run-8423e395-4882-429a-882c-043effaa45cd-0', usage_metadata={'input_tokens': 572, 'output_tokens': 35, 'total_tokens': 607})}\n"
     ]
    }
   ],
   "source": [
    "# 질문 \n",
    "question = \"최저임금 적용 제외 근로자는?\"\n",
    "response = rag_chain.invoke(\n",
    "    question,\n",
    "    config={\"callbacks\":[langfuse_handler]}\n",
    ")\n",
    "print(response)"
   ]
  },
  {
   "cell_type": "code",
   "execution_count": 33,
   "id": "0acfe17f",
   "metadata": {},
   "outputs": [
    {
     "name": "stdout",
     "output_type": "stream",
     "text": [
      "정신 또는 신체장애로 근로능력이 현저히 낮아 고용노동부장관의 적용제외 인가를 받은 사람입니다.\n"
     ]
    }
   ],
   "source": [
    "print(response[\"answer\"].content) "
   ]
  }
 ],
 "metadata": {
  "kernelspec": {
   "display_name": "Python 3 (ipykernel)",
   "language": "python",
   "name": "python3"
  },
  "language_info": {
   "codemirror_mode": {
    "name": "ipython",
    "version": 3
   },
   "file_extension": ".py",
   "mimetype": "text/x-python",
   "name": "python",
   "nbconvert_exporter": "python",
   "pygments_lexer": "ipython3",
   "version": "3.12.9"
  }
 },
 "nbformat": 4,
 "nbformat_minor": 5
}
